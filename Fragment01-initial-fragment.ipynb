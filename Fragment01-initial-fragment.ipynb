{
 "cells": [
  {
   "cell_type": "markdown",
   "metadata": {},
   "source": [
    "# Fragment 1: Initial fragment\n",
    "\n",
    "This is the initial fragment that will be progressively extended along the paper.\n",
    "\n",
    "This fragment is able to interpret the following sentences:\n",
    "* \"John runs and Mary doesn't run\" as `(run john)∧¬(run mary)`\n",
    "* \"the dog runs\" as `run dog`\n",
    "* \"John loves Mary\" as `love john mary`\n",
    "\n",
    "## Parsing"
   ]
  },
  {
   "cell_type": "code",
   "execution_count": 1,
   "metadata": {},
   "outputs": [
    {
     "data": {
      "text/plain": [
       "Defined TestGrammar"
      ]
     },
     "metadata": {},
     "output_type": "display_data"
    }
   ],
   "source": [
    "abstract TestGrammar = {\n",
    "    cat\n",
    "        S;     -- Sentence\n",
    "        Vi;    -- Intransitive verb\n",
    "        Vt;    -- Transitive verb\n",
    "        VP;    -- Verb phrase\n",
    "        Npr;   -- Proper noun\n",
    "        N;     -- Common noun\n",
    "        NP;    -- Noun phrase\n",
    "        Conj;  -- Conjunction\n",
    "    fun\n",
    "        -- Positive sentence: \"John runs\"\n",
    "        spos : NP -> VP -> S;\n",
    "        -- Negative sentence: \"John doesn't run\"\n",
    "        sneg : NP -> VP -> S;\n",
    "        -- Connected sentence:\n",
    "        -- \"John runs and Mary doesn't run\"\n",
    "        sconj : S -> Conj -> S -> S;\n",
    "        \n",
    "        -- Build a verb phrase from an intransitive verb: \"run\"\n",
    "        vpvi : Vi -> VP;\n",
    "        -- Build a verb phrase from a transitive verb and a noun phrase\n",
    "        -- \"love\" + \"Mary\" -> \"love Mary\"\n",
    "        vpvt : Vt -> NP -> VP;\n",
    "        \n",
    "        -- Build a noun phrase from a proper noun: \"John\"\n",
    "        npnpr : Npr -> NP;\n",
    "        -- Build a noun phrase from a common noun\n",
    "        -- \"dog\" -> \"the dog\"\n",
    "        npn : N -> NP;\n",
    "        \n",
    "        -- Verbs\n",
    "        run, jump, laugh, sing, howl, scream : Vi;\n",
    "        read, poison, eat, like, love, loath, kick, see, understand, kill : Vt;\n",
    "        -- Nouns\n",
    "        prudence, ethel, chester, jo, bertie, fiona, berta, john, mary, peter : Npr;\n",
    "        book, cake, katze, golfer, dog, lecturer, student, singer : N;\n",
    "        -- Conjunctions\n",
    "        and, or : Conj;\n",
    "}"
   ]
  },
  {
   "cell_type": "code",
   "execution_count": 2,
   "metadata": {},
   "outputs": [],
   "source": [
    "concrete TestGrammarEng of TestGrammar = {\n",
    "    oper\n",
    "        -- The type of a verb\n",
    "        VType : Type = { pos : Str ; neg : Str };\n",
    "    lincat\n",
    "        S = Str;     -- Sentence\n",
    "        Vi = VType;  -- Intransitive verb\n",
    "        Vt = VType;  -- Transitive verb\n",
    "        VP = VType;  -- Verb phrase\n",
    "        Npr = Str;   -- Proper noun\n",
    "        N = Str;     -- Common noun\n",
    "        NP = Str;    -- Noun phrase\n",
    "        Conj = Str;  -- Conjunction\n",
    "    oper\n",
    "        -- Helper function to construct verb\n",
    "        -- mkV \"run\" = { pos = \"runs\" ; neg = \"doesn't run\"}\n",
    "        mkV : Str -> VType =\n",
    "            \\v -> { pos = v + \"s\" ; neg = \"doesn't\" ++ v };\n",
    "    lin\n",
    "        -- Positive sentence: \"John runs\"\n",
    "        -- spos : NP -> VP -> S\n",
    "        spos npr v = npr ++ v.pos;\n",
    "        -- Negative sentence: \"John doesn't run\"\n",
    "        -- sneg : NP -> VP -> S\n",
    "        sneg npr v = npr ++ v.neg;\n",
    "        -- Connected sentence:\n",
    "        -- \"John runs and Mary doesn't run\"\n",
    "        -- sconj : S -> Conj -> S -> S\n",
    "        sconj s1 c s2 = s1 ++ c ++ s2;\n",
    "        \n",
    "        -- Build a verb phrase from an intransitive verb: \"run\"\n",
    "        -- vpvi : Vi -> VP\n",
    "        vpvi v = v;\n",
    "        -- Build a verb phrase from a transitive verb and a noun phrase\n",
    "        -- \"love\" + \"Mary\" -> \"love Mary\"\n",
    "        -- vpvt : Vt -> NP -> VP\n",
    "        vpvt v np = { pos = v.pos ++ np ; neg = v.neg ++ np };\n",
    "        \n",
    "        -- Build a noun phrase from a proper noun: \"John\"\n",
    "        -- npnpr : Npr -> NP\n",
    "        npnpr npr = npr;\n",
    "        -- Build a noun phrase from a common noun\n",
    "        -- \"dog\" -> \"the dog\"\n",
    "        -- npn : N -> NP\n",
    "        npn n = \"the\" ++ n;\n",
    "        \n",
    "        -- Verbs\n",
    "        run = mkV \"run\"; jump = mkV \"jump\"; laugh = mkV \"laugh\"; sing = mkV \"sing\"; howl = mkV \"howl\"; scream = mkV \"scream\";\n",
    "        read = mkV \"read\"; poison = mkV \"poison\"; eat = mkV \"eat\"; like = mkV \"like\"; love = mkV \"love\"; loath = mkV \"loath\";\n",
    "        kick = mkV \"kick\"; see = mkV \"see\"; understand = mkV \"understand\"; kill = mkV \"kill\";\n",
    "        -- Nouns\n",
    "        prudence = \"Prudence\"; ethel = \"Ethel\"; chester = \"Chester\"; jo = \"Jo\"; bertie = \"Bertie\"; fiona = \"Fiona\"; berta = \"Berta\";\n",
    "        john = \"John\"; mary = \"Mary\"; peter = \"Peter\";\n",
    "        book = \"book\"; cake = \"cake\"; katze = \"cat\"; golfer = \"golfer\"; dog = \"dog\"; lecturer = \"lecturer\"; student = \"student\";\n",
    "        singer = \"singer\"; \n",
    "        -- Conjunctions\n",
    "        and = \"and\"; or = \"or\";\n",
    "}"
   ]
  },
  {
   "cell_type": "markdown",
   "metadata": {},
   "source": [
    "### Parsing test cases"
   ]
  },
  {
   "cell_type": "code",
   "execution_count": 3,
   "metadata": {},
   "outputs": [
    {
     "data": {
      "text/plain": [
       "spos (npnpr john) (vpvi run)"
      ]
     },
     "metadata": {},
     "output_type": "display_data"
    }
   ],
   "source": [
    "parse \"John runs\""
   ]
  },
  {
   "cell_type": "code",
   "execution_count": 4,
   "metadata": {},
   "outputs": [
    {
     "data": {
      "text/plain": [
       "sneg (npnpr john) (vpvi run)"
      ]
     },
     "metadata": {},
     "output_type": "display_data"
    }
   ],
   "source": [
    "parse \"John doesn't run\""
   ]
  },
  {
   "cell_type": "code",
   "execution_count": 5,
   "metadata": {},
   "outputs": [
    {
     "data": {
      "text/plain": [
       "sconj (spos (npnpr john) (vpvi run)) and (sneg (npnpr mary) (vpvi run))"
      ]
     },
     "metadata": {},
     "output_type": "display_data"
    }
   ],
   "source": [
    "parse \"John runs and Mary doesn't run\""
   ]
  },
  {
   "cell_type": "code",
   "execution_count": 6,
   "metadata": {},
   "outputs": [
    {
     "data": {
      "text/plain": [
       "sconj (sneg (npnpr john) (vpvi jump)) or (spos (npnpr mary) (vpvi run))"
      ]
     },
     "metadata": {},
     "output_type": "display_data"
    }
   ],
   "source": [
    "parse \"John doesn't jump or Mary runs\""
   ]
  },
  {
   "cell_type": "code",
   "execution_count": 7,
   "metadata": {},
   "outputs": [
    {
     "data": {
      "text/plain": [
       "spos (npn dog) (vpvi run)"
      ]
     },
     "metadata": {},
     "output_type": "display_data"
    }
   ],
   "source": [
    "parse \"the dog runs\""
   ]
  },
  {
   "cell_type": "code",
   "execution_count": 8,
   "metadata": {},
   "outputs": [
    {
     "data": {
      "text/plain": [
       "spos (npnpr john) (vpvt love (npnpr mary))"
      ]
     },
     "metadata": {},
     "output_type": "display_data"
    }
   ],
   "source": [
    "parse \"John loves Mary\""
   ]
  },
  {
   "cell_type": "code",
   "execution_count": 9,
   "metadata": {},
   "outputs": [
    {
     "data": {
      "text/plain": [
       "sconj (spos (npnpr john) (vpvt love (npnpr mary))) and (sneg (npnpr mary) (vpvt love (npnpr john)))"
      ]
     },
     "metadata": {},
     "output_type": "display_data"
    }
   ],
   "source": [
    "parse \"John loves Mary and Mary doesn't love John\""
   ]
  },
  {
   "cell_type": "markdown",
   "metadata": {},
   "source": [
    "## Semantics construction"
   ]
  },
  {
   "cell_type": "code",
   "execution_count": 10,
   "metadata": {},
   "outputs": [
    {
     "data": {
      "text/plain": [
       "Created theory plnq"
      ]
     },
     "metadata": {},
     "output_type": "display_data"
    }
   ],
   "source": [
    "theory plnq : ur:?LF =\n",
    "    proposition : type ❘ # o ❙\n",
    "    individual : type ❘ # ι ❙\n",
    "    \n",
    "    not : o ⟶ o         ❘ # ¬ 1 prec 100 ❙\n",
    "    and : o ⟶ o ⟶ o     ❘ # 1 ∧ 2 prec 90 ❙\n",
    "    \n",
    "    or : o ⟶ o ⟶ o      ❘ # 1 ∨ 2 prec 80\n",
    "                        ❘ = [a,b] ¬ (¬ a ∧ ¬ b) ❙\n",
    "❚\n",
    "\n",
    "theory plnqTest : ?plnq =\n",
    "    // individuals ❙\n",
    "    prudence : ι ❙ ethel : ι ❙ chester : ι ❙ jo : ι ❙ bertie : ι ❙ fiona : ι ❙ berta : ι ❙ john : ι ❙ mary : ι ❙ peter : ι ❙\n",
    "    book : ι ❙ cake : ι ❙ cat : ι ❙ golfer : ι ❙ dog : ι ❙ lecturer : ι ❙ student : ι ❙ singer : ι ❙\n",
    "    // verbs ❙\n",
    "    run : ι ⟶ o ❙ jump : ι ⟶ o ❙ laugh : ι ⟶ o ❙ sing : ι ⟶ o ❙ howl : ι ⟶ o ❙ scream : ι ⟶ o ❙\n",
    "    read : ι ⟶ ι ⟶ o ❙ poison : ι ⟶ ι ⟶ o ❙ eat : ι ⟶ ι ⟶ o ❙ like : ι ⟶ ι ⟶ o ❙ love : ι ⟶ ι ⟶ o ❙ loath : ι ⟶ ι ⟶ o ❙\n",
    "    kick : ι ⟶ ι ⟶ o ❙ see : ι ⟶ ι ⟶ o ❙ understand : ι ⟶ ι ⟶ o ❙ kill : ι ⟶ ι ⟶ o ❙\n",
    "❚"
   ]
  },
  {
   "cell_type": "code",
   "execution_count": 11,
   "metadata": {},
   "outputs": [
    {
     "data": {
      "text/plain": [
       "Created view semantics"
      ]
     },
     "metadata": {},
     "output_type": "display_data"
    }
   ],
   "source": [
    "view semantics : http://mathhub.info/comma/jupyter/TestGrammar.gf?TestGrammar -> ?plnqTest =\n",
    "    S = o ❙             // Sentence ❙\n",
    "    Vi = ι ⟶ o ❙        // Intransitive verb ❙\n",
    "    Vt = ι ⟶ ι ⟶ o ❙    // Transitive verb ❙\n",
    "    VP = ι ⟶ o ❙        // Verb phrase ❙\n",
    "    Npr = ι ❙           // Proper noun ❙\n",
    "    N = ι ❙             // Common noun, as a simplification modeled incorrectly\n",
    "                        // as an individual ❙\n",
    "    NP = ι ❙            // Noun phrase ❙\n",
    "    Conj = o ⟶ o ⟶ o ❙  // Conjunction ❙\n",
    "    \n",
    "    // Positive sentence: \"John runs\"\n",
    "    // spos : Npr -> V -> S ❙\n",
    "    spos = [npr, v] v npr ❙\n",
    "    // Negative sentence: \"John doesn't run\"\n",
    "    // sneg : Npr -> V -> S ❙\n",
    "    sneg = [npr, v] ¬(v npr) ❙\n",
    "    // Connected sentence:\n",
    "    // \"John runs and Mary doesn't run\"\n",
    "    // sconj : S -> Conj -> S -> S ❙\n",
    "    sconj = [s1, conj, s2] conj s1 s2 ❙\n",
    "    \n",
    "    // Build a verb phrase from an intransitive verb: \"run\"\n",
    "    // vpvi : Vi -> VP ❙\n",
    "    vpvi = [v] v ❙\n",
    "    // Build a verb phrase from a transitive verb and a noun phrase\n",
    "    // \"love\" + \"Mary\" -> \"love Mary\"\n",
    "    // vpvt : Vt -> NP -> VP ❙\n",
    "    vpvt = [vt, addressee] [actor] vt actor addressee ❙\n",
    "        \n",
    "    // Build a noun phrase from a proper noun: \"John\"\n",
    "    // npnpr : Npr -> NP ❙\n",
    "    npnpr = [npr] npr ❙\n",
    "    // Build a noun phrase from a common noun\n",
    "    // \"dog\" -> \"the dog\"\n",
    "    // npn : N -> NP ❙\n",
    "    npn = [n] n ❙\n",
    "    \n",
    "    // Verbs ❙\n",
    "    run = run ❙ jump = jump ❙ laugh = laugh ❙ sing = sing ❙ howl = howl ❙ scream = scream ❙\n",
    "    read = read ❙ poison = poison ❙ eat = eat ❙ like = like ❙ love = love ❙ loath = loath ❙ kick = kick ❙ see = see ❙ understand = understand ❙ kill = kill ❙\n",
    "    // Nouns ❙\n",
    "    prudence = prudence ❙ ethel = ethel ❙ chester = chester ❙ jo = jo ❙ bertie = bertie ❙ fiona = fiona ❙ berta = berta ❙ john = john ❙ mary = mary ❙ peter = peter ❙\n",
    "    book = book ❙ cake = cake ❙ katze = cat ❙ golfer = golfer ❙ dog = dog ❙ lecturer = lecturer ❙ student = student ❙ singer = singer ❙\n",
    "    // Conjunctions ❙\n",
    "    and = and ❙ or = or ❙\n",
    "❚"
   ]
  },
  {
   "cell_type": "markdown",
   "metadata": {},
   "source": [
    "### Semantics construction test cases"
   ]
  },
  {
   "cell_type": "code",
   "execution_count": 12,
   "metadata": {},
   "outputs": [
    {
     "data": {
      "text/plain": [
       "run john"
      ]
     },
     "metadata": {},
     "output_type": "display_data"
    }
   ],
   "source": [
    "parse \"John runs\" | construct"
   ]
  },
  {
   "cell_type": "code",
   "execution_count": 13,
   "metadata": {},
   "outputs": [
    {
     "data": {
      "text/plain": [
       "¬(run john)"
      ]
     },
     "metadata": {},
     "output_type": "display_data"
    }
   ],
   "source": [
    "parse \"John doesn't run\" | construct"
   ]
  },
  {
   "cell_type": "code",
   "execution_count": 14,
   "metadata": {},
   "outputs": [
    {
     "data": {
      "text/plain": [
       "(run john)∧¬(run mary)"
      ]
     },
     "metadata": {},
     "output_type": "display_data"
    }
   ],
   "source": [
    "parse \"John runs and Mary doesn't run\" | construct"
   ]
  },
  {
   "cell_type": "code",
   "execution_count": 15,
   "metadata": {},
   "outputs": [
    {
     "data": {
      "text/plain": [
       "¬(jump john)∨(run mary)"
      ]
     },
     "metadata": {},
     "output_type": "display_data"
    }
   ],
   "source": [
    "parse \"John doesn't jump or Mary runs\" | construct"
   ]
  },
  {
   "cell_type": "code",
   "execution_count": 16,
   "metadata": {},
   "outputs": [
    {
     "data": {
      "text/plain": [
       "run dog"
      ]
     },
     "metadata": {},
     "output_type": "display_data"
    }
   ],
   "source": [
    "parse \"the dog runs\" | construct"
   ]
  },
  {
   "cell_type": "code",
   "execution_count": 17,
   "metadata": {},
   "outputs": [
    {
     "data": {
      "text/plain": [
       "love john mary"
      ]
     },
     "metadata": {},
     "output_type": "display_data"
    }
   ],
   "source": [
    "parse \"John loves Mary\" | construct"
   ]
  },
  {
   "cell_type": "code",
   "execution_count": 18,
   "metadata": {},
   "outputs": [
    {
     "data": {
      "text/plain": [
       "(love john mary)∧¬(love mary john)"
      ]
     },
     "metadata": {},
     "output_type": "display_data"
    }
   ],
   "source": [
    "parse \"John loves Mary and Mary doesn't love John\" | construct"
   ]
  }
 ],
 "metadata": {
  "kernelspec": {
   "display_name": "GLIF",
   "language": "gf",
   "name": "glif"
  },
  "language_info": {
   "codemirror_mode": {
    "name": "gf",
    "version": 3
   },
   "file_extension": ".gf",
   "mimetype": "text/gf",
   "name": "gf"
  }
 },
 "nbformat": 4,
 "nbformat_minor": 4
}
