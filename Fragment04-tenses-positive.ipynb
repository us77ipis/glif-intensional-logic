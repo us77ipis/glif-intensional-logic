{
 "cells": [
  {
   "cell_type": "markdown",
   "metadata": {},
   "source": [
    "# Fragment 4\n",
    "\n",
    "This fragment introduces tenses but breaks negative forms.\n",
    "\n",
    "This fragment is able to interpret the following sentences from the previous fragment:\n",
    "* (broken) \"John runs and Mary doesn't run\" as `(run john)∧¬(run mary)`\n",
    "* \"the dog runs\" as `run dog`\n",
    "* \"John loves Mary\" as `love john mary`\n",
    "* \"it is necessary that John runs\" as `□(run john)`\n",
    "* (broken) \"it is not possible that the dog kills John\" as `¬◇(kill dog john)`\n",
    "* (broken) \"it is not the case that John loves Mary\" as `¬(love john mary)`\n",
    "* \"John has to run\" as `□(run john)`\n",
    "* (broken) \"the dog is not allowed to kill John\" as `¬◇(kill dog john)`\n",
    "* \"John has to be allowed to run\" as `□◇(run john)`\n",
    "\n",
    "This fragment is able to interpret the following new sentences:\n",
    "* \"John will run\" as `F(run john)`\n",
    "* \"John ran\" as `P(run john)`\n",
    "* \"John had run\" as `PP(run john)`\n",
    "* \"John will have run\" as `FP(run john)`\n",
    "* \"John would run\" as `PF(run john)`\n",
    "* \"John would have run\" as `PFP(run john)`\n",
    "* \"John had to run\" as `P□(run john)`\n",
    "* \"John had had to run\" as `PP□(run john)`\n",
    "* \"John will have to run\" as `F□(run john)`\n",
    "* \"John will have had to run\" as `FP□(run john)`\n",
    "* \"John will be allowed to run\" as `F◇(run john)`\n",
    "* \"John was allowed to run\" as `P◇(run john)`\n",
    "\n",
    "## Parsing"
   ]
  },
  {
   "cell_type": "code",
   "execution_count": 1,
   "metadata": {},
   "outputs": [
    {
     "data": {
      "text/plain": [
       "Defined TensesGrammar"
      ]
     },
     "metadata": {},
     "output_type": "display_data"
    }
   ],
   "source": [
    "abstract TensesGrammar = {\n",
    "    cat\n",
    "        S;     -- Sentence\n",
    "        SMod;  -- Sentence modifier\n",
    "        Vi;    -- Intransitive verb\n",
    "        Vt;    -- Transitive verb\n",
    "        Vmod;  -- Modal verb\n",
    "        VP;    -- Verb phrase\n",
    "        Npr;   -- Proper noun\n",
    "        N;     -- Common noun\n",
    "        NP;    -- Noun phrase\n",
    "        Conj;  -- Conjunction\n",
    "    fun\n",
    "        -- Positive sentence: \"John runs\"\n",
    "        spos : NP -> VP -> S;\n",
    "        -- Negative sentence: \"John doesn't run\"\n",
    "        --sneg : NP -> VP -> S;\n",
    "        -- Connected sentence:\n",
    "        -- \"John runs and Mary doesn't run\"\n",
    "        sconj : S -> Conj -> S -> S;\n",
    "        -- Positive modified sentence: \"it is necessary that John runs\"\n",
    "        smodpos : SMod -> S -> S;\n",
    "        -- Negative modified sentence: \"it is not necessary that John runs\"\n",
    "        --smodneg : SMod -> S -> S;\n",
    "        \n",
    "        -- Build a verb phrase from an intransitive verb: \"run\"\n",
    "        vpvi : Vi -> VP;\n",
    "        -- Build a verb phrase from a transitive verb and a noun phrase\n",
    "        -- \"love\" + \"Mary\" -> \"love Mary\"\n",
    "        vpvt : Vt -> NP -> VP;\n",
    "        -- Apply the past tense operator\n",
    "        vppast : VP -> VP;\n",
    "        -- apply the future tense operator\n",
    "        vpfut : VP -> VP;\n",
    "        -- Apply a modal verb to an existing verb phrase\n",
    "        -- \"have to\" + \"run\" -> \"have to run\"\n",
    "        vpvmod : Vmod -> VP -> VP;\n",
    "        \n",
    "        -- Build a noun phrase from a proper noun: \"John\"\n",
    "        npnpr : Npr -> NP;\n",
    "        -- Build a noun phrase from a common noun\n",
    "        -- \"dog\" -> \"the dog\"\n",
    "        npn : N -> NP;\n",
    "        \n",
    "        -- Verbs\n",
    "        run, jump, laugh, sing, howl, scream : Vi;\n",
    "        read, poison, eat, like, love, loath, kick, see, understand, kill : Vt;\n",
    "        haveto, beallowedto : Vmod;\n",
    "        bepossible, benecessary, bethecase : SMod;\n",
    "        -- Nouns\n",
    "        prudence, ethel, chester, jo, bertie, fiona, berta, john, mary, peter : Npr;\n",
    "        book, cake, katze, golfer, dog, lecturer, student, singer : N;\n",
    "        -- Conjunctions\n",
    "        and, or : Conj;\n",
    "}"
   ]
  },
  {
   "cell_type": "code",
   "execution_count": 2,
   "metadata": {},
   "outputs": [],
   "source": [
    "concrete TensesGrammarEng of TensesGrammar = {\n",
    "    param\n",
    "        Tense = Present | Past | Future;\n",
    "    oper\n",
    "        -- The type of a verb\n",
    "        VType : Type = {\n",
    "            base : Str;\n",
    "            singleTense : Tense => Str;\n",
    "            doubleTense : Tense => Tense => Str;\n",
    "            tripleTense : Tense => Tense => Tense => Str\n",
    "        };\n",
    "    lincat\n",
    "        S = Str;        -- Sentence\n",
    "        SMod = VType;   -- Sentence modifier\n",
    "        Vi = VType;     -- Intransitive verb\n",
    "        Vt = VType;     -- Transitive verb\n",
    "        Vmod = VType;   -- Modal verb\n",
    "        VP = VType;     -- Verb phrase\n",
    "        Npr = Str;      -- Proper noun\n",
    "        N = Str;        -- Common noun\n",
    "        NP = Str;       -- Noun phrase\n",
    "        Conj = Str;     -- Conjunction\n",
    "    oper\n",
    "        -- None workaround\n",
    "        None : Str = \"[ERROR]\";\n",
    "        \n",
    "        -- Helper function to construct a verb\n",
    "        mkV_ : Str -> Str -> Str -> Str -> VType = \\vb,vpart,vpres,vpast -> {\n",
    "            base = vb;\n",
    "            singleTense = table {\n",
    "                Present => vpres;\n",
    "                Past => vpast;\n",
    "                Future => \"will\" ++ vb\n",
    "            };\n",
    "            doubleTense = table {\n",
    "                Present => \\\\_ => None;\n",
    "                Past => table {\n",
    "                    Present => None;\n",
    "                    Past => \"had\" ++ vpart;\n",
    "                    Future => \"will have\" ++ vpart\n",
    "                };\n",
    "                Future => table {\n",
    "                    Past => \"would\" ++ vb;\n",
    "                    _ => None\n",
    "                }\n",
    "            };\n",
    "            tripleTense = table {\n",
    "                Present => \\\\_,_ => None;\n",
    "                Past => table {\n",
    "                    Present => \\\\_ => None;\n",
    "                    Past => \\\\_ => None;\n",
    "                    Future => table {\n",
    "                        Past => \"would have\" ++ vb;\n",
    "                        _ => None\n",
    "                    }\n",
    "                };\n",
    "                Future => \\\\_,_ => None\n",
    "            }\n",
    "        };\n",
    "        \n",
    "        -- Helper function to construct a verb\n",
    "        mkV = overload {\n",
    "            mkV : Str -> Str -> Str -> VType =\n",
    "                \\vb,vpast,vpart -> mkV_ vb vpart (vb + \"s\") vpast;\n",
    "            mkV : Str -> Str -> Str -> Str -> VType =\n",
    "                \\vb,vpres,vpast,vpart -> mkV_ vb vpart vpres vpast;\n",
    "        };\n",
    "        -- Helper function to construct a be verb\n",
    "        -- mkBeV \"possible\" = { pos = \"is possible\" ; neg = \"is not possible\"}\n",
    "        mkBeV : Str -> VType = \\s -> mkV (\"be\" ++ s) (\"is\" ++ s) (\"was\" ++ s) (\"been\" ++ s);\n",
    "        \n",
    "        -- Helper function to apply a tense operator to a verb\n",
    "        applyTense : VType -> Tense -> VType = \\v,tense -> {\n",
    "            base = None;\n",
    "            singleTense = table {\n",
    "                Present => v.singleTense ! tense;\n",
    "                x => v.doubleTense ! tense ! x\n",
    "            };\n",
    "            doubleTense = v.tripleTense ! tense;\n",
    "            tripleTense = \\\\_,_,_ => None\n",
    "        };\n",
    "        \n",
    "        -- Helper function to append a string to verb\n",
    "        vpconcat : VType -> Str -> VType = \\v,s -> {\n",
    "            base = v.base ++ s;\n",
    "            singleTense = \\\\t => v.singleTense ! t ++ s;\n",
    "            doubleTense = \\\\t1,t2 => v.doubleTense ! t1 ! t2 ++ s;\n",
    "            tripleTense = \\\\t1,t2,t3 => v.tripleTense ! t1 ! t2 ! t3 ++ s;\n",
    "        };\n",
    "    lin\n",
    "        -- Positive sentence: \"John runs\"\n",
    "        -- spos : NP -> VP -> S\n",
    "        spos npr v = npr ++ v.singleTense ! Present;\n",
    "        -- Negative sentence: \"John doesn't run\"\n",
    "        -- sneg : NP -> VP -> S\n",
    "        --sneg npr v = npr ++ v.neg;\n",
    "        -- Connected sentence:\n",
    "        -- \"John runs and Mary doesn't run\"\n",
    "        -- sconj : S -> Conj -> S -> S\n",
    "        sconj s1 c s2 = s1 ++ c ++ s2;\n",
    "        -- Positive modified sentence: \"it is necessary that John runs\"\n",
    "        -- smodpos : SMod -> S -> S\n",
    "        smodpos smod s = \"it\" ++ smod.singleTense ! Present ++ \"that\" ++ s;\n",
    "        -- Negative modified sentence: \"it is not necessary that John runs\"\n",
    "        -- smodneg : SMod -> S -> S\n",
    "        --smodneg smod s = \"it\" ++ smod.neg ++ \"that\" ++ s;\n",
    "        \n",
    "        -- Build a verb phrase from an intransitive verb: \"run\"\n",
    "        -- vpvi : Vi -> VP\n",
    "        vpvi v = v;\n",
    "        -- Build a verb phrase from a transitive verb and a noun phrase\n",
    "        -- \"love\" + \"Mary\" -> \"love Mary\"\n",
    "        -- vpvt : Vt -> NP -> VP\n",
    "        vpvt v np = vpconcat v np;\n",
    "        -- Apply the past tense operator\n",
    "        -- vppast : VP -> VP\n",
    "        vppast vp = applyTense vp Past;\n",
    "        -- apply the future tense operator\n",
    "        -- vpfut : VP -> VP\n",
    "        vpfut vp = applyTense vp Future;\n",
    "        -- Apply a modal verb to an existing verb phrase\n",
    "        -- \"have to\" + \"run\" -> \"have to run\"\n",
    "        -- vpvmod : Vmod -> VP -> VP\n",
    "        vpvmod vmod vp = vpconcat vmod vp.base;\n",
    "        \n",
    "        -- Build a noun phrase from a proper noun: \"John\"\n",
    "        -- npnpr : Npr -> NP\n",
    "        npnpr npr = npr;\n",
    "        -- Build a noun phrase from a common noun\n",
    "        -- \"dog\" -> \"the dog\"\n",
    "        -- npn : N -> NP\n",
    "        npn n = \"the\" ++ n;\n",
    "        \n",
    "        -- Intrasitive verbs\n",
    "        run = mkV \"run\" \"ran\" \"run\"; jump = mkV \"jump\" \"jumped\" \"jumped\"; laugh = mkV \"laugh\" \"laughed\" \"laughed\";\n",
    "        sing = mkV \"sing\" \"sang\" \"sung\"; howl = mkV \"howl\" \"howled\" \"howled\"; scream = mkV \"scream\" \"screamed\" \"screamed\";\n",
    "        -- Transitive verbs\n",
    "        read = mkV \"read\" \"read\" \"read\"; poison = mkV \"poison\" \"poisoned\" \"poisoned\"; eat = mkV \"eat\" \"ate\" \"eaten\";\n",
    "        like = mkV \"like\" \"liked\" \"liked\"; love = mkV \"love\" \"loved\" \"loved\"; loath = mkV \"loath\" \"loathed\" \"loathed\";\n",
    "        kick = mkV \"kick\" \"kicked\" \"kicked\"; see = mkV \"see\" \"saw\" \"seen\"; understand = mkV \"understand\" \"understood\" \"understood\";\n",
    "        kill = mkV \"kill\" \"killed\" \"killed\";\n",
    "        -- Modal verbs\n",
    "        haveto = mkV \"have to\" \"has to\" \"had to\" \"had to\"; beallowedto = mkBeV \"allowed to\";\n",
    "        bepossible = mkBeV \"possible\"; benecessary = mkBeV \"necessary\"; bethecase = mkBeV \"the case\";\n",
    "        -- Nouns\n",
    "        prudence = \"Prudence\"; ethel = \"Ethel\"; chester = \"Chester\"; jo = \"Jo\"; bertie = \"Bertie\"; fiona = \"Fiona\"; berta = \"Berta\";\n",
    "        john = \"John\"; mary = \"Mary\"; peter = \"Peter\";\n",
    "        book = \"book\"; cake = \"cake\"; katze = \"cat\"; golfer = \"golfer\"; dog = \"dog\"; lecturer = \"lecturer\"; student = \"student\";\n",
    "        singer = \"singer\"; \n",
    "        -- Conjunctions\n",
    "        and = \"and\"; or = \"or\";\n",
    "}"
   ]
  },
  {
   "cell_type": "markdown",
   "metadata": {},
   "source": [
    "### Parsing test cases (old)"
   ]
  },
  {
   "cell_type": "code",
   "execution_count": 3,
   "metadata": {},
   "outputs": [
    {
     "data": {
      "text/plain": [
       "spos (npnpr john) (vpvi run)"
      ]
     },
     "metadata": {},
     "output_type": "display_data"
    }
   ],
   "source": [
    "parse \"John runs\""
   ]
  },
  {
   "cell_type": "code",
   "execution_count": 4,
   "metadata": {},
   "outputs": [
    {
     "data": {
      "text/plain": [
       "The parser failed at token 2: \"doesn't\""
      ]
     },
     "metadata": {},
     "output_type": "display_data"
    }
   ],
   "source": [
    "parse \"John doesn't run\""
   ]
  },
  {
   "cell_type": "code",
   "execution_count": 5,
   "metadata": {},
   "outputs": [
    {
     "data": {
      "text/plain": [
       "The parser failed at token 5: \"doesn't\""
      ]
     },
     "metadata": {},
     "output_type": "display_data"
    }
   ],
   "source": [
    "parse \"John runs and Mary doesn't run\""
   ]
  },
  {
   "cell_type": "code",
   "execution_count": 6,
   "metadata": {},
   "outputs": [
    {
     "data": {
      "text/plain": [
       "The parser failed at token 2: \"doesn't\""
      ]
     },
     "metadata": {},
     "output_type": "display_data"
    }
   ],
   "source": [
    "parse \"John doesn't jump or Mary runs\""
   ]
  },
  {
   "cell_type": "code",
   "execution_count": 7,
   "metadata": {},
   "outputs": [
    {
     "data": {
      "text/plain": [
       "spos (npn dog) (vpvi run)"
      ]
     },
     "metadata": {},
     "output_type": "display_data"
    }
   ],
   "source": [
    "parse \"the dog runs\""
   ]
  },
  {
   "cell_type": "code",
   "execution_count": 8,
   "metadata": {},
   "outputs": [
    {
     "data": {
      "text/plain": [
       "spos (npnpr john) (vpvt love (npnpr mary))"
      ]
     },
     "metadata": {},
     "output_type": "display_data"
    }
   ],
   "source": [
    "parse \"John loves Mary\""
   ]
  },
  {
   "cell_type": "code",
   "execution_count": 9,
   "metadata": {},
   "outputs": [
    {
     "data": {
      "text/plain": [
       "The parser failed at token 6: \"doesn't\""
      ]
     },
     "metadata": {},
     "output_type": "display_data"
    }
   ],
   "source": [
    "parse \"John loves Mary and Mary doesn't love John\""
   ]
  },
  {
   "cell_type": "code",
   "execution_count": 10,
   "metadata": {},
   "outputs": [
    {
     "data": {
      "text/plain": [
       "smodpos benecessary (spos (npnpr john) (vpvi run))"
      ]
     },
     "metadata": {},
     "output_type": "display_data"
    }
   ],
   "source": [
    "parse \"it is necessary that John runs\""
   ]
  },
  {
   "cell_type": "code",
   "execution_count": 11,
   "metadata": {},
   "outputs": [
    {
     "data": {
      "text/plain": [
       "The parser failed at token 3: \"not\""
      ]
     },
     "metadata": {},
     "output_type": "display_data"
    }
   ],
   "source": [
    "parse \"it is not possible that the dog kills John\""
   ]
  },
  {
   "cell_type": "code",
   "execution_count": 12,
   "metadata": {},
   "outputs": [
    {
     "data": {
      "text/plain": [
       "The parser failed at token 3: \"not\""
      ]
     },
     "metadata": {},
     "output_type": "display_data"
    }
   ],
   "source": [
    "parse \"it is not the case that John loves Mary\""
   ]
  },
  {
   "cell_type": "code",
   "execution_count": 13,
   "metadata": {},
   "outputs": [
    {
     "data": {
      "text/plain": [
       "spos (npnpr john) (vpvmod haveto (vpvi run))"
      ]
     },
     "metadata": {},
     "output_type": "display_data"
    }
   ],
   "source": [
    "parse \"John has to run\""
   ]
  },
  {
   "cell_type": "code",
   "execution_count": 14,
   "metadata": {},
   "outputs": [
    {
     "data": {
      "text/plain": [
       "The parser failed at token 4: \"not\""
      ]
     },
     "metadata": {},
     "output_type": "display_data"
    }
   ],
   "source": [
    "parse \"the dog is not allowed to kill John\""
   ]
  },
  {
   "cell_type": "code",
   "execution_count": 15,
   "metadata": {},
   "outputs": [
    {
     "data": {
      "text/plain": [
       "spos (npnpr john) (vpvmod haveto (vpvmod beallowedto (vpvi run)))"
      ]
     },
     "metadata": {},
     "output_type": "display_data"
    }
   ],
   "source": [
    "parse \"John has to be allowed to run\""
   ]
  },
  {
   "cell_type": "markdown",
   "metadata": {},
   "source": [
    "### Parsing test cases (new)"
   ]
  },
  {
   "cell_type": "code",
   "execution_count": 16,
   "metadata": {},
   "outputs": [
    {
     "data": {
      "text/plain": [
       "spos (npnpr john) (vpfut (vpvi run))"
      ]
     },
     "metadata": {},
     "output_type": "display_data"
    }
   ],
   "source": [
    "parse \"John will run\""
   ]
  },
  {
   "cell_type": "code",
   "execution_count": 17,
   "metadata": {},
   "outputs": [
    {
     "data": {
      "text/plain": [
       "spos (npnpr john) (vppast (vpvi run))"
      ]
     },
     "metadata": {},
     "output_type": "display_data"
    }
   ],
   "source": [
    "parse \"John ran\""
   ]
  },
  {
   "cell_type": "code",
   "execution_count": 18,
   "metadata": {},
   "outputs": [
    {
     "data": {
      "text/plain": [
       "spos (npnpr john) (vppast (vppast (vpvi run)))"
      ]
     },
     "metadata": {},
     "output_type": "display_data"
    }
   ],
   "source": [
    "parse \"John had run\""
   ]
  },
  {
   "cell_type": "code",
   "execution_count": 19,
   "metadata": {},
   "outputs": [
    {
     "data": {
      "text/plain": [
       "spos (npnpr john) (vpfut (vppast (vpvi run)))"
      ]
     },
     "metadata": {},
     "output_type": "display_data"
    }
   ],
   "source": [
    "parse \"John will have run\""
   ]
  },
  {
   "cell_type": "code",
   "execution_count": 20,
   "metadata": {},
   "outputs": [
    {
     "data": {
      "text/plain": [
       "spos (npnpr john) (vppast (vpfut (vpvi run)))"
      ]
     },
     "metadata": {},
     "output_type": "display_data"
    }
   ],
   "source": [
    "parse \"John would run\""
   ]
  },
  {
   "cell_type": "code",
   "execution_count": 21,
   "metadata": {},
   "outputs": [
    {
     "data": {
      "text/plain": [
       "spos (npnpr john) (vppast (vpfut (vppast (vpvi run))))"
      ]
     },
     "metadata": {},
     "output_type": "display_data"
    }
   ],
   "source": [
    "parse \"John would have run\""
   ]
  },
  {
   "cell_type": "code",
   "execution_count": 22,
   "metadata": {},
   "outputs": [
    {
     "data": {
      "text/plain": [
       "spos (npnpr john) (vppast (vpvmod haveto (vpvi run)))"
      ]
     },
     "metadata": {},
     "output_type": "display_data"
    }
   ],
   "source": [
    "parse \"John had to run\""
   ]
  },
  {
   "cell_type": "code",
   "execution_count": 23,
   "metadata": {},
   "outputs": [
    {
     "data": {
      "text/plain": [
       "spos (npnpr john) (vppast (vppast (vpvmod haveto (vpvi run))))"
      ]
     },
     "metadata": {},
     "output_type": "display_data"
    }
   ],
   "source": [
    "parse \"John had had to run\""
   ]
  },
  {
   "cell_type": "code",
   "execution_count": 24,
   "metadata": {},
   "outputs": [
    {
     "data": {
      "text/plain": [
       "spos (npnpr john) (vpfut (vpvmod haveto (vpvi run)))"
      ]
     },
     "metadata": {},
     "output_type": "display_data"
    }
   ],
   "source": [
    "parse \"John will have to run\""
   ]
  },
  {
   "cell_type": "code",
   "execution_count": 25,
   "metadata": {},
   "outputs": [
    {
     "data": {
      "text/plain": [
       "spos (npnpr john) (vpfut (vppast (vpvmod haveto (vpvi run))))"
      ]
     },
     "metadata": {},
     "output_type": "display_data"
    }
   ],
   "source": [
    "parse \"John will have had to run\""
   ]
  },
  {
   "cell_type": "code",
   "execution_count": 26,
   "metadata": {},
   "outputs": [
    {
     "data": {
      "text/plain": [
       "spos (npnpr john) (vpfut (vpvmod beallowedto (vpvi run)))"
      ]
     },
     "metadata": {},
     "output_type": "display_data"
    }
   ],
   "source": [
    "parse \"John will be allowed to run\""
   ]
  },
  {
   "cell_type": "code",
   "execution_count": 27,
   "metadata": {},
   "outputs": [
    {
     "data": {
      "text/plain": [
       "spos (npnpr john) (vppast (vpvmod beallowedto (vpvi run)))"
      ]
     },
     "metadata": {},
     "output_type": "display_data"
    }
   ],
   "source": [
    "parse \"John was allowed to run\""
   ]
  },
  {
   "cell_type": "markdown",
   "metadata": {},
   "source": [
    "## Semantics construction"
   ]
  },
  {
   "cell_type": "code",
   "execution_count": 28,
   "metadata": {},
   "outputs": [
    {
     "data": {
      "text/plain": [
       "Created theory plnq"
      ]
     },
     "metadata": {},
     "output_type": "display_data"
    }
   ],
   "source": [
    "theory plnq : ur:?LF =\n",
    "    proposition : type ❘ # o ❙\n",
    "    individual : type ❘ # ι ❙\n",
    "    \n",
    "    not : o ⟶ o         ❘ # ¬ 1 prec 100 ❙\n",
    "    and : o ⟶ o ⟶ o     ❘ # 1 ∧ 2 prec 90 ❙\n",
    "    \n",
    "    or : o ⟶ o ⟶ o      ❘ # 1 ∨ 2 prec 80\n",
    "                        ❘ = [a,b] ¬ (¬ a ∧ ¬ b) ❙\n",
    "❚\n",
    "\n",
    "theory modalplnq : ur:?LF =\n",
    "    include ?plnq ❙\n",
    "    box : o ⟶ o     ❘ # □ 1 prec 100 ❙\n",
    "    diamond : o ⟶ o ❘ # ◇ 1 prec 100 ❙\n",
    "❚\n",
    "\n",
    "theory tenseplnq : ur:?LF =\n",
    "    include ?modalplnq ❙\n",
    "    \n",
    "    // FΦ: it will at some stage in the future be the case that Φ ❙\n",
    "    futF : o ⟶ o ❘ # F 1 prec 100 ❙\n",
    "    // PΦ: it was at some stage in the past the case that Φ ❙\n",
    "    pastP : o ⟶ o ❘ # P 1 prec 100 ❙\n",
    "❚\n",
    "\n",
    "theory plnqTest : ?tenseplnq =\n",
    "    // individuals ❙\n",
    "    prudence : ι ❙ ethel : ι ❙ chester : ι ❙ jo : ι ❙ bertie : ι ❙ fiona : ι ❙ berta : ι ❙ john : ι ❙ mary : ι ❙ peter : ι ❙\n",
    "    book : ι ❙ cake : ι ❙ cat : ι ❙ golfer : ι ❙ dog : ι ❙ lecturer : ι ❙ student : ι ❙ singer : ι ❙\n",
    "    // verbs ❙\n",
    "    run : ι ⟶ o ❙ jump : ι ⟶ o ❙ laugh : ι ⟶ o ❙ sing : ι ⟶ o ❙ howl : ι ⟶ o ❙ scream : ι ⟶ o ❙\n",
    "    read : ι ⟶ ι ⟶ o ❙ poison : ι ⟶ ι ⟶ o ❙ eat : ι ⟶ ι ⟶ o ❙ like : ι ⟶ ι ⟶ o ❙ love : ι ⟶ ι ⟶ o ❙ loath : ι ⟶ ι ⟶ o ❙\n",
    "    kick : ι ⟶ ι ⟶ o ❙ see : ι ⟶ ι ⟶ o ❙ understand : ι ⟶ ι ⟶ o ❙ kill : ι ⟶ ι ⟶ o ❙\n",
    "❚"
   ]
  },
  {
   "cell_type": "code",
   "execution_count": 29,
   "metadata": {},
   "outputs": [
    {
     "data": {
      "text/plain": [
       "Created view semantics"
      ]
     },
     "metadata": {},
     "output_type": "display_data"
    }
   ],
   "source": [
    "view semantics : http://mathhub.info/comma/jupyter/TensesGrammar.gf?TensesGrammar -> ?plnqTest =\n",
    "    S = o ❙             // Sentence ❙\n",
    "    SMod = o ⟶ o ❙      // Sentence modifier ❙\n",
    "    Vi = ι ⟶ o ❙        // Intransitive verb ❙\n",
    "    Vt = ι ⟶ ι ⟶ o ❙    // Transitive verb ❙\n",
    "    Vmod = o ⟶ o ❙      // Modal verb ❙\n",
    "    VP = ι ⟶ o ❙        // Verb phrase ❙\n",
    "    Npr = ι ❙           // Proper noun ❙\n",
    "    N = ι ❙             // Common noun, as a simplification modeled incorrectly\n",
    "                        // as an individual ❙\n",
    "    NP = ι ❙            // Noun phrase ❙\n",
    "    Conj = o ⟶ o ⟶ o ❙  // Conjunction ❙\n",
    "    \n",
    "    // Positive sentence: \"John runs\"\n",
    "    // spos : Npr -> V -> S ❙\n",
    "    spos = [npr, v] v npr ❙\n",
    "    // Negative sentence: \"John doesn't run\"\n",
    "    // sneg : Npr -> V -> S ❙\n",
    "    //sneg = [npr, v] ¬(v npr) ❙\n",
    "    // Connected sentence:\n",
    "    // \"John runs and Mary doesn't run\"\n",
    "    // sconj : S -> Conj -> S -> S ❙\n",
    "    sconj = [s1, conj, s2] conj s1 s2 ❙\n",
    "    // Positive modified sentence: \"it is necessary that John runs\"\n",
    "    // smodpos : SMod -> S -> S ❙\n",
    "    smodpos = [smod, s] smod s ❙\n",
    "    // Negative modified sentence: \"it is not necessary that John runs\"\n",
    "    // smodneg : SMod -> S -> S ❙\n",
    "    //smodneg = [smod, s] ¬(smod s) ❙\n",
    "    \n",
    "    // Build a verb phrase from an intransitive verb: \"run\"\n",
    "    // vpvi : Vi -> VP ❙\n",
    "    vpvi = [v] v ❙\n",
    "    // Build a verb phrase from a transitive verb and a noun phrase\n",
    "    // \"love\" + \"Mary\" -> \"love Mary\"\n",
    "    // vpvt : Vt -> NP -> VP ❙\n",
    "    vpvt = [vt, addressee] [actor] vt actor addressee ❙\n",
    "    // Apply the past tense operator\n",
    "    // vppast : VP -> VP ❙\n",
    "    vppast = [v] [i] P (v i) ❙\n",
    "    // apply the future tense operator\n",
    "    // vpfut : VP -> VP ❙\n",
    "    vpfut = [v] [i] F (v i) ❙\n",
    "    // Apply a modal verb to an existing verb phrase\n",
    "    // \"have to\" + \"run\" -> \"have to run\"\n",
    "    // vpvmod : Vmod -> VP -> VP ❙\n",
    "    vpvmod = [vmod, vp] [i] vmod (vp i) ❙\n",
    "        \n",
    "    // Build a noun phrase from a proper noun: \"John\"\n",
    "    // npnpr : Npr -> NP ❙\n",
    "    npnpr = [npr] npr ❙\n",
    "    // Build a noun phrase from a common noun\n",
    "    // \"dog\" -> \"the dog\"\n",
    "    // npn : N -> NP ❙\n",
    "    npn = [n] n ❙\n",
    "    \n",
    "    // Verbs ❙\n",
    "    run = run ❙ jump = jump ❙ laugh = laugh ❙ sing = sing ❙ howl = howl ❙ scream = scream ❙\n",
    "    read = read ❙ poison = poison ❙ eat = eat ❙ like = like ❙ love = love ❙ loath = loath ❙ kick = kick ❙ see = see ❙ understand = understand ❙ kill = kill ❙\n",
    "    haveto = box ❙ beallowedto = diamond ❙\n",
    "    bepossible = diamond ❙ benecessary = box ❙ bethecase = [p] p ❙\n",
    "    // Nouns ❙\n",
    "    prudence = prudence ❙ ethel = ethel ❙ chester = chester ❙ jo = jo ❙ bertie = bertie ❙ fiona = fiona ❙ berta = berta ❙ john = john ❙ mary = mary ❙ peter = peter ❙\n",
    "    book = book ❙ cake = cake ❙ katze = cat ❙ golfer = golfer ❙ dog = dog ❙ lecturer = lecturer ❙ student = student ❙ singer = singer ❙\n",
    "    // Conjunctions ❙\n",
    "    and = and ❙ or = or ❙\n",
    "❚"
   ]
  },
  {
   "cell_type": "markdown",
   "metadata": {},
   "source": [
    "### Semantics construction test cases (old)"
   ]
  },
  {
   "cell_type": "code",
   "execution_count": 30,
   "metadata": {},
   "outputs": [
    {
     "data": {
      "text/plain": [
       "run john"
      ]
     },
     "metadata": {},
     "output_type": "display_data"
    }
   ],
   "source": [
    "parse \"John runs\" | construct"
   ]
  },
  {
   "cell_type": "raw",
   "metadata": {},
   "source": [
    "parse \"John doesn't run\" | construct"
   ]
  },
  {
   "cell_type": "raw",
   "metadata": {},
   "source": [
    "parse \"John runs and Mary doesn't run\" | construct"
   ]
  },
  {
   "cell_type": "raw",
   "metadata": {},
   "source": [
    "parse \"John doesn't jump or Mary runs\" | construct"
   ]
  },
  {
   "cell_type": "code",
   "execution_count": 31,
   "metadata": {},
   "outputs": [
    {
     "data": {
      "text/plain": [
       "run dog"
      ]
     },
     "metadata": {},
     "output_type": "display_data"
    }
   ],
   "source": [
    "parse \"the dog runs\" | construct"
   ]
  },
  {
   "cell_type": "code",
   "execution_count": 32,
   "metadata": {},
   "outputs": [
    {
     "data": {
      "text/plain": [
       "love john mary"
      ]
     },
     "metadata": {},
     "output_type": "display_data"
    }
   ],
   "source": [
    "parse \"John loves Mary\" | construct"
   ]
  },
  {
   "cell_type": "raw",
   "metadata": {},
   "source": [
    "parse \"John loves Mary and Mary doesn't love John\" | construct"
   ]
  },
  {
   "cell_type": "code",
   "execution_count": 33,
   "metadata": {},
   "outputs": [
    {
     "data": {
      "text/plain": [
       "□(run john)"
      ]
     },
     "metadata": {},
     "output_type": "display_data"
    }
   ],
   "source": [
    "parse \"it is necessary that John runs\" | construct"
   ]
  },
  {
   "cell_type": "raw",
   "metadata": {},
   "source": [
    "parse \"it is not possible that the dog kills John\" | construct"
   ]
  },
  {
   "cell_type": "raw",
   "metadata": {},
   "source": [
    "parse \"it is not the case that John loves Mary\" | construct"
   ]
  },
  {
   "cell_type": "code",
   "execution_count": 34,
   "metadata": {},
   "outputs": [
    {
     "data": {
      "text/plain": [
       "□(run john)"
      ]
     },
     "metadata": {},
     "output_type": "display_data"
    }
   ],
   "source": [
    "parse \"John has to run\" | construct"
   ]
  },
  {
   "cell_type": "raw",
   "metadata": {},
   "source": [
    "parse \"the dog is not allowed to kill John\" | construct"
   ]
  },
  {
   "cell_type": "code",
   "execution_count": 35,
   "metadata": {},
   "outputs": [
    {
     "data": {
      "text/plain": [
       "□◇(run john)"
      ]
     },
     "metadata": {},
     "output_type": "display_data"
    }
   ],
   "source": [
    "parse \"John has to be allowed to run\" | construct"
   ]
  },
  {
   "cell_type": "markdown",
   "metadata": {},
   "source": [
    "### Semantics construction test cases (new)"
   ]
  },
  {
   "cell_type": "code",
   "execution_count": 36,
   "metadata": {},
   "outputs": [
    {
     "data": {
      "text/plain": [
       "F (run john)"
      ]
     },
     "metadata": {},
     "output_type": "display_data"
    }
   ],
   "source": [
    "parse \"John will run\" | construct"
   ]
  },
  {
   "cell_type": "code",
   "execution_count": 37,
   "metadata": {},
   "outputs": [
    {
     "data": {
      "text/plain": [
       "P (run john)"
      ]
     },
     "metadata": {},
     "output_type": "display_data"
    }
   ],
   "source": [
    "parse \"John ran\" | construct"
   ]
  },
  {
   "cell_type": "code",
   "execution_count": 38,
   "metadata": {},
   "outputs": [
    {
     "data": {
      "text/plain": [
       "P P (run john)"
      ]
     },
     "metadata": {},
     "output_type": "display_data"
    }
   ],
   "source": [
    "parse \"John had run\" | construct"
   ]
  },
  {
   "cell_type": "code",
   "execution_count": 39,
   "metadata": {},
   "outputs": [
    {
     "data": {
      "text/plain": [
       "F P (run john)"
      ]
     },
     "metadata": {},
     "output_type": "display_data"
    }
   ],
   "source": [
    "parse \"John will have run\" | construct"
   ]
  },
  {
   "cell_type": "code",
   "execution_count": 40,
   "metadata": {},
   "outputs": [
    {
     "data": {
      "text/plain": [
       "P F (run john)"
      ]
     },
     "metadata": {},
     "output_type": "display_data"
    }
   ],
   "source": [
    "parse \"John would run\" | construct"
   ]
  },
  {
   "cell_type": "code",
   "execution_count": 41,
   "metadata": {},
   "outputs": [
    {
     "data": {
      "text/plain": [
       "P F P (run john)"
      ]
     },
     "metadata": {},
     "output_type": "display_data"
    }
   ],
   "source": [
    "parse \"John would have run\" | construct"
   ]
  },
  {
   "cell_type": "code",
   "execution_count": 42,
   "metadata": {},
   "outputs": [
    {
     "data": {
      "text/plain": [
       "P □(run john)"
      ]
     },
     "metadata": {},
     "output_type": "display_data"
    }
   ],
   "source": [
    "parse \"John had to run\" | construct"
   ]
  },
  {
   "cell_type": "code",
   "execution_count": 43,
   "metadata": {},
   "outputs": [
    {
     "data": {
      "text/plain": [
       "P P □(run john)"
      ]
     },
     "metadata": {},
     "output_type": "display_data"
    }
   ],
   "source": [
    "parse \"John had had to run\" | construct"
   ]
  },
  {
   "cell_type": "code",
   "execution_count": 44,
   "metadata": {},
   "outputs": [
    {
     "data": {
      "text/plain": [
       "F □(run john)"
      ]
     },
     "metadata": {},
     "output_type": "display_data"
    }
   ],
   "source": [
    "parse \"John will have to run\" | construct"
   ]
  },
  {
   "cell_type": "code",
   "execution_count": 45,
   "metadata": {},
   "outputs": [
    {
     "data": {
      "text/plain": [
       "F P □(run john)"
      ]
     },
     "metadata": {},
     "output_type": "display_data"
    }
   ],
   "source": [
    "parse \"John will have had to run\" | construct"
   ]
  },
  {
   "cell_type": "code",
   "execution_count": 46,
   "metadata": {},
   "outputs": [
    {
     "data": {
      "text/plain": [
       "F ◇(run john)"
      ]
     },
     "metadata": {},
     "output_type": "display_data"
    }
   ],
   "source": [
    "parse \"John will be allowed to run\" | construct"
   ]
  },
  {
   "cell_type": "code",
   "execution_count": 47,
   "metadata": {},
   "outputs": [
    {
     "data": {
      "text/plain": [
       "P ◇(run john)"
      ]
     },
     "metadata": {},
     "output_type": "display_data"
    }
   ],
   "source": [
    "parse \"John was allowed to run\" | construct"
   ]
  }
 ],
 "metadata": {
  "kernelspec": {
   "display_name": "GLIF",
   "language": "gf",
   "name": "glif"
  },
  "language_info": {
   "codemirror_mode": {
    "name": "gf",
    "version": 3
   },
   "file_extension": ".gf",
   "mimetype": "text/gf",
   "name": "gf"
  }
 },
 "nbformat": 4,
 "nbformat_minor": 4
}
