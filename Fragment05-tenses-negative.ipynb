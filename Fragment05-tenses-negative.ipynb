{
 "cells": [
  {
   "cell_type": "markdown",
   "metadata": {},
   "source": [
    "# Fragment 5\n",
    "\n",
    "This fragment recovers support for negative forms, lost after introducing tenses.\n",
    "\n",
    "This fragment is able to interpret the following sentences from the previous fragment:\n",
    "* \"John runs and Mary does not run\" as `(run john)∧¬(run mary)`\n",
    "* \"the dog runs\" as `run dog`\n",
    "* \"John loves Mary\" as `love john mary`\n",
    "* \"it is necessary that John runs\" as `□(run john)`\n",
    "* (broken) \"it is not possible that the dog kills John\" as `¬◇(kill dog john)`\n",
    "* (broken) \"it is not the case that John loves Mary\" as `¬(love john mary)`\n",
    "* \"John has to run\" as `□(run john)`\n",
    "* \"the dog is not allowed to kill John\" as `¬◇(kill dog john)`\n",
    "* \"John has to be allowed to run\" as `□◇(run john)`\n",
    "* \"John will run\" as `F(run john)`\n",
    "* \"John ran\" as `P(run john)`\n",
    "* \"John had run\" as `PP(run john)`\n",
    "* \"John will have run\" as `FP(run john)`\n",
    "* \"John would run\" as `PF(run john)`\n",
    "* \"John would have run\" as `PFP(run john)`\n",
    "* \"John had to run\" as `P□(run john)`\n",
    "* \"John had had to run\" as `PP□(run john)`\n",
    "* \"John will have to run\" as `F□(run john)`\n",
    "* \"John will have had to run\" as `FP□(run john)`\n",
    "* \"John will be allowed to run\" as `F◇(run john)`\n",
    "* \"John was allowed to run\" as `P◇(run john)`\n",
    "\n",
    "This fragment is able to interpret the following new sentences:\n",
    "* \"John does run\" as `run john`\n",
    "* \"John did run\" as `P(run john)`\n",
    "* \"John does have to run\" as `□(run john)`\n",
    "* \"John will not run\" as `¬F(run john)` or `F¬(run john)`\n",
    "* \"John would not run\" as `¬PF(run john)`, `PF¬(run john)` or `P¬F(run john)`\n",
    "* \"John did not have to run\" as `¬P□(run john)` or `P¬□(run john)`\n",
    "* (incorrect) \"John would not have run\" as `¬PFP(run john)`, `P¬FP(run john)`, `PF¬P(run john)` or (wrong) `PFP¬(run john)`\n",
    "\n",
    "## Parsing"
   ]
  },
  {
   "cell_type": "code",
   "execution_count": 1,
   "metadata": {},
   "outputs": [
    {
     "data": {
      "text/plain": [
       "Defined TensesGrammar"
      ]
     },
     "metadata": {},
     "output_type": "display_data"
    }
   ],
   "source": [
    "abstract TensesGrammar = {\n",
    "    cat\n",
    "        S;     -- Sentence\n",
    "        SMod;  -- Sentence modifier\n",
    "        Vi;    -- Intransitive verb\n",
    "        Vt;    -- Transitive verb\n",
    "        Vmod;  -- Modal verb\n",
    "        VP;    -- Verb phrase\n",
    "        Npr;   -- Proper noun\n",
    "        N;     -- Common noun\n",
    "        NP;    -- Noun phrase\n",
    "        Conj;  -- Conjunction\n",
    "        Mod;   -- Modal modifier\n",
    "    fun\n",
    "        -- Simple verb form sentence: \"John runs\"\n",
    "        ssimp : NP -> VP -> S;\n",
    "        -- Complex verb form sentence: \"John does not run\"\n",
    "        scomp : NP -> VP -> S;\n",
    "        -- Connected sentence:\n",
    "        -- \"John runs and Mary doesn't run\"\n",
    "        sconj : S -> Conj -> S -> S;\n",
    "        -- Modified sentence: \"it is necessary that John runs\"\n",
    "        -- (For be verbs only the complex form exists)\n",
    "        smod : SMod -> S -> S;\n",
    "        \n",
    "        -- Build a verb phrase from an intransitive verb: \"run\"\n",
    "        vpvi : Vi -> VP;\n",
    "        -- Build a verb phrase from a transitive verb and a noun phrase\n",
    "        -- \"love\" + \"Mary\" -> \"love Mary\"\n",
    "        vpvt : Vt -> NP -> VP;\n",
    "        -- Apply the past tense operator\n",
    "        vppast : VP -> VP;\n",
    "        -- apply the future tense operator\n",
    "        vpfut : VP -> VP;\n",
    "        -- Apply a modal verb to an existing verb phrase\n",
    "        -- \"have to\" + \"run\" -> \"have to run\"\n",
    "        vpvmod : Vmod -> VP -> VP;\n",
    "        -- Apply a modal modifier to an existing verb phrase\n",
    "        vpmod : Mod -> VP -> VP;\n",
    "        \n",
    "        -- Build a noun phrase from a proper noun: \"John\"\n",
    "        npnpr : Npr -> NP;\n",
    "        -- Build a noun phrase from a common noun\n",
    "        -- \"dog\" -> \"the dog\"\n",
    "        npn : N -> NP;\n",
    "        \n",
    "        -- Verbs\n",
    "        run, jump, laugh, sing, howl, scream : Vi;\n",
    "        read, poison, eat, like, love, loath, kick, see, understand, kill : Vt;\n",
    "        haveto, beallowedto : Vmod;\n",
    "        bepossible, benecessary, bethecase : SMod;\n",
    "        -- Nouns\n",
    "        prudence, ethel, chester, jo, bertie, fiona, berta, john, mary, peter : Npr;\n",
    "        book, cake, katze, golfer, dog, lecturer, student, singer : N;\n",
    "        -- Conjunctions\n",
    "        and, or : Conj;\n",
    "        -- Modal modifiers\n",
    "        not : Mod;\n",
    "}"
   ]
  },
  {
   "cell_type": "code",
   "execution_count": 2,
   "metadata": {},
   "outputs": [],
   "source": [
    "concrete TensesGrammarEng of TensesGrammar = {\n",
    "    param\n",
    "        Tense = Present | Past | Future;\n",
    "    oper\n",
    "        -- The type of the conjugated form of a verb\n",
    "        VCType : Type = {\n",
    "            simple : Str;\n",
    "            prefix : Str;\n",
    "            suffix : Str\n",
    "        };\n",
    "        -- The type of a verb\n",
    "        VType : Type = {\n",
    "            base : Str;\n",
    "            singleTense : Tense => VCType;\n",
    "            doubleTense : Tense => Tense => VCType;\n",
    "            tripleTense : Tense => Tense => Tense => VCType\n",
    "        };\n",
    "    lincat\n",
    "        S = Str;        -- Sentence\n",
    "        SMod = VType;   -- Sentence modifier\n",
    "        Vi = VType;     -- Intransitive verb\n",
    "        Vt = VType;     -- Transitive verb\n",
    "        Vmod = VType;   -- Modal verb\n",
    "        VP = VType;     -- Verb phrase\n",
    "        Npr = Str;      -- Proper noun\n",
    "        N = Str;        -- Common noun\n",
    "        NP = Str;       -- Noun phrase\n",
    "        Conj = Str;     -- Conjunction\n",
    "        Mod = Str;      -- Modal modifier\n",
    "    oper\n",
    "        -- None workaround\n",
    "        None : Str = \"[ERROR]\";\n",
    "        \n",
    "        -- Helper function construct a conjugated form of a verb\n",
    "        mkVC = overload {\n",
    "            mkVC : Str -> Str -> Str -> VCType = \\simple,pref,suf -> { simple = simple ; prefix = pref ; suffix = suf };\n",
    "            mkVC : Str -> Str -> VCType = \\pref,suf -> { simple = None ; prefix = pref ; suffix = suf };\n",
    "            mkVC : Str -> VCType = \\pref -> { simple = pref ; prefix = pref ; suffix = [] };\n",
    "        };\n",
    "        \n",
    "        -- None workaround for conjugated form of a verb\n",
    "        VCNone : VCType = { simple = None ; prefix = None ; suffix = None };\n",
    "        \n",
    "        -- Helper function to construct a verb\n",
    "        mkV_ : Str -> Str -> VCType -> VCType -> VType = \\vb,vpart,vpres,vpast -> {\n",
    "            base = vb;\n",
    "            singleTense = table {\n",
    "                Present => vpres;\n",
    "                Past => vpast;\n",
    "                Future => mkVC \"will\" vb\n",
    "            };\n",
    "            doubleTense = table {\n",
    "                Present => \\\\_ => VCNone;\n",
    "                Past => table {\n",
    "                    Present => VCNone;\n",
    "                    Past => mkVC \"had\" vpart;\n",
    "                    Future => mkVC \"will\" (\"have\" ++ vpart)\n",
    "                };\n",
    "                Future => table {\n",
    "                    Past => mkVC \"would\" vb;\n",
    "                    _ => VCNone\n",
    "                }\n",
    "            };\n",
    "            tripleTense = table {\n",
    "                Present => \\\\_,_ => VCNone;\n",
    "                Past => table {\n",
    "                    Present => \\\\_ => VCNone;\n",
    "                    Past => \\\\_ => VCNone;\n",
    "                    Future => table {\n",
    "                        Past => mkVC \"would\" (\"have\" ++ vb);\n",
    "                        _ => VCNone\n",
    "                    }\n",
    "                };\n",
    "                Future => \\\\_,_ => VCNone\n",
    "            }\n",
    "        };\n",
    "        \n",
    "        -- Helper function to construct a verb\n",
    "        mkV = overload {\n",
    "            mkV : Str -> Str -> Str -> VType =\n",
    "                \\vb,vpast,vpart -> mkV_ vb vpart (mkVC (vb + \"s\") \"does\" vb) (mkVC vpast \"did\" vb);\n",
    "            mkV : Str -> Str -> Str -> Str -> VType =\n",
    "                \\vb,vpres,vpast,vpart -> mkV_ vb vpart (mkVC vpres \"does\" vb) (mkVC vpast \"did\" vb);\n",
    "        };\n",
    "        -- Helper function to construct a be verb\n",
    "        -- mkBeV \"possible\" = { pos = \"is possible\" ; neg = \"is not possible\"}\n",
    "        mkBeV : Str -> VType = \\s -> mkV_ (\"be\" ++ s) (\"been\" ++ s) (mkVC \"is\" s) (mkVC \"was\" s);\n",
    "        \n",
    "        -- Helper function to apply a tense operator to a verb\n",
    "        applyTense : VType -> Tense -> VType = \\v,tense -> {\n",
    "            base = None;\n",
    "            singleTense = table {\n",
    "                Present => v.singleTense ! tense;\n",
    "                x => v.doubleTense ! tense ! x\n",
    "            };\n",
    "            doubleTense = v.tripleTense ! tense;\n",
    "            tripleTense = \\\\_,_,_ => VCNone\n",
    "        };\n",
    "        \n",
    "        -- Helper function to append a string to a conjugated form of a verb\n",
    "        vcconcat : VCType -> Str -> VCType = \\vc,s -> {\n",
    "            simple = vc.simple ++ s;\n",
    "            prefix = vc.prefix;\n",
    "            suffix = vc.suffix ++ s;\n",
    "        };\n",
    "        \n",
    "        -- Helper function to append a string to verb\n",
    "        vpconcat : VType -> Str -> VType = \\v,s -> {\n",
    "            base = v.base ++ s;\n",
    "            singleTense = \\\\t => vcconcat (v.singleTense ! t) s;\n",
    "            doubleTense = \\\\t1,t2 => vcconcat (v.doubleTense ! t1 ! t2) s;\n",
    "            tripleTense = \\\\t1,t2,t3 => vcconcat (v.tripleTense ! t1 ! t2 ! t3) s;\n",
    "        };\n",
    "        \n",
    "        -- Helper function to apply a modifier to a conjugated form of a verb\n",
    "        vcapplymod : Str -> VCType -> VCType = \\mod,vc -> {\n",
    "            simple = None;\n",
    "            prefix = vc.prefix;\n",
    "            suffix = mod ++ vc.suffix;\n",
    "        };\n",
    "        \n",
    "        -- Helper function to apply a modifier to a verb\n",
    "        vpapplymod : Str -> VType -> VType = \\mod,v -> {\n",
    "            base = mod ++ v.base;\n",
    "            singleTense = \\\\t => vcapplymod mod (v.singleTense ! t);\n",
    "            doubleTense = \\\\t1,t2 => vcapplymod mod (v.doubleTense ! t1 ! t2);\n",
    "            tripleTense = \\\\t1,t2,t3 => vcapplymod mod (v.tripleTense ! t1 ! t2 ! t3);\n",
    "        };\n",
    "    lin\n",
    "        -- Simple verb form sentence: \"John runs\"\n",
    "        -- ssimp : NP -> VP -> S\n",
    "        ssimp npr v = npr ++ (v.singleTense ! Present).simple;\n",
    "        -- Complex verb form sentence: \"John does not run\"\n",
    "        -- scomp : NP -> VP -> S\n",
    "        scomp npr v = npr ++ (v.singleTense ! Present).prefix ++ (v.singleTense ! Present).suffix;\n",
    "        -- Connected sentence:\n",
    "        -- \"John runs and Mary doesn't run\"\n",
    "        -- sconj : S -> Conj -> S -> S\n",
    "        sconj s1 c s2 = s1 ++ c ++ s2;\n",
    "        -- Modified sentence: \"it is necessary that John runs\"\n",
    "        -- (For be verbs only the complex form exists)\n",
    "        -- smod : SMod -> S -> S\n",
    "        smod mod s = \"it\" ++ (mod.singleTense ! Present).prefix ++ (mod.singleTense ! Present).suffix ++ \"that\" ++ s;\n",
    "        \n",
    "        -- Build a verb phrase from an intransitive verb: \"run\"\n",
    "        -- vpvi : Vi -> VP\n",
    "        vpvi v = v;\n",
    "        -- Build a verb phrase from a transitive verb and a noun phrase\n",
    "        -- \"love\" + \"Mary\" -> \"love Mary\"\n",
    "        -- vpvt : Vt -> NP -> VP\n",
    "        vpvt v np = vpconcat v np;\n",
    "        -- Apply the past tense operator\n",
    "        -- vppast : VP -> VP\n",
    "        vppast vp = applyTense vp Past;\n",
    "        -- apply the future tense operator\n",
    "        -- vpfut : VP -> VP\n",
    "        vpfut vp = applyTense vp Future;\n",
    "        -- Apply a modal verb to an existing verb phrase\n",
    "        -- \"have to\" + \"run\" -> \"have to run\"\n",
    "        -- vpvmod : Vmod -> VP -> VP\n",
    "        vpvmod vmod vp = vpconcat vmod vp.base;\n",
    "        -- Apply a modal modifier to an existing verb phrase\n",
    "        -- vpmod : Mod -> VP -> VP\n",
    "        vpmod mod vp = vpapplymod mod vp;\n",
    "        \n",
    "        -- Build a noun phrase from a proper noun: \"John\"\n",
    "        -- npnpr : Npr -> NP\n",
    "        npnpr npr = npr;\n",
    "        -- Build a noun phrase from a common noun\n",
    "        -- \"dog\" -> \"the dog\"\n",
    "        -- npn : N -> NP\n",
    "        npn n = \"the\" ++ n;\n",
    "        \n",
    "        -- Intrasitive verbs\n",
    "        run = mkV \"run\" \"ran\" \"run\"; jump = mkV \"jump\" \"jumped\" \"jumped\"; laugh = mkV \"laugh\" \"laughed\" \"laughed\";\n",
    "        sing = mkV \"sing\" \"sang\" \"sung\"; howl = mkV \"howl\" \"howled\" \"howled\"; scream = mkV \"scream\" \"screamed\" \"screamed\";\n",
    "        -- Transitive verbs\n",
    "        read = mkV \"read\" \"read\" \"read\"; poison = mkV \"poison\" \"poisoned\" \"poisoned\"; eat = mkV \"eat\" \"ate\" \"eaten\";\n",
    "        like = mkV \"like\" \"liked\" \"liked\"; love = mkV \"love\" \"loved\" \"loved\"; loath = mkV \"loath\" \"loathed\" \"loathed\";\n",
    "        kick = mkV \"kick\" \"kicked\" \"kicked\"; see = mkV \"see\" \"saw\" \"seen\"; understand = mkV \"understand\" \"understood\" \"understood\";\n",
    "        kill = mkV \"kill\" \"killed\" \"killed\";\n",
    "        -- Modal verbs\n",
    "        haveto = mkV \"have to\" \"has to\" \"had to\" \"had to\"; beallowedto = mkBeV \"allowed to\";\n",
    "        bepossible = mkBeV \"possible\"; benecessary = mkBeV \"necessary\"; bethecase = mkBeV \"the case\";\n",
    "        -- Nouns\n",
    "        prudence = \"Prudence\"; ethel = \"Ethel\"; chester = \"Chester\"; jo = \"Jo\"; bertie = \"Bertie\"; fiona = \"Fiona\"; berta = \"Berta\";\n",
    "        john = \"John\"; mary = \"Mary\"; peter = \"Peter\";\n",
    "        book = \"book\"; cake = \"cake\"; katze = \"cat\"; golfer = \"golfer\"; dog = \"dog\"; lecturer = \"lecturer\"; student = \"student\";\n",
    "        singer = \"singer\"; \n",
    "        -- Conjunctions\n",
    "        and = \"and\"; or = \"or\";\n",
    "        -- Modal modifiers\n",
    "        not = \"not\";\n",
    "}"
   ]
  },
  {
   "cell_type": "markdown",
   "metadata": {},
   "source": [
    "### Parsing test cases (old)"
   ]
  },
  {
   "cell_type": "code",
   "execution_count": 3,
   "metadata": {},
   "outputs": [
    {
     "data": {
      "text/plain": [
       "ssimp (npnpr john) (vpvi run)"
      ]
     },
     "metadata": {},
     "output_type": "display_data"
    }
   ],
   "source": [
    "parse \"John runs\""
   ]
  },
  {
   "cell_type": "code",
   "execution_count": 4,
   "metadata": {},
   "outputs": [
    {
     "data": {
      "text/plain": [
       "scomp (npnpr john) (vpmod not (vpvi run))"
      ]
     },
     "metadata": {},
     "output_type": "display_data"
    }
   ],
   "source": [
    "parse \"John does not run\""
   ]
  },
  {
   "cell_type": "code",
   "execution_count": 5,
   "metadata": {},
   "outputs": [
    {
     "data": {
      "text/plain": [
       "sconj (ssimp (npnpr john) (vpvi run)) and (scomp (npnpr mary) (vpmod not (vpvi run)))"
      ]
     },
     "metadata": {},
     "output_type": "display_data"
    }
   ],
   "source": [
    "parse \"John runs and Mary does not run\""
   ]
  },
  {
   "cell_type": "code",
   "execution_count": 6,
   "metadata": {},
   "outputs": [
    {
     "data": {
      "text/plain": [
       "sconj (scomp (npnpr john) (vpmod not (vpvi jump))) or (ssimp (npnpr mary) (vpvi run))"
      ]
     },
     "metadata": {},
     "output_type": "display_data"
    }
   ],
   "source": [
    "parse \"John does not jump or Mary runs\""
   ]
  },
  {
   "cell_type": "code",
   "execution_count": 7,
   "metadata": {},
   "outputs": [
    {
     "data": {
      "text/plain": [
       "ssimp (npn dog) (vpvi run)"
      ]
     },
     "metadata": {},
     "output_type": "display_data"
    }
   ],
   "source": [
    "parse \"the dog runs\""
   ]
  },
  {
   "cell_type": "code",
   "execution_count": 8,
   "metadata": {},
   "outputs": [
    {
     "data": {
      "text/plain": [
       "ssimp (npnpr john) (vpvt love (npnpr mary))"
      ]
     },
     "metadata": {},
     "output_type": "display_data"
    }
   ],
   "source": [
    "parse \"John loves Mary\""
   ]
  },
  {
   "cell_type": "code",
   "execution_count": 9,
   "metadata": {},
   "outputs": [
    {
     "data": {
      "text/plain": [
       "sconj (ssimp (npnpr john) (vpvt love (npnpr mary))) and (scomp (npnpr mary) (vpmod not (vpvt love (npnpr john))))"
      ]
     },
     "metadata": {},
     "output_type": "display_data"
    }
   ],
   "source": [
    "parse \"John loves Mary and Mary does not love John\""
   ]
  },
  {
   "cell_type": "code",
   "execution_count": 10,
   "metadata": {},
   "outputs": [
    {
     "data": {
      "text/plain": [
       "smod benecessary (ssimp (npnpr john) (vpvi run))"
      ]
     },
     "metadata": {},
     "output_type": "display_data"
    }
   ],
   "source": [
    "parse \"it is necessary that John runs\""
   ]
  },
  {
   "cell_type": "code",
   "execution_count": 11,
   "metadata": {},
   "outputs": [
    {
     "data": {
      "text/plain": [
       "The parser failed at token 3: \"not\""
      ]
     },
     "metadata": {},
     "output_type": "display_data"
    }
   ],
   "source": [
    "parse \"it is not possible that the dog kills John\""
   ]
  },
  {
   "cell_type": "code",
   "execution_count": 12,
   "metadata": {},
   "outputs": [
    {
     "data": {
      "text/plain": [
       "The parser failed at token 3: \"not\""
      ]
     },
     "metadata": {},
     "output_type": "display_data"
    }
   ],
   "source": [
    "parse \"it is not the case that John loves Mary\""
   ]
  },
  {
   "cell_type": "code",
   "execution_count": 13,
   "metadata": {},
   "outputs": [
    {
     "data": {
      "text/plain": [
       "ssimp (npnpr john) (vpvmod haveto (vpvi run))"
      ]
     },
     "metadata": {},
     "output_type": "display_data"
    }
   ],
   "source": [
    "parse \"John has to run\""
   ]
  },
  {
   "cell_type": "code",
   "execution_count": 14,
   "metadata": {},
   "outputs": [
    {
     "data": {
      "text/plain": [
       "scomp (npn dog) (vpmod not (vpvmod beallowedto (vpvt kill (npnpr john))))"
      ]
     },
     "metadata": {},
     "output_type": "display_data"
    }
   ],
   "source": [
    "parse \"the dog is not allowed to kill John\""
   ]
  },
  {
   "cell_type": "code",
   "execution_count": 15,
   "metadata": {},
   "outputs": [
    {
     "data": {
      "text/plain": [
       "ssimp (npnpr john) (vpvmod haveto (vpvmod beallowedto (vpvi run)))"
      ]
     },
     "metadata": {},
     "output_type": "display_data"
    }
   ],
   "source": [
    "parse \"John has to be allowed to run\""
   ]
  },
  {
   "cell_type": "code",
   "execution_count": 16,
   "metadata": {},
   "outputs": [
    {
     "data": {
      "text/plain": [
       "scomp (npnpr john) (vpfut (vpvi run))"
      ]
     },
     "metadata": {},
     "output_type": "display_data"
    }
   ],
   "source": [
    "parse \"John will run\""
   ]
  },
  {
   "cell_type": "code",
   "execution_count": 17,
   "metadata": {},
   "outputs": [
    {
     "data": {
      "text/plain": [
       "ssimp (npnpr john) (vppast (vpvi run))"
      ]
     },
     "metadata": {},
     "output_type": "display_data"
    }
   ],
   "source": [
    "parse \"John ran\""
   ]
  },
  {
   "cell_type": "code",
   "execution_count": 18,
   "metadata": {},
   "outputs": [
    {
     "data": {
      "text/plain": [
       "scomp (npnpr john) (vppast (vppast (vpvi run)))"
      ]
     },
     "metadata": {},
     "output_type": "display_data"
    }
   ],
   "source": [
    "parse \"John had run\""
   ]
  },
  {
   "cell_type": "code",
   "execution_count": 19,
   "metadata": {},
   "outputs": [
    {
     "data": {
      "text/plain": [
       "scomp (npnpr john) (vpfut (vppast (vpvi run)))"
      ]
     },
     "metadata": {},
     "output_type": "display_data"
    }
   ],
   "source": [
    "parse \"John will have run\""
   ]
  },
  {
   "cell_type": "code",
   "execution_count": 20,
   "metadata": {},
   "outputs": [
    {
     "data": {
      "text/plain": [
       "scomp (npnpr john) (vppast (vpfut (vpvi run)))"
      ]
     },
     "metadata": {},
     "output_type": "display_data"
    }
   ],
   "source": [
    "parse \"John would run\""
   ]
  },
  {
   "cell_type": "code",
   "execution_count": 21,
   "metadata": {},
   "outputs": [
    {
     "data": {
      "text/plain": [
       "scomp (npnpr john) (vppast (vpfut (vppast (vpvi run))))"
      ]
     },
     "metadata": {},
     "output_type": "display_data"
    }
   ],
   "source": [
    "parse \"John would have run\""
   ]
  },
  {
   "cell_type": "code",
   "execution_count": 22,
   "metadata": {},
   "outputs": [
    {
     "data": {
      "text/plain": [
       "ssimp (npnpr john) (vppast (vpvmod haveto (vpvi run)))"
      ]
     },
     "metadata": {},
     "output_type": "display_data"
    }
   ],
   "source": [
    "parse \"John had to run\""
   ]
  },
  {
   "cell_type": "code",
   "execution_count": 23,
   "metadata": {},
   "outputs": [
    {
     "data": {
      "text/plain": [
       "scomp (npnpr john) (vppast (vppast (vpvmod haveto (vpvi run))))"
      ]
     },
     "metadata": {},
     "output_type": "display_data"
    }
   ],
   "source": [
    "parse \"John had had to run\""
   ]
  },
  {
   "cell_type": "code",
   "execution_count": 24,
   "metadata": {},
   "outputs": [
    {
     "data": {
      "text/plain": [
       "scomp (npnpr john) (vpfut (vpvmod haveto (vpvi run)))"
      ]
     },
     "metadata": {},
     "output_type": "display_data"
    }
   ],
   "source": [
    "parse \"John will have to run\""
   ]
  },
  {
   "cell_type": "code",
   "execution_count": 25,
   "metadata": {},
   "outputs": [
    {
     "data": {
      "text/plain": [
       "scomp (npnpr john) (vpfut (vppast (vpvmod haveto (vpvi run))))"
      ]
     },
     "metadata": {},
     "output_type": "display_data"
    }
   ],
   "source": [
    "parse \"John will have had to run\""
   ]
  },
  {
   "cell_type": "code",
   "execution_count": 26,
   "metadata": {},
   "outputs": [
    {
     "data": {
      "text/plain": [
       "scomp (npnpr john) (vpfut (vpvmod beallowedto (vpvi run)))"
      ]
     },
     "metadata": {},
     "output_type": "display_data"
    }
   ],
   "source": [
    "parse \"John will be allowed to run\""
   ]
  },
  {
   "cell_type": "code",
   "execution_count": 27,
   "metadata": {},
   "outputs": [
    {
     "data": {
      "text/plain": [
       "scomp (npnpr john) (vppast (vpvmod beallowedto (vpvi run)))"
      ]
     },
     "metadata": {},
     "output_type": "display_data"
    }
   ],
   "source": [
    "parse \"John was allowed to run\""
   ]
  },
  {
   "cell_type": "markdown",
   "metadata": {},
   "source": [
    "### Parsing test cases (new)"
   ]
  },
  {
   "cell_type": "code",
   "execution_count": 28,
   "metadata": {},
   "outputs": [
    {
     "data": {
      "text/plain": [
       "scomp (npnpr john) (vpvi run)"
      ]
     },
     "metadata": {},
     "output_type": "display_data"
    }
   ],
   "source": [
    "parse \"John does run\""
   ]
  },
  {
   "cell_type": "code",
   "execution_count": 29,
   "metadata": {},
   "outputs": [
    {
     "data": {
      "text/plain": [
       "scomp (npnpr john) (vppast (vpvi run))"
      ]
     },
     "metadata": {},
     "output_type": "display_data"
    }
   ],
   "source": [
    "parse \"John did run\""
   ]
  },
  {
   "cell_type": "code",
   "execution_count": 30,
   "metadata": {},
   "outputs": [
    {
     "data": {
      "text/plain": [
       "scomp (npnpr john) (vpvmod haveto (vpvi run))"
      ]
     },
     "metadata": {},
     "output_type": "display_data"
    }
   ],
   "source": [
    "parse \"John does have to run\""
   ]
  },
  {
   "cell_type": "code",
   "execution_count": 31,
   "metadata": {},
   "outputs": [
    {
     "data": {
      "text/plain": [
       "scomp (npnpr john) (vpfut (vpmod not (vpvi run)))"
      ]
     },
     "metadata": {},
     "output_type": "display_data"
    },
    {
     "data": {
      "text/plain": [
       "scomp (npnpr john) (vpmod not (vpfut (vpvi run)))"
      ]
     },
     "metadata": {},
     "output_type": "display_data"
    }
   ],
   "source": [
    "parse \"John will not run\""
   ]
  },
  {
   "cell_type": "code",
   "execution_count": 32,
   "metadata": {},
   "outputs": [
    {
     "data": {
      "text/plain": [
       "scomp (npnpr john) (vpmod not (vppast (vpfut (vpvi run))))"
      ]
     },
     "metadata": {},
     "output_type": "display_data"
    },
    {
     "data": {
      "text/plain": [
       "scomp (npnpr john) (vppast (vpfut (vpmod not (vpvi run))))"
      ]
     },
     "metadata": {},
     "output_type": "display_data"
    },
    {
     "data": {
      "text/plain": [
       "scomp (npnpr john) (vppast (vpmod not (vpfut (vpvi run))))"
      ]
     },
     "metadata": {},
     "output_type": "display_data"
    }
   ],
   "source": [
    "parse \"John would not run\""
   ]
  },
  {
   "cell_type": "code",
   "execution_count": 33,
   "metadata": {},
   "outputs": [
    {
     "data": {
      "text/plain": [
       "scomp (npnpr john) (vpmod not (vppast (vpvmod haveto (vpvi run))))"
      ]
     },
     "metadata": {},
     "output_type": "display_data"
    },
    {
     "data": {
      "text/plain": [
       "scomp (npnpr john) (vppast (vpmod not (vpvmod haveto (vpvi run))))"
      ]
     },
     "metadata": {},
     "output_type": "display_data"
    }
   ],
   "source": [
    "parse \"John did not have to run\""
   ]
  },
  {
   "cell_type": "code",
   "execution_count": 34,
   "metadata": {},
   "outputs": [
    {
     "data": {
      "text/plain": [
       "scomp (npnpr john) (vpmod not (vppast (vpfut (vppast (vpvi run)))))"
      ]
     },
     "metadata": {},
     "output_type": "display_data"
    },
    {
     "data": {
      "text/plain": [
       "scomp (npnpr john) (vppast (vpfut (vpmod not (vppast (vpvi run)))))"
      ]
     },
     "metadata": {},
     "output_type": "display_data"
    },
    {
     "data": {
      "text/plain": [
       "scomp (npnpr john) (vppast (vpfut (vppast (vpmod not (vpvi run)))))"
      ]
     },
     "metadata": {},
     "output_type": "display_data"
    },
    {
     "data": {
      "text/plain": [
       "scomp (npnpr john) (vppast (vpmod not (vpfut (vppast (vpvi run)))))"
      ]
     },
     "metadata": {},
     "output_type": "display_data"
    }
   ],
   "source": [
    "parse \"John would not have run\""
   ]
  },
  {
   "cell_type": "code",
   "execution_count": 35,
   "metadata": {},
   "outputs": [
    {
     "data": {
      "text/plain": [
       "scomp (npn dog) (vpmod not (vppast (vppast (vpvt kill (npnpr john)))))"
      ]
     },
     "metadata": {},
     "output_type": "display_data"
    },
    {
     "data": {
      "text/plain": [
       "scomp (npn dog) (vppast (vpmod not (vppast (vpvt kill (npnpr john)))))"
      ]
     },
     "metadata": {},
     "output_type": "display_data"
    },
    {
     "data": {
      "text/plain": [
       "scomp (npn dog) (vppast (vppast (vpmod not (vpvt kill (npnpr john)))))"
      ]
     },
     "metadata": {},
     "output_type": "display_data"
    }
   ],
   "source": [
    "parse \"the dog had not killed John\""
   ]
  },
  {
   "cell_type": "markdown",
   "metadata": {},
   "source": [
    "## Semantics construction"
   ]
  },
  {
   "cell_type": "code",
   "execution_count": 36,
   "metadata": {},
   "outputs": [
    {
     "data": {
      "text/plain": [
       "Created theory plnq"
      ]
     },
     "metadata": {},
     "output_type": "display_data"
    }
   ],
   "source": [
    "theory plnq : ur:?LF =\n",
    "    proposition : type ❘ # o ❙\n",
    "    individual : type ❘ # ι ❙\n",
    "    \n",
    "    not : o ⟶ o         ❘ # ¬ 1 prec 100 ❙\n",
    "    and : o ⟶ o ⟶ o     ❘ # 1 ∧ 2 prec 90 ❙\n",
    "    \n",
    "    or : o ⟶ o ⟶ o      ❘ # 1 ∨ 2 prec 80\n",
    "                        ❘ = [a,b] ¬ (¬ a ∧ ¬ b) ❙\n",
    "❚\n",
    "\n",
    "theory modalplnq : ur:?LF =\n",
    "    include ?plnq ❙\n",
    "    box : o ⟶ o     ❘ # □ 1 prec 100 ❙\n",
    "    diamond : o ⟶ o ❘ # ◇ 1 prec 100 ❙\n",
    "❚\n",
    "\n",
    "theory tenseplnq : ur:?LF =\n",
    "    include ?modalplnq ❙\n",
    "    \n",
    "    // FΦ: it will at some stage in the future be the case that Φ ❙\n",
    "    futF : o ⟶ o ❘ # F 1 prec 100 ❙\n",
    "    // PΦ: it was at some stage in the past the case that Φ ❙\n",
    "    pastP : o ⟶ o ❘ # P 1 prec 100 ❙\n",
    "❚\n",
    "\n",
    "theory plnqTest : ?tenseplnq =\n",
    "    // individuals ❙\n",
    "    prudence : ι ❙ ethel : ι ❙ chester : ι ❙ jo : ι ❙ bertie : ι ❙ fiona : ι ❙ berta : ι ❙ john : ι ❙ mary : ι ❙ peter : ι ❙\n",
    "    book : ι ❙ cake : ι ❙ cat : ι ❙ golfer : ι ❙ dog : ι ❙ lecturer : ι ❙ student : ι ❙ singer : ι ❙\n",
    "    // verbs ❙\n",
    "    run : ι ⟶ o ❙ jump : ι ⟶ o ❙ laugh : ι ⟶ o ❙ sing : ι ⟶ o ❙ howl : ι ⟶ o ❙ scream : ι ⟶ o ❙\n",
    "    read : ι ⟶ ι ⟶ o ❙ poison : ι ⟶ ι ⟶ o ❙ eat : ι ⟶ ι ⟶ o ❙ like : ι ⟶ ι ⟶ o ❙ love : ι ⟶ ι ⟶ o ❙ loath : ι ⟶ ι ⟶ o ❙\n",
    "    kick : ι ⟶ ι ⟶ o ❙ see : ι ⟶ ι ⟶ o ❙ understand : ι ⟶ ι ⟶ o ❙ kill : ι ⟶ ι ⟶ o ❙\n",
    "❚"
   ]
  },
  {
   "cell_type": "code",
   "execution_count": 37,
   "metadata": {},
   "outputs": [
    {
     "data": {
      "text/plain": [
       "Created view semantics"
      ]
     },
     "metadata": {},
     "output_type": "display_data"
    }
   ],
   "source": [
    "view semantics : http://mathhub.info/comma/jupyter/TensesGrammar.gf?TensesGrammar -> ?plnqTest =\n",
    "    S = o ❙             // Sentence ❙\n",
    "    SMod = o ⟶ o ❙      // Sentence modifier ❙\n",
    "    Vi = ι ⟶ o ❙        // Intransitive verb ❙\n",
    "    Vt = ι ⟶ ι ⟶ o ❙    // Transitive verb ❙\n",
    "    Vmod = o ⟶ o ❙      // Modal verb ❙\n",
    "    VP = ι ⟶ o ❙        // Verb phrase ❙\n",
    "    Npr = ι ❙           // Proper noun ❙\n",
    "    N = ι ❙             // Common noun, as a simplification modeled incorrectly\n",
    "                        // as an individual ❙\n",
    "    NP = ι ❙            // Noun phrase ❙\n",
    "    Conj = o ⟶ o ⟶ o ❙  // Conjunction ❙\n",
    "    Mod = o ⟶ o ❙       // Modal modifier ❙\n",
    "    \n",
    "    // Simple verb form sentence: \"John runs\"\n",
    "    // ssimp : NP -> VP -> S ❙\n",
    "    ssimp = [npr, v] v npr ❙\n",
    "    // Complex verb form sentence: \"John does not run\"\n",
    "    // scomp : NP -> VP -> S ❙\n",
    "    scomp = [npr, v] v npr ❙\n",
    "    // Connected sentence:\n",
    "    // \"John runs and Mary doesn't run\"\n",
    "    // sconj : S -> Conj -> S -> S ❙\n",
    "    sconj = [s1, conj, s2] conj s1 s2 ❙\n",
    "    // Modified sentence: \"it is necessary that John runs\"\n",
    "    // smod : SMod -> S -> S ❙\n",
    "    smod = [mod, s] mod s ❙\n",
    "    \n",
    "    // Build a verb phrase from an intransitive verb: \"run\"\n",
    "    // vpvi : Vi -> VP ❙\n",
    "    vpvi = [v] v ❙\n",
    "    // Build a verb phrase from a transitive verb and a noun phrase\n",
    "    // \"love\" + \"Mary\" -> \"love Mary\"\n",
    "    // vpvt : Vt -> NP -> VP ❙\n",
    "    vpvt = [vt, addressee] [actor] vt actor addressee ❙\n",
    "    // Apply the past tense operator\n",
    "    // vppast : VP -> VP ❙\n",
    "    vppast = [v] [i] P (v i) ❙\n",
    "    // apply the future tense operator\n",
    "    // vpfut : VP -> VP ❙\n",
    "    vpfut = [v] [i] F (v i) ❙\n",
    "    // Apply a modal verb to an existing verb phrase\n",
    "    // \"have to\" + \"run\" -> \"have to run\"\n",
    "    // vpvmod : Vmod -> VP -> VP ❙\n",
    "    vpvmod = [vmod, vp] [i] vmod (vp i) ❙\n",
    "    // Apply a modal modifier to an existing verb phrase\n",
    "    // vpmod : Mod -> VP -> VP ❙\n",
    "    vpmod = [mod, vp] [i] mod (vp i) ❙\n",
    "        \n",
    "    // Build a noun phrase from a proper noun: \"John\"\n",
    "    // npnpr : Npr -> NP ❙\n",
    "    npnpr = [npr] npr ❙\n",
    "    // Build a noun phrase from a common noun\n",
    "    // \"dog\" -> \"the dog\"\n",
    "    // npn : N -> NP ❙\n",
    "    npn = [n] n ❙\n",
    "    \n",
    "    // Verbs ❙\n",
    "    run = run ❙ jump = jump ❙ laugh = laugh ❙ sing = sing ❙ howl = howl ❙ scream = scream ❙\n",
    "    read = read ❙ poison = poison ❙ eat = eat ❙ like = like ❙ love = love ❙ loath = loath ❙ kick = kick ❙ see = see ❙ understand = understand ❙ kill = kill ❙\n",
    "    haveto = box ❙ beallowedto = diamond ❙\n",
    "    bepossible = diamond ❙ benecessary = box ❙ bethecase = [p] p ❙\n",
    "    // Nouns ❙\n",
    "    prudence = prudence ❙ ethel = ethel ❙ chester = chester ❙ jo = jo ❙ bertie = bertie ❙ fiona = fiona ❙ berta = berta ❙ john = john ❙ mary = mary ❙ peter = peter ❙\n",
    "    book = book ❙ cake = cake ❙ katze = cat ❙ golfer = golfer ❙ dog = dog ❙ lecturer = lecturer ❙ student = student ❙ singer = singer ❙\n",
    "    // Conjunctions ❙\n",
    "    and = and ❙ or = or ❙\n",
    "    // Modal modifiers ❙\n",
    "    not = not ❙\n",
    "❚"
   ]
  },
  {
   "cell_type": "markdown",
   "metadata": {},
   "source": [
    "### Semantics construction test cases (old)"
   ]
  },
  {
   "cell_type": "code",
   "execution_count": 38,
   "metadata": {},
   "outputs": [
    {
     "data": {
      "text/plain": [
       "run john"
      ]
     },
     "metadata": {},
     "output_type": "display_data"
    }
   ],
   "source": [
    "parse \"John runs\" | construct"
   ]
  },
  {
   "cell_type": "code",
   "execution_count": 39,
   "metadata": {},
   "outputs": [
    {
     "data": {
      "text/plain": [
       "¬(run john)"
      ]
     },
     "metadata": {},
     "output_type": "display_data"
    }
   ],
   "source": [
    "parse \"John does not run\" | construct"
   ]
  },
  {
   "cell_type": "code",
   "execution_count": 40,
   "metadata": {},
   "outputs": [
    {
     "data": {
      "text/plain": [
       "(run john)∧¬(run mary)"
      ]
     },
     "metadata": {},
     "output_type": "display_data"
    }
   ],
   "source": [
    "parse \"John runs and Mary does not run\" | construct"
   ]
  },
  {
   "cell_type": "code",
   "execution_count": 41,
   "metadata": {},
   "outputs": [
    {
     "data": {
      "text/plain": [
       "¬(jump john)∨(run mary)"
      ]
     },
     "metadata": {},
     "output_type": "display_data"
    }
   ],
   "source": [
    "parse \"John does not jump or Mary runs\" | construct"
   ]
  },
  {
   "cell_type": "code",
   "execution_count": 42,
   "metadata": {},
   "outputs": [
    {
     "data": {
      "text/plain": [
       "run dog"
      ]
     },
     "metadata": {},
     "output_type": "display_data"
    }
   ],
   "source": [
    "parse \"the dog runs\" | construct"
   ]
  },
  {
   "cell_type": "code",
   "execution_count": 43,
   "metadata": {},
   "outputs": [
    {
     "data": {
      "text/plain": [
       "love john mary"
      ]
     },
     "metadata": {},
     "output_type": "display_data"
    }
   ],
   "source": [
    "parse \"John loves Mary\" | construct"
   ]
  },
  {
   "cell_type": "code",
   "execution_count": 44,
   "metadata": {},
   "outputs": [
    {
     "data": {
      "text/plain": [
       "(love john mary)∧¬(love mary john)"
      ]
     },
     "metadata": {},
     "output_type": "display_data"
    }
   ],
   "source": [
    "parse \"John loves Mary and Mary does not love John\" | construct"
   ]
  },
  {
   "cell_type": "code",
   "execution_count": 45,
   "metadata": {},
   "outputs": [
    {
     "data": {
      "text/plain": [
       "□(run john)"
      ]
     },
     "metadata": {},
     "output_type": "display_data"
    }
   ],
   "source": [
    "parse \"it is necessary that John runs\" | construct"
   ]
  },
  {
   "cell_type": "raw",
   "metadata": {},
   "source": [
    "parse \"it is not possible that the dog kills John\" | construct"
   ]
  },
  {
   "cell_type": "raw",
   "metadata": {},
   "source": [
    "parse \"it is not the case that John loves Mary\" | construct"
   ]
  },
  {
   "cell_type": "code",
   "execution_count": 46,
   "metadata": {},
   "outputs": [
    {
     "data": {
      "text/plain": [
       "□(run john)"
      ]
     },
     "metadata": {},
     "output_type": "display_data"
    }
   ],
   "source": [
    "parse \"John has to run\" | construct"
   ]
  },
  {
   "cell_type": "code",
   "execution_count": 47,
   "metadata": {},
   "outputs": [
    {
     "data": {
      "text/plain": [
       "¬◇(kill dog john)"
      ]
     },
     "metadata": {},
     "output_type": "display_data"
    }
   ],
   "source": [
    "parse \"the dog is not allowed to kill John\" | construct"
   ]
  },
  {
   "cell_type": "code",
   "execution_count": 48,
   "metadata": {},
   "outputs": [
    {
     "data": {
      "text/plain": [
       "□◇(run john)"
      ]
     },
     "metadata": {},
     "output_type": "display_data"
    }
   ],
   "source": [
    "parse \"John has to be allowed to run\" | construct"
   ]
  },
  {
   "cell_type": "code",
   "execution_count": 49,
   "metadata": {},
   "outputs": [
    {
     "data": {
      "text/plain": [
       "F (run john)"
      ]
     },
     "metadata": {},
     "output_type": "display_data"
    }
   ],
   "source": [
    "parse \"John will run\" | construct"
   ]
  },
  {
   "cell_type": "code",
   "execution_count": 50,
   "metadata": {},
   "outputs": [
    {
     "data": {
      "text/plain": [
       "P (run john)"
      ]
     },
     "metadata": {},
     "output_type": "display_data"
    }
   ],
   "source": [
    "parse \"John ran\" | construct"
   ]
  },
  {
   "cell_type": "code",
   "execution_count": 51,
   "metadata": {},
   "outputs": [
    {
     "data": {
      "text/plain": [
       "P P (run john)"
      ]
     },
     "metadata": {},
     "output_type": "display_data"
    }
   ],
   "source": [
    "parse \"John had run\" | construct"
   ]
  },
  {
   "cell_type": "code",
   "execution_count": 52,
   "metadata": {},
   "outputs": [
    {
     "data": {
      "text/plain": [
       "F P (run john)"
      ]
     },
     "metadata": {},
     "output_type": "display_data"
    }
   ],
   "source": [
    "parse \"John will have run\" | construct"
   ]
  },
  {
   "cell_type": "code",
   "execution_count": 53,
   "metadata": {},
   "outputs": [
    {
     "data": {
      "text/plain": [
       "P F (run john)"
      ]
     },
     "metadata": {},
     "output_type": "display_data"
    }
   ],
   "source": [
    "parse \"John would run\" | construct"
   ]
  },
  {
   "cell_type": "code",
   "execution_count": 54,
   "metadata": {},
   "outputs": [
    {
     "data": {
      "text/plain": [
       "P F P (run john)"
      ]
     },
     "metadata": {},
     "output_type": "display_data"
    }
   ],
   "source": [
    "parse \"John would have run\" | construct"
   ]
  },
  {
   "cell_type": "code",
   "execution_count": 55,
   "metadata": {},
   "outputs": [
    {
     "data": {
      "text/plain": [
       "P □(run john)"
      ]
     },
     "metadata": {},
     "output_type": "display_data"
    }
   ],
   "source": [
    "parse \"John had to run\" | construct"
   ]
  },
  {
   "cell_type": "code",
   "execution_count": 56,
   "metadata": {},
   "outputs": [
    {
     "data": {
      "text/plain": [
       "P P □(run john)"
      ]
     },
     "metadata": {},
     "output_type": "display_data"
    }
   ],
   "source": [
    "parse \"John had had to run\" | construct"
   ]
  },
  {
   "cell_type": "code",
   "execution_count": 57,
   "metadata": {},
   "outputs": [
    {
     "data": {
      "text/plain": [
       "F □(run john)"
      ]
     },
     "metadata": {},
     "output_type": "display_data"
    }
   ],
   "source": [
    "parse \"John will have to run\" | construct"
   ]
  },
  {
   "cell_type": "code",
   "execution_count": 58,
   "metadata": {},
   "outputs": [
    {
     "data": {
      "text/plain": [
       "F P □(run john)"
      ]
     },
     "metadata": {},
     "output_type": "display_data"
    }
   ],
   "source": [
    "parse \"John will have had to run\" | construct"
   ]
  },
  {
   "cell_type": "code",
   "execution_count": 59,
   "metadata": {},
   "outputs": [
    {
     "data": {
      "text/plain": [
       "F ◇(run john)"
      ]
     },
     "metadata": {},
     "output_type": "display_data"
    }
   ],
   "source": [
    "parse \"John will be allowed to run\" | construct"
   ]
  },
  {
   "cell_type": "code",
   "execution_count": 60,
   "metadata": {},
   "outputs": [
    {
     "data": {
      "text/plain": [
       "P ◇(run john)"
      ]
     },
     "metadata": {},
     "output_type": "display_data"
    }
   ],
   "source": [
    "parse \"John was allowed to run\" | construct"
   ]
  },
  {
   "cell_type": "markdown",
   "metadata": {},
   "source": [
    "### Semantics construction test cases (new)"
   ]
  },
  {
   "cell_type": "code",
   "execution_count": 61,
   "metadata": {},
   "outputs": [
    {
     "data": {
      "text/plain": [
       "run john"
      ]
     },
     "metadata": {},
     "output_type": "display_data"
    }
   ],
   "source": [
    "parse \"John does run\" | construct"
   ]
  },
  {
   "cell_type": "code",
   "execution_count": 62,
   "metadata": {},
   "outputs": [
    {
     "data": {
      "text/plain": [
       "P (run john)"
      ]
     },
     "metadata": {},
     "output_type": "display_data"
    }
   ],
   "source": [
    "parse \"John did run\" | construct"
   ]
  },
  {
   "cell_type": "code",
   "execution_count": 63,
   "metadata": {},
   "outputs": [
    {
     "data": {
      "text/plain": [
       "□(run john)"
      ]
     },
     "metadata": {},
     "output_type": "display_data"
    }
   ],
   "source": [
    "parse \"John does have to run\" | construct"
   ]
  },
  {
   "cell_type": "code",
   "execution_count": 64,
   "metadata": {},
   "outputs": [
    {
     "data": {
      "text/plain": [
       "F ¬(run john)"
      ]
     },
     "metadata": {},
     "output_type": "display_data"
    },
    {
     "data": {
      "text/plain": [
       "¬F (run john)"
      ]
     },
     "metadata": {},
     "output_type": "display_data"
    }
   ],
   "source": [
    "parse \"John will not run\" | construct"
   ]
  },
  {
   "cell_type": "code",
   "execution_count": 65,
   "metadata": {},
   "outputs": [
    {
     "data": {
      "text/plain": [
       "¬P F (run john)"
      ]
     },
     "metadata": {},
     "output_type": "display_data"
    },
    {
     "data": {
      "text/plain": [
       "P F ¬(run john)"
      ]
     },
     "metadata": {},
     "output_type": "display_data"
    },
    {
     "data": {
      "text/plain": [
       "P ¬F (run john)"
      ]
     },
     "metadata": {},
     "output_type": "display_data"
    }
   ],
   "source": [
    "parse \"John would not run\" | construct"
   ]
  },
  {
   "cell_type": "code",
   "execution_count": 66,
   "metadata": {},
   "outputs": [
    {
     "data": {
      "text/plain": [
       "¬P □(run john)"
      ]
     },
     "metadata": {},
     "output_type": "display_data"
    },
    {
     "data": {
      "text/plain": [
       "P ¬□(run john)"
      ]
     },
     "metadata": {},
     "output_type": "display_data"
    }
   ],
   "source": [
    "parse \"John did not have to run\" | construct"
   ]
  },
  {
   "cell_type": "code",
   "execution_count": 67,
   "metadata": {},
   "outputs": [
    {
     "data": {
      "text/plain": [
       "¬P F P (run john)"
      ]
     },
     "metadata": {},
     "output_type": "display_data"
    },
    {
     "data": {
      "text/plain": [
       "P F ¬P (run john)"
      ]
     },
     "metadata": {},
     "output_type": "display_data"
    },
    {
     "data": {
      "text/plain": [
       "P F P ¬(run john)"
      ]
     },
     "metadata": {},
     "output_type": "display_data"
    },
    {
     "data": {
      "text/plain": [
       "P ¬F P (run john)"
      ]
     },
     "metadata": {},
     "output_type": "display_data"
    }
   ],
   "source": [
    "parse \"John would not have run\" | construct"
   ]
  },
  {
   "cell_type": "code",
   "execution_count": 68,
   "metadata": {},
   "outputs": [
    {
     "data": {
      "text/plain": [
       "¬P P (kill dog john)"
      ]
     },
     "metadata": {},
     "output_type": "display_data"
    },
    {
     "data": {
      "text/plain": [
       "P ¬P (kill dog john)"
      ]
     },
     "metadata": {},
     "output_type": "display_data"
    },
    {
     "data": {
      "text/plain": [
       "P P ¬(kill dog john)"
      ]
     },
     "metadata": {},
     "output_type": "display_data"
    }
   ],
   "source": [
    "parse \"the dog had not killed John\" | construct"
   ]
  }
 ],
 "metadata": {
  "kernelspec": {
   "display_name": "GLIF",
   "language": "gf",
   "name": "glif"
  },
  "language_info": {
   "codemirror_mode": {
    "name": "gf",
    "version": 3
   },
   "file_extension": ".gf",
   "mimetype": "text/gf",
   "name": "gf"
  }
 },
 "nbformat": 4,
 "nbformat_minor": 4
}
