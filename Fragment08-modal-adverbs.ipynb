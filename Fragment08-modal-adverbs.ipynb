{
 "cells": [
  {
   "cell_type": "markdown",
   "metadata": {},
   "source": [
    "# Fragment 8\n",
    "\n",
    "This fragment introduces the modal adverbs *possibly* and *necessarily* and *probably*.\n",
    "\n",
    "This fragment is able to interpret the following sentences from the previous fragment:\n",
    "* \"John runs and Mary does not run\" as `(run john)∧¬(run mary)`\n",
    "* \"the dog runs\" as `run dog`\n",
    "* \"John loves Mary\" as `love john mary`\n",
    "* \"it is necessary that John runs\" as `□(run john)`\n",
    "* (broken) \"it is not possible that the dog kills John\" as `¬◇(kill dog john)`\n",
    "* (broken) \"it is not the case that John loves Mary\" as `¬(love john mary)`\n",
    "* \"John has to run\" as `□(run john)`\n",
    "* \"the dog is not allowed to kill John\" as `¬◇(kill dog john)`\n",
    "* \"John has to be allowed to run\" as `□◇(run john)`\n",
    "* \"John will run\" as `F(run john)`\n",
    "* \"John ran\" as `P(run john)`\n",
    "* \"John had run\" as `PP(run john)`\n",
    "* \"John will have run\" as `FP(run john)`\n",
    "* \"John would run\" as `PF(run john)`\n",
    "* \"John would have run\" as `PFP(run john)`\n",
    "* \"John had to run\" as `P□(run john)`\n",
    "* \"John had had to run\" as `PP□(run john)`\n",
    "* \"John will have to run\" as `F□(run john)`\n",
    "* \"John will have had to run\" as `FP□(run john)`\n",
    "* \"John will be allowed to run\" as `F◇(run john)`\n",
    "* \"John was allowed to run\" as `P◇(run john)`\n",
    "* \"John does run\" as `run john`\n",
    "* \"John did run\" as `P(run john)`\n",
    "* \"John does have to run\" as `□(run john)`\n",
    "* \"John will not run\" as `¬F(run john)` or `F¬(run john)`\n",
    "* \"John would not run\" as `¬PF(run john)`, `PF¬(run john)` or `P¬F(run john)`\n",
    "* \"John did not have to run\" as `¬P□(run john)` or `P¬□(run john)`\n",
    "* \"John would not have run\" as `¬PFP(run john)`, `P¬FP(run john)`, `PF¬P(run john)`\n",
    "* \"John would have not run\" as `PFP¬(run john)`\n",
    "* \"the dog has not killed John\" as `¬P(kill dog john)` or `P¬(kill dog john)`\n",
    "* \"John has to not run\" as `□¬(run john)`\n",
    "* \"John does always run\" as `H(run john)∧G(run john)`\n",
    "* \"John did always run\" as `H(run john)`\n",
    "* \"John will always run\" as `G(run john)`\n",
    "* \"John is allowed to always run\" `◇(H(run john)∧G(run john))`\n",
    "* \"John has to have been allowed to always run\" as `□P◇(H(run john)∧G(run john))`\n",
    "* \"John would never have run\" as `PG¬P(run john)`\n",
    "\n",
    "This fragment is able to interpret the following new sentences:\n",
    "* \"John always runs\" as `H(run john)∧G(run john)`\n",
    "* \"John always ran\" as `H(run john)`\n",
    "* \"John always will run\" as `G(run john)`\n",
    "* \"John probably will never run\" as `Prob G¬(run john)`\n",
    "* \"John necessarily runs\" as `□(run john)`\n",
    "\n",
    "## Parsing"
   ]
  },
  {
   "cell_type": "code",
   "execution_count": 1,
   "metadata": {},
   "outputs": [
    {
     "data": {
      "text/plain": [
       "Defined TensesGrammar"
      ]
     },
     "metadata": {},
     "output_type": "display_data"
    }
   ],
   "source": [
    "abstract TensesGrammar = {\n",
    "    cat\n",
    "        S;         -- Sentence\n",
    "        SMod;      -- Sentence modifier\n",
    "        Vi;        -- Intransitive verb\n",
    "        Vt;        -- Transitive verb\n",
    "        Vmod;      -- Modal verb\n",
    "        VPbase;    -- Verb phrase in base form\n",
    "        VPbasem;   -- Modified verb phrase in base form\n",
    "        VP;        -- Verb phrase\n",
    "        VPfc;      -- Verb phrase with fix complex form\n",
    "        Npr;       -- Proper noun\n",
    "        N;         -- Common noun\n",
    "        NP;        -- Noun phrase\n",
    "        Conj;      -- Conjunction\n",
    "        Mod;       -- Modal modifier\n",
    "        TAdv;      -- Temporal adverb\n",
    "    fun\n",
    "        -- Simple verb form sentence: \"John runs\"\n",
    "        ssimp : NP -> VPfc -> S;\n",
    "        -- Complex verb form sentence: \"John does not run\"\n",
    "        scomp : NP -> VPfc -> S;\n",
    "        -- Connected sentence:\n",
    "        -- \"John runs and Mary doesn't run\"\n",
    "        sconj : S -> Conj -> S -> S;\n",
    "        -- Modified sentence: \"it is necessary that John runs\"\n",
    "        -- (For be verbs only the complex form exists)\n",
    "        smod : SMod -> S -> S;\n",
    "        \n",
    "        -- Build a verb phrase from an intransitive verb: \"run\"\n",
    "        vpvi : Vi -> VPbase;\n",
    "        -- Build a verb phrase from a transitive verb and a noun phrase\n",
    "        -- \"love\" + \"Mary\" -> \"love Mary\"\n",
    "        vpvt : Vt -> NP -> VPbase;\n",
    "        \n",
    "        -- Start modification of verb phrase in base form\n",
    "        vpbm : VPbase -> VPbasem;\n",
    "        -- Apply a modal modifier to an existing verb phrase in base form\n",
    "        vpbmod : Mod -> VPbasem -> VPbasem;\n",
    "        -- Apply a temporal adverb to a verb phrase in base form\n",
    "        vpbpresmod : TAdv -> VPbasem -> VPbasem;\n",
    "        -- Apply a modal verb to an existing verb phrase in base form\n",
    "        -- \"have to\" + \"run\" -> \"have to run\"\n",
    "        vpvmod : Vmod -> VPbasem -> VPbase;\n",
    "        -- Apply a past operator to a verb phrase in base form\n",
    "        -- (\"have\" + past participle form)\n",
    "        vpbpast : VPbasem -> VPbase;\n",
    "        -- Apply a past operator to a verb phrase in base form and a temporal adverb\n",
    "        -- e.g. \"always\" + \"run\" -> \"have always run\"\n",
    "        vpbpastmod : TAdv -> VPbasem -> VPbase;\n",
    "        \n",
    "        -- Conjugate a verb phrase that is in base form\n",
    "        vppres : VPbase -> VP;\n",
    "        -- Apply the past tense operator\n",
    "        vppast : VP -> VP;\n",
    "        -- Apply the future tense operator\n",
    "        vpfut : VP -> VP;\n",
    "        -- Apply a modal modifier to an existing verb phrase\n",
    "        vpmod : Mod -> VP -> VP;\n",
    "        \n",
    "        -- Conjugate a verb phrase that is in base form using a temporal adverb\n",
    "        vppresmod : TAdv -> VP -> VP;\n",
    "        -- Apply the past tense operator and a temporal adverb\n",
    "        vppastmod : TAdv -> VP -> VP;\n",
    "        -- Apply the future tense operator and a temporal adverb\n",
    "        vpfutmod : TAdv -> VP -> VP;\n",
    "        \n",
    "        -- Fix the complex form of a verb phrase\n",
    "        vpfc : VP -> VPfc;\n",
    "        -- Apply a modal modifier to a verb phrase with fix complex form\n",
    "        vpfcmod : Mod -> VPfc -> VPfc;\n",
    "        -- Apply the present form of a temporal adverb\n",
    "        vpfcpresmod : TAdv -> VPfc -> VPfc;\n",
    "        -- Apply the past tense operator and a temporal adverb\n",
    "        vpfcpastmod : TAdv -> VPfc -> VPfc;\n",
    "        -- Apply the future tense operator and a temporal adverb\n",
    "        vpfcfutmod : TAdv -> VPfc -> VPfc;\n",
    "        \n",
    "        -- Build a noun phrase from a proper noun: \"John\"\n",
    "        npnpr : Npr -> NP;\n",
    "        -- Build a noun phrase from a common noun\n",
    "        -- \"dog\" -> \"the dog\"\n",
    "        npn : N -> NP;\n",
    "        \n",
    "        -- Verbs\n",
    "        run, jump, laugh, sing, howl, scream : Vi;\n",
    "        read, poison, eat, like, love, loath, kick, see, understand, kill : Vt;\n",
    "        haveto, beallowedto : Vmod;\n",
    "        bepossible, benecessary, bethecase : SMod;\n",
    "        -- Nouns\n",
    "        prudence, ethel, chester, jo, bertie, fiona, berta, john, mary, peter : Npr;\n",
    "        book, cake, katze, golfer, dog, lecturer, student, singer : N;\n",
    "        -- Conjunctions\n",
    "        and, or : Conj;\n",
    "        -- Modal modifiers\n",
    "        not, possibly, necessarily, probably : Mod;\n",
    "        -- Temporal adverbs\n",
    "        always, never : TAdv;\n",
    "}"
   ]
  },
  {
   "cell_type": "code",
   "execution_count": 2,
   "metadata": {},
   "outputs": [],
   "source": [
    "concrete TensesGrammarEng of TensesGrammar = {\n",
    "    param\n",
    "        Tense = Present | Past | Future;\n",
    "        TenseState = Untouched | Touched | SemiFixed | Fixed;\n",
    "        ModType = ComplexOnly | SimpleAndComplex;\n",
    "    oper\n",
    "        -- The type of the conjugated form of a verb\n",
    "        VCType : Type = {\n",
    "            simple : Str;\n",
    "            prefix : Str;\n",
    "            suffix : Str\n",
    "        };\n",
    "        -- The type of a conjugated verb\n",
    "        VType : Type = {\n",
    "            tenseState : TenseState;\n",
    "            singleTense : Tense => VCType;\n",
    "            doubleTense : Tense => Tense => VCType\n",
    "        };\n",
    "        -- The type of a verb in base form\n",
    "        VBType : Type = VType ** { base : Str ; participle : Str };\n",
    "        -- The type of a modal modifier\n",
    "        MType : Type = { s : Str ; t : ModType };\n",
    "    lincat\n",
    "        S = Str;            -- Sentence\n",
    "        SMod = VBType;      -- Sentence modifier\n",
    "        Vi = VBType;        -- Intransitive verb\n",
    "        Vt = VBType;        -- Transitive verb\n",
    "        Vmod = VBType;      -- Modal verb\n",
    "        VPbase = VBType;    -- Verb phrase in base form\n",
    "        VPbasem = VBType;   -- Modified verb phrase in base form\n",
    "        VP = VType;         -- Verb phrase\n",
    "        VPfc = VType;       -- Verb phrase with fix complex form\n",
    "        Npr = Str;          -- Proper noun\n",
    "        N = Str;            -- Common noun\n",
    "        NP = Str;           -- Noun phrase\n",
    "        Conj = Str;         -- Conjunction\n",
    "        Mod = MType;        -- Modal modifier\n",
    "        TAdv = MType;       -- Temporal adverb\n",
    "    oper\n",
    "        -- None workaround\n",
    "        None : Str = \"[ERROR]\";\n",
    "        \n",
    "        -- Helper function construct a conjugated form of a verb\n",
    "        mkVC = overload {\n",
    "            mkVC : Str -> Str -> Str -> VCType = \\simple,pref,suf -> { simple = simple ; prefix = pref ; suffix = suf };\n",
    "            mkVC : Str -> Str -> VCType = \\pref,suf -> { simple = None ; prefix = pref ; suffix = suf };\n",
    "            mkVC : Str -> VCType = \\pref -> { simple = pref ; prefix = pref ; suffix = [] };\n",
    "        };\n",
    "        \n",
    "        -- None workaround for conjugated form of a verb\n",
    "        VCNone : VCType = { simple = None ; prefix = None ; suffix = None };\n",
    "        \n",
    "        -- Helper function to construct a verb\n",
    "        mkV_ : Str -> Str -> VCType -> VCType -> VBType = \\vb,vpart,vpres,vpast -> {\n",
    "            base = vb;\n",
    "            participle = vpart;\n",
    "            tenseState = Untouched;\n",
    "            singleTense = table {\n",
    "                Present => vpres;\n",
    "                Past => vpast;\n",
    "                Future => mkVC \"will\" vb\n",
    "            };\n",
    "            doubleTense = table {\n",
    "                Future => table {\n",
    "                    Past => mkVC \"would\" vb;\n",
    "                    _ => VCNone\n",
    "                };\n",
    "                _ => \\\\_ => VCNone\n",
    "            }\n",
    "        };\n",
    "        \n",
    "        -- Helper function to construct a verb\n",
    "        mkV = overload {\n",
    "            mkV : Str -> Str -> Str -> VBType =\n",
    "                \\vb,vpast,vpart -> mkV_ vb vpart (mkVC (vb + \"s\") \"does\" vb) (mkVC vpast \"did\" vb);\n",
    "            mkV : Str -> Str -> Str -> Str -> VBType =\n",
    "                \\vb,vpres,vpast,vpart -> mkV_ vb vpart (mkVC vpres \"does\" vb) (mkVC vpast \"did\" vb);\n",
    "        };\n",
    "        -- Helper function to construct a be verb\n",
    "        -- mkBeV \"possible\" = { pos = \"is possible\" ; neg = \"is not possible\"}\n",
    "        mkBeV : Str -> VBType = \\s -> mkV_ (\"be\" ++ s) (\"been\" ++ s) (mkVC \"is\" s) (mkVC \"was\" s);\n",
    "        -- Helper function to construct a have verb\n",
    "        mkHaveV : Str -> VBType = \\s -> mkV_ (\"have\" ++ s) (\"had\" ++ s) (mkVC \"has\" s) (mkVC \"had\" s);\n",
    "        \n",
    "        -- Helper function to apply a tense operator to a verb\n",
    "        applyTense : VType -> Tense -> VType = \\v,tense -> {\n",
    "            tenseState = Touched;\n",
    "            singleTense = table {\n",
    "                Present => v.singleTense ! tense;\n",
    "                x => v.doubleTense ! tense ! x\n",
    "            };\n",
    "            doubleTense = \\\\_,_ => VCNone\n",
    "        };\n",
    "        \n",
    "        -- Helper function to set tense state\n",
    "        setTenseState = overload {\n",
    "            setTenseState : VBType -> TenseState -> VBType = \\v,s -> v ** { tenseState = s };\n",
    "            setTenseState : VType -> TenseState -> VType = \\v,s -> v ** { tenseState = s };\n",
    "        };\n",
    "        -- Helper function to enforce a specific tense state in a rule\n",
    "        onlyUntouchedTense = overload {\n",
    "            onlyUntouchedTense : VBType -> VBType = \\v -> case v.tenseState of { Untouched => v; _ => variants{} };\n",
    "            onlyUntouchedTense : VType -> VType = \\v -> case v.tenseState of { Untouched => v; _ => variants{} };\n",
    "        };\n",
    "        -- Helper function to enforce tense state not Fixed in a rule\n",
    "        excludeFixedTense = overload {\n",
    "            excludeFixedTense : VBType -> VBType = \\v -> case v.tenseState of { Fixed => variants{}; _ => v };\n",
    "            excludeFixedTense : VType -> VType = \\v -> case v.tenseState of { Fixed => variants{}; _ => v };\n",
    "        };\n",
    "        -- Helper function to enforce tense state not Fixed in a rule\n",
    "        excludeSemiFixedTense = overload {\n",
    "            excludeSemiFixedTense : VBType -> VBType = \\v -> case v.tenseState of { Fixed => variants{}; SemiFixed => variants{}; _ => v };\n",
    "            excludeSemiFixedTense : VType -> VType = \\v -> case v.tenseState of { Fixed => variants{}; SemiFixed => variants{}; _ => v };\n",
    "        };\n",
    "        \n",
    "        -- Helper function to append a string to a conjugated form of a verb\n",
    "        vcconcat : VCType -> Str -> VCType = \\vc,s -> {\n",
    "            simple = vc.simple ++ s;\n",
    "            prefix = vc.prefix;\n",
    "            suffix = vc.suffix ++ s;\n",
    "        };\n",
    "        -- Helper function to append a string to verb base\n",
    "        vpconcat : VBType -> Str -> VBType = \\v,s -> {\n",
    "            base = v.base ++ s;\n",
    "            participle = v.participle ++ s;\n",
    "            tenseState = v.tenseState;\n",
    "            singleTense = \\\\t => vcconcat (v.singleTense ! t) s;\n",
    "            doubleTense = \\\\t1,t2 => vcconcat (v.doubleTense ! t1 ! t2) s\n",
    "        };\n",
    "        \n",
    "        -- Helper function to apply a modifier to a conjugated form of a verb\n",
    "        vcapplymod : MType -> VCType -> VCType = \\mod,vc -> {\n",
    "            simple = None;\n",
    "            prefix = vc.prefix;\n",
    "            suffix = mod.s ++ vc.suffix;\n",
    "        };\n",
    "        -- Helper function to apply a modifier to a conjugated form of a verb with fix complex form\n",
    "        vcfcapplymod : MType -> VCType -> VCType = \\mod,vc -> {\n",
    "            simple = mod.s ++ vc.simple;\n",
    "            prefix = mod.s ++ vc.prefix;\n",
    "            suffix = vc.suffix;\n",
    "        };\n",
    "        -- Helper function to apply a modifier to a verb\n",
    "        vpapplymod : MType -> VType -> VType = \\mod,v -> {\n",
    "            tenseState = v.tenseState;\n",
    "            singleTense = \\\\t => vcapplymod mod (v.singleTense ! t);\n",
    "            doubleTense = \\\\t1,t2 => vcapplymod mod (v.doubleTense ! t1 ! t2)\n",
    "        };\n",
    "        -- Helper function to apply a modifier to a verb in base form\n",
    "        vpbapplymod : MType -> VBType -> VBType = \\mod,v -> (vpapplymod mod v) ** {\n",
    "            base = mod.s ++ v.base;\n",
    "            participle = mod.s ++ v.participle\n",
    "        };\n",
    "        -- Helper function to apply a modifier to a verb with fix complex form\n",
    "        vpfcapplymod : MType -> VType -> VType = \\mod,v -> case mod.t of {\n",
    "            SimpleAndComplex => {\n",
    "                tenseState = v.tenseState;\n",
    "                singleTense = \\\\t => vcfcapplymod mod (v.singleTense ! t);\n",
    "                doubleTense = \\\\t1,t2 => vcfcapplymod mod (v.doubleTense ! t1 ! t2)\n",
    "            };\n",
    "            ComplexOnly => variants{}\n",
    "        };\n",
    "        \n",
    "        -- Helper functions to construct a modal modifier\n",
    "        mkMod : Str -> MType = \\s -> { s = s ; t = SimpleAndComplex };\n",
    "        mkModC : Str -> MType = \\s -> { s = s ; t = ComplexOnly };\n",
    "    lin\n",
    "        -- Simple verb form sentence: \"John runs\"\n",
    "        -- ssimp : NP -> VPft -> S\n",
    "        ssimp npr v = npr ++ (v.singleTense ! Present).simple;\n",
    "        -- Complex verb form sentence: \"John does not run\"\n",
    "        -- scomp : NP -> VPft -> S\n",
    "        scomp npr v = npr ++ (v.singleTense ! Present).prefix ++ (v.singleTense ! Present).suffix;\n",
    "        -- Connected sentence:\n",
    "        -- \"John runs and Mary doesn't run\"\n",
    "        -- sconj : S -> Conj -> S -> S\n",
    "        sconj s1 c s2 = s1 ++ c ++ s2;\n",
    "        -- Modified sentence: \"it is necessary that John runs\"\n",
    "        -- (For be verbs only the complex form exists)\n",
    "        -- smod : SMod -> S -> S\n",
    "        smod mod s = \"it\" ++ (mod.singleTense ! Present).prefix ++ (mod.singleTense ! Present).suffix ++ \"that\" ++ s;\n",
    "        \n",
    "        -- Build a verb phrase from an intransitive verb: \"run\"\n",
    "        -- vpvi : Vi -> VPbase\n",
    "        vpvi v = v;\n",
    "        -- Build a verb phrase from a transitive verb and a noun phrase\n",
    "        -- \"love\" + \"Mary\" -> \"love Mary\"\n",
    "        -- vpvt : Vt -> NP -> VPbase\n",
    "        vpvt v np = vpconcat v np;\n",
    "        \n",
    "        -- Start modification of verb phrase in base form\n",
    "        -- vpbm : VPbase -> VPbasem\n",
    "        vpbm vp = vp;\n",
    "        -- Apply a modal modifier to an existing verb phrase in base form\n",
    "        -- vpbmod : Mod -> VPbasem -> VPbasem\n",
    "        vpbmod mod vp = vpbapplymod mod vp;\n",
    "        -- Apply a temporal adverb to a verb phrase in base form\n",
    "        -- vpbpresmod : TAdv + VPbasem -> VPbasem\n",
    "        vpbpresmod mod vp = setTenseState (vpbapplymod mod (onlyUntouchedTense vp)) Fixed;\n",
    "        -- Apply a modal verb to an existing verb phrase in base form\n",
    "        -- \"have to\" + \"run\" -> \"have to run\"\n",
    "        -- vpvmod : Vmod -> VPbasem -> VPbase\n",
    "        vpvmod vmod vp = vpconcat vmod vp.base;\n",
    "        -- Apply a past operator to a verb phrase in base form\n",
    "        -- (\"have\" + past participle form)\n",
    "        -- vpbpast : VPbasem -> VPbase\n",
    "        vpbpast vp = setTenseState (mkHaveV (excludeFixedTense vp).participle) Touched;\n",
    "        -- Apply a past operator to a verb phrase in base form and a temporal adverb\n",
    "        -- e.g. \"always\" + \"run\" -> \"have always run\"\n",
    "        -- vpbpastmod : TAdv -> VPbasem -> VPbase\n",
    "        vpbpastmod mod vp = setTenseState (mkHaveV (vpbapplymod mod (excludeFixedTense vp)).participle) Touched;\n",
    "        \n",
    "        -- Conjugate a verb phrase that is in base form\n",
    "        -- vppres : VPbase -> VP\n",
    "        vppres vp = vp;\n",
    "        -- Apply the past tense operator\n",
    "        -- vppast : VP -> VP\n",
    "        vppast vp = setTenseState (applyTense (excludeFixedTense vp) Past) SemiFixed;\n",
    "        -- apply the future tense operator\n",
    "        -- vpfut : VP -> VP\n",
    "        vpfut vp = setTenseState (applyTense (excludeFixedTense vp) Future) SemiFixed;\n",
    "        -- Apply a modal modifier to an existing verb phrase\n",
    "        -- vpmod : Mod -> VP -> VP\n",
    "        vpmod mod vp = vpapplymod mod vp;\n",
    "        \n",
    "        -- Conjugate a verb phrase that is in base form using a temporal adverb\n",
    "        -- (only applicable if verb phrase's tense is untouched)\n",
    "        -- vppresmod : TAdv -> VP -> VP\n",
    "        vppresmod mod vp = setTenseState (vpapplymod mod (onlyUntouchedTense vp)) Fixed;\n",
    "        -- Apply the past tense operator and a temporal adverb\n",
    "        -- vppastmod : TAdv -> VP -> VP\n",
    "        vppastmod mod vp = setTenseState (applyTense (vpapplymod mod (excludeSemiFixedTense vp)) Past) SemiFixed;\n",
    "        -- apply the future tense operator and a temporal adverb\n",
    "        -- vpfutmod : TAdv -> VP -> VP\n",
    "        vpfutmod mod vp = setTenseState (applyTense (vpapplymod mod (excludeSemiFixedTense vp)) Future) SemiFixed;\n",
    "        \n",
    "        -- Fix the complex form of a verb phrase\n",
    "        -- vpfc : VP -> VPfc\n",
    "        vpfc vp = vp;\n",
    "        -- Apply a modal modifier to a verb phrase with fix complex form\n",
    "        -- vpfcmod : Mod -> VPfc -> VPfc\n",
    "        vpfcmod mod vp = vpfcapplymod mod vp;\n",
    "        -- Apply the present form of a temporal adverb\n",
    "        -- vpfcpresmod : TAdv -> VPfc -> VPfc\n",
    "        vpfcpresmod mod vp = setTenseState (vpfcapplymod mod (onlyUntouchedTense vp)) Fixed;\n",
    "        -- Apply the past tense operator and a temporal adverb\n",
    "        -- vpfcpastmod : TAdv -> VPfc -> VPfc\n",
    "        vpfcpastmod mod vp = setTenseState (applyTense (vpfcapplymod mod (excludeSemiFixedTense vp)) Past) SemiFixed;\n",
    "        -- Apply the future tense operator and a temporal adverb\n",
    "        -- vpfcfutmod : TAdv -> VPfc -> VPfc\n",
    "        vpfcfutmod mod vp = setTenseState (applyTense (vpfcapplymod mod (excludeSemiFixedTense vp)) Future) SemiFixed;\n",
    "        \n",
    "        -- Build a noun phrase from a proper noun: \"John\"\n",
    "        -- npnpr : Npr -> NP\n",
    "        npnpr npr = npr;\n",
    "        -- Build a noun phrase from a common noun\n",
    "        -- \"dog\" -> \"the dog\"\n",
    "        -- npn : N -> NP\n",
    "        npn n = \"the\" ++ n;\n",
    "        \n",
    "        -- Intrasitive verbs\n",
    "        run = mkV \"run\" \"ran\" \"run\"; jump = mkV \"jump\" \"jumped\" \"jumped\"; laugh = mkV \"laugh\" \"laughed\" \"laughed\";\n",
    "        sing = mkV \"sing\" \"sang\" \"sung\"; howl = mkV \"howl\" \"howled\" \"howled\"; scream = mkV \"scream\" \"screamed\" \"screamed\";\n",
    "        -- Transitive verbs\n",
    "        read = mkV \"read\" \"read\" \"read\"; poison = mkV \"poison\" \"poisoned\" \"poisoned\"; eat = mkV \"eat\" \"ate\" \"eaten\";\n",
    "        like = mkV \"like\" \"liked\" \"liked\"; love = mkV \"love\" \"loved\" \"loved\"; loath = mkV \"loath\" \"loathed\" \"loathed\";\n",
    "        kick = mkV \"kick\" \"kicked\" \"kicked\"; see = mkV \"see\" \"saw\" \"seen\"; understand = mkV \"understand\" \"understood\" \"understood\";\n",
    "        kill = mkV \"kill\" \"killed\" \"killed\";\n",
    "        -- Modal verbs\n",
    "        haveto = mkV \"have to\" \"has to\" \"had to\" \"had to\"; beallowedto = mkBeV \"allowed to\";\n",
    "        bepossible = mkBeV \"possible\"; benecessary = mkBeV \"necessary\"; bethecase = mkBeV \"the case\";\n",
    "        -- Nouns\n",
    "        prudence = \"Prudence\"; ethel = \"Ethel\"; chester = \"Chester\"; jo = \"Jo\"; bertie = \"Bertie\"; fiona = \"Fiona\"; berta = \"Berta\";\n",
    "        john = \"John\"; mary = \"Mary\"; peter = \"Peter\";\n",
    "        book = \"book\"; cake = \"cake\"; katze = \"cat\"; golfer = \"golfer\"; dog = \"dog\"; lecturer = \"lecturer\"; student = \"student\";\n",
    "        singer = \"singer\"; \n",
    "        -- Conjunctions\n",
    "        and = \"and\"; or = \"or\";\n",
    "        -- Modal modifiers\n",
    "        not = mkModC \"not\"; possibly = mkMod \"possibly\"; necessarily = mkMod \"necessarily\"; probably = mkMod \"probably\";\n",
    "        -- Temporal adverbs\n",
    "        always = mkMod \"always\"; never = mkMod \"never\";\n",
    "}"
   ]
  },
  {
   "cell_type": "markdown",
   "metadata": {},
   "source": [
    "### Parsing test cases (old)"
   ]
  },
  {
   "cell_type": "code",
   "execution_count": 3,
   "metadata": {},
   "outputs": [
    {
     "data": {
      "text/plain": [
       "ssimp (npnpr john) (vpfc (vppres (vpvi run)))"
      ]
     },
     "metadata": {},
     "output_type": "display_data"
    }
   ],
   "source": [
    "parse \"John runs\""
   ]
  },
  {
   "cell_type": "code",
   "execution_count": 4,
   "metadata": {},
   "outputs": [
    {
     "data": {
      "text/plain": [
       "scomp (npnpr john) (vpfc (vpmod not (vppres (vpvi run))))"
      ]
     },
     "metadata": {},
     "output_type": "display_data"
    }
   ],
   "source": [
    "parse \"John does not run\""
   ]
  },
  {
   "cell_type": "code",
   "execution_count": 5,
   "metadata": {},
   "outputs": [
    {
     "data": {
      "text/plain": [
       "sconj (ssimp (npnpr john) (vpfc (vppres (vpvi run)))) and (scomp (npnpr mary) (vpfc (vpmod not (vppres (vpvi run)))))"
      ]
     },
     "metadata": {},
     "output_type": "display_data"
    }
   ],
   "source": [
    "parse \"John runs and Mary does not run\""
   ]
  },
  {
   "cell_type": "code",
   "execution_count": 6,
   "metadata": {},
   "outputs": [
    {
     "data": {
      "text/plain": [
       "sconj (scomp (npnpr john) (vpfc (vpmod not (vppres (vpvi jump))))) or (ssimp (npnpr mary) (vpfc (vppres (vpvi run))))"
      ]
     },
     "metadata": {},
     "output_type": "display_data"
    }
   ],
   "source": [
    "parse \"John does not jump or Mary runs\""
   ]
  },
  {
   "cell_type": "code",
   "execution_count": 7,
   "metadata": {},
   "outputs": [
    {
     "data": {
      "text/plain": [
       "ssimp (npn dog) (vpfc (vppres (vpvi run)))"
      ]
     },
     "metadata": {},
     "output_type": "display_data"
    }
   ],
   "source": [
    "parse \"the dog runs\""
   ]
  },
  {
   "cell_type": "code",
   "execution_count": 8,
   "metadata": {},
   "outputs": [
    {
     "data": {
      "text/plain": [
       "ssimp (npnpr john) (vpfc (vppres (vpvt love (npnpr mary))))"
      ]
     },
     "metadata": {},
     "output_type": "display_data"
    }
   ],
   "source": [
    "parse \"John loves Mary\""
   ]
  },
  {
   "cell_type": "code",
   "execution_count": 9,
   "metadata": {},
   "outputs": [
    {
     "data": {
      "text/plain": [
       "sconj (ssimp (npnpr john) (vpfc (vppres (vpvt love (npnpr mary))))) and (scomp (npnpr mary) (vpfc (vpmod not (vppres (vpvt love (npnpr john))))))"
      ]
     },
     "metadata": {},
     "output_type": "display_data"
    }
   ],
   "source": [
    "parse \"John loves Mary and Mary does not love John\""
   ]
  },
  {
   "cell_type": "code",
   "execution_count": 10,
   "metadata": {},
   "outputs": [
    {
     "data": {
      "text/plain": [
       "smod benecessary (ssimp (npnpr john) (vpfc (vppres (vpvi run))))"
      ]
     },
     "metadata": {},
     "output_type": "display_data"
    }
   ],
   "source": [
    "parse \"it is necessary that John runs\""
   ]
  },
  {
   "cell_type": "code",
   "execution_count": 11,
   "metadata": {},
   "outputs": [
    {
     "data": {
      "text/plain": [
       "The parser failed at token 3: \"not\""
      ]
     },
     "metadata": {},
     "output_type": "display_data"
    }
   ],
   "source": [
    "parse \"it is not possible that the dog kills John\""
   ]
  },
  {
   "cell_type": "code",
   "execution_count": 12,
   "metadata": {},
   "outputs": [
    {
     "data": {
      "text/plain": [
       "The parser failed at token 3: \"not\""
      ]
     },
     "metadata": {},
     "output_type": "display_data"
    }
   ],
   "source": [
    "parse \"it is not the case that John loves Mary\""
   ]
  },
  {
   "cell_type": "code",
   "execution_count": 13,
   "metadata": {},
   "outputs": [
    {
     "data": {
      "text/plain": [
       "ssimp (npnpr john) (vpfc (vppres (vpvmod haveto (vpbm (vpvi run)))))"
      ]
     },
     "metadata": {},
     "output_type": "display_data"
    }
   ],
   "source": [
    "parse \"John has to run\""
   ]
  },
  {
   "cell_type": "code",
   "execution_count": 14,
   "metadata": {},
   "outputs": [
    {
     "data": {
      "text/plain": [
       "scomp (npn dog) (vpfc (vpmod not (vppres (vpvmod beallowedto (vpbm (vpvt kill (npnpr john)))))))"
      ]
     },
     "metadata": {},
     "output_type": "display_data"
    }
   ],
   "source": [
    "parse \"the dog is not allowed to kill John\""
   ]
  },
  {
   "cell_type": "code",
   "execution_count": 15,
   "metadata": {},
   "outputs": [
    {
     "data": {
      "text/plain": [
       "ssimp (npnpr john) (vpfc (vppres (vpvmod haveto (vpbm (vpvmod beallowedto (vpbm (vpvi run)))))))"
      ]
     },
     "metadata": {},
     "output_type": "display_data"
    }
   ],
   "source": [
    "parse \"John has to be allowed to run\""
   ]
  },
  {
   "cell_type": "code",
   "execution_count": 16,
   "metadata": {},
   "outputs": [
    {
     "data": {
      "text/plain": [
       "scomp (npnpr john) (vpfc (vpfut (vppres (vpvi run))))"
      ]
     },
     "metadata": {},
     "output_type": "display_data"
    }
   ],
   "source": [
    "parse \"John will run\""
   ]
  },
  {
   "cell_type": "code",
   "execution_count": 17,
   "metadata": {},
   "outputs": [
    {
     "data": {
      "text/plain": [
       "ssimp (npnpr john) (vpfc (vppast (vppres (vpvi run))))"
      ]
     },
     "metadata": {},
     "output_type": "display_data"
    }
   ],
   "source": [
    "parse \"John ran\""
   ]
  },
  {
   "cell_type": "code",
   "execution_count": 18,
   "metadata": {},
   "outputs": [
    {
     "data": {
      "text/plain": [
       "scomp (npnpr john) (vpfc (vppast (vppres (vpbpast (vpbm (vpvi run))))))"
      ]
     },
     "metadata": {},
     "output_type": "display_data"
    }
   ],
   "source": [
    "parse \"John had run\""
   ]
  },
  {
   "cell_type": "code",
   "execution_count": 19,
   "metadata": {},
   "outputs": [
    {
     "data": {
      "text/plain": [
       "scomp (npnpr john) (vpfc (vpfut (vppres (vpbpast (vpbm (vpvi run))))))"
      ]
     },
     "metadata": {},
     "output_type": "display_data"
    }
   ],
   "source": [
    "parse \"John will have run\""
   ]
  },
  {
   "cell_type": "code",
   "execution_count": 20,
   "metadata": {},
   "outputs": [
    {
     "data": {
      "text/plain": [
       "scomp (npnpr john) (vpfc (vppast (vpfut (vppres (vpvi run)))))"
      ]
     },
     "metadata": {},
     "output_type": "display_data"
    }
   ],
   "source": [
    "parse \"John would run\""
   ]
  },
  {
   "cell_type": "code",
   "execution_count": 21,
   "metadata": {},
   "outputs": [
    {
     "data": {
      "text/plain": [
       "scomp (npnpr john) (vpfc (vppast (vpfut (vppres (vpbpast (vpbm (vpvi run)))))))"
      ]
     },
     "metadata": {},
     "output_type": "display_data"
    }
   ],
   "source": [
    "parse \"John would have run\""
   ]
  },
  {
   "cell_type": "code",
   "execution_count": 22,
   "metadata": {},
   "outputs": [
    {
     "data": {
      "text/plain": [
       "ssimp (npnpr john) (vpfc (vppast (vppres (vpvmod haveto (vpbm (vpvi run))))))"
      ]
     },
     "metadata": {},
     "output_type": "display_data"
    }
   ],
   "source": [
    "parse \"John had to run\""
   ]
  },
  {
   "cell_type": "code",
   "execution_count": 23,
   "metadata": {},
   "outputs": [
    {
     "data": {
      "text/plain": [
       "scomp (npnpr john) (vpfc (vppast (vppres (vpbpast (vpbm (vpvmod haveto (vpbm (vpvi run))))))))"
      ]
     },
     "metadata": {},
     "output_type": "display_data"
    }
   ],
   "source": [
    "parse \"John had had to run\""
   ]
  },
  {
   "cell_type": "code",
   "execution_count": 24,
   "metadata": {},
   "outputs": [
    {
     "data": {
      "text/plain": [
       "scomp (npnpr john) (vpfc (vpfut (vppres (vpvmod haveto (vpbm (vpvi run))))))"
      ]
     },
     "metadata": {},
     "output_type": "display_data"
    }
   ],
   "source": [
    "parse \"John will have to run\""
   ]
  },
  {
   "cell_type": "code",
   "execution_count": 25,
   "metadata": {},
   "outputs": [
    {
     "data": {
      "text/plain": [
       "scomp (npnpr john) (vpfc (vpfut (vppres (vpbpast (vpbm (vpvmod haveto (vpbm (vpvi run))))))))"
      ]
     },
     "metadata": {},
     "output_type": "display_data"
    }
   ],
   "source": [
    "parse \"John will have had to run\""
   ]
  },
  {
   "cell_type": "code",
   "execution_count": 26,
   "metadata": {},
   "outputs": [
    {
     "data": {
      "text/plain": [
       "scomp (npnpr john) (vpfc (vpfut (vppres (vpvmod beallowedto (vpbm (vpvi run))))))"
      ]
     },
     "metadata": {},
     "output_type": "display_data"
    }
   ],
   "source": [
    "parse \"John will be allowed to run\""
   ]
  },
  {
   "cell_type": "code",
   "execution_count": 27,
   "metadata": {},
   "outputs": [
    {
     "data": {
      "text/plain": [
       "scomp (npnpr john) (vpfc (vppast (vppres (vpvmod beallowedto (vpbm (vpvi run))))))"
      ]
     },
     "metadata": {},
     "output_type": "display_data"
    }
   ],
   "source": [
    "parse \"John was allowed to run\""
   ]
  },
  {
   "cell_type": "code",
   "execution_count": 28,
   "metadata": {},
   "outputs": [
    {
     "data": {
      "text/plain": [
       "scomp (npnpr john) (vpfc (vppres (vpvi run)))"
      ]
     },
     "metadata": {},
     "output_type": "display_data"
    }
   ],
   "source": [
    "parse \"John does run\""
   ]
  },
  {
   "cell_type": "code",
   "execution_count": 29,
   "metadata": {},
   "outputs": [
    {
     "data": {
      "text/plain": [
       "scomp (npnpr john) (vpfc (vppast (vppres (vpvi run))))"
      ]
     },
     "metadata": {},
     "output_type": "display_data"
    }
   ],
   "source": [
    "parse \"John did run\""
   ]
  },
  {
   "cell_type": "code",
   "execution_count": 30,
   "metadata": {},
   "outputs": [
    {
     "data": {
      "text/plain": [
       "scomp (npnpr john) (vpfc (vppres (vpvmod haveto (vpbm (vpvi run)))))"
      ]
     },
     "metadata": {},
     "output_type": "display_data"
    }
   ],
   "source": [
    "parse \"John does have to run\""
   ]
  },
  {
   "cell_type": "code",
   "execution_count": 31,
   "metadata": {},
   "outputs": [
    {
     "data": {
      "text/plain": [
       "scomp (npnpr john) (vpfc (vpfut (vpmod not (vppres (vpvi run)))))"
      ]
     },
     "metadata": {},
     "output_type": "display_data"
    },
    {
     "data": {
      "text/plain": [
       "scomp (npnpr john) (vpfc (vpmod not (vpfut (vppres (vpvi run)))))"
      ]
     },
     "metadata": {},
     "output_type": "display_data"
    }
   ],
   "source": [
    "parse \"John will not run\""
   ]
  },
  {
   "cell_type": "code",
   "execution_count": 32,
   "metadata": {},
   "outputs": [
    {
     "data": {
      "text/plain": [
       "scomp (npnpr john) (vpfc (vpmod not (vppast (vpfut (vppres (vpvi run))))))"
      ]
     },
     "metadata": {},
     "output_type": "display_data"
    },
    {
     "data": {
      "text/plain": [
       "scomp (npnpr john) (vpfc (vppast (vpfut (vpmod not (vppres (vpvi run))))))"
      ]
     },
     "metadata": {},
     "output_type": "display_data"
    },
    {
     "data": {
      "text/plain": [
       "scomp (npnpr john) (vpfc (vppast (vpmod not (vpfut (vppres (vpvi run))))))"
      ]
     },
     "metadata": {},
     "output_type": "display_data"
    }
   ],
   "source": [
    "parse \"John would not run\""
   ]
  },
  {
   "cell_type": "code",
   "execution_count": 33,
   "metadata": {},
   "outputs": [
    {
     "data": {
      "text/plain": [
       "scomp (npnpr john) (vpfc (vpmod not (vppast (vppres (vpvmod haveto (vpbm (vpvi run)))))))"
      ]
     },
     "metadata": {},
     "output_type": "display_data"
    },
    {
     "data": {
      "text/plain": [
       "scomp (npnpr john) (vpfc (vppast (vpmod not (vppres (vpvmod haveto (vpbm (vpvi run)))))))"
      ]
     },
     "metadata": {},
     "output_type": "display_data"
    }
   ],
   "source": [
    "parse \"John did not have to run\""
   ]
  },
  {
   "cell_type": "code",
   "execution_count": 34,
   "metadata": {},
   "outputs": [
    {
     "data": {
      "text/plain": [
       "scomp (npnpr john) (vpfc (vpmod not (vppast (vpfut (vppres (vpbpast (vpbm (vpvi run))))))))"
      ]
     },
     "metadata": {},
     "output_type": "display_data"
    },
    {
     "data": {
      "text/plain": [
       "scomp (npnpr john) (vpfc (vppast (vpfut (vpmod not (vppres (vpbpast (vpbm (vpvi run))))))))"
      ]
     },
     "metadata": {},
     "output_type": "display_data"
    },
    {
     "data": {
      "text/plain": [
       "scomp (npnpr john) (vpfc (vppast (vpmod not (vpfut (vppres (vpbpast (vpbm (vpvi run))))))))"
      ]
     },
     "metadata": {},
     "output_type": "display_data"
    }
   ],
   "source": [
    "parse \"John would not have run\""
   ]
  },
  {
   "cell_type": "code",
   "execution_count": 35,
   "metadata": {},
   "outputs": [
    {
     "data": {
      "text/plain": [
       "scomp (npn dog) (vpfc (vpmod not (vppast (vppres (vpbpast (vpbm (vpvt kill (npnpr john))))))))"
      ]
     },
     "metadata": {},
     "output_type": "display_data"
    },
    {
     "data": {
      "text/plain": [
       "scomp (npn dog) (vpfc (vppast (vpmod not (vppres (vpbpast (vpbm (vpvt kill (npnpr john))))))))"
      ]
     },
     "metadata": {},
     "output_type": "display_data"
    },
    {
     "data": {
      "text/plain": [
       "scomp (npn dog) (vpfc (vppast (vppres (vpbpast (vpbmod not (vpbm (vpvt kill (npnpr john))))))))"
      ]
     },
     "metadata": {},
     "output_type": "display_data"
    }
   ],
   "source": [
    "parse \"the dog had not killed John\""
   ]
  },
  {
   "cell_type": "code",
   "execution_count": 36,
   "metadata": {},
   "outputs": [
    {
     "data": {
      "text/plain": [
       "scomp (npn dog) (vpfc (vppast (vpfut (vppres (vpbpast (vpbmod not (vpbm (vpvi run))))))))"
      ]
     },
     "metadata": {},
     "output_type": "display_data"
    }
   ],
   "source": [
    "parse \"the dog would have not run\""
   ]
  },
  {
   "cell_type": "code",
   "execution_count": 37,
   "metadata": {},
   "outputs": [
    {
     "data": {
      "text/plain": [
       "scomp (npn dog) (vpfc (vpmod not (vppres (vpbpast (vpbm (vpvt kill (npnpr john)))))))"
      ]
     },
     "metadata": {},
     "output_type": "display_data"
    },
    {
     "data": {
      "text/plain": [
       "scomp (npn dog) (vpfc (vppres (vpbpast (vpbmod not (vpbm (vpvt kill (npnpr john)))))))"
      ]
     },
     "metadata": {},
     "output_type": "display_data"
    }
   ],
   "source": [
    "parse \"the dog has not killed John\""
   ]
  },
  {
   "cell_type": "code",
   "execution_count": 38,
   "metadata": {},
   "outputs": [
    {
     "data": {
      "text/plain": [
       "ssimp (npnpr john) (vpfc (vppres (vpvmod haveto (vpbmod not (vpbm (vpvi run))))))"
      ]
     },
     "metadata": {},
     "output_type": "display_data"
    }
   ],
   "source": [
    "parse \"John has to not run\""
   ]
  },
  {
   "cell_type": "code",
   "execution_count": 39,
   "metadata": {},
   "outputs": [
    {
     "data": {
      "text/plain": [
       "scomp (npnpr john) (vpfc (vppresmod always (vppres (vpvi run))))"
      ]
     },
     "metadata": {},
     "output_type": "display_data"
    }
   ],
   "source": [
    "parse \"John does always run\""
   ]
  },
  {
   "cell_type": "code",
   "execution_count": 40,
   "metadata": {},
   "outputs": [
    {
     "data": {
      "text/plain": [
       "scomp (npnpr john) (vpfc (vppastmod always (vppres (vpvi run))))"
      ]
     },
     "metadata": {},
     "output_type": "display_data"
    }
   ],
   "source": [
    "parse \"John did always run\""
   ]
  },
  {
   "cell_type": "code",
   "execution_count": 41,
   "metadata": {},
   "outputs": [
    {
     "data": {
      "text/plain": [
       "scomp (npnpr john) (vpfc (vpfutmod always (vppres (vpvi run))))"
      ]
     },
     "metadata": {},
     "output_type": "display_data"
    }
   ],
   "source": [
    "parse \"John will always run\""
   ]
  },
  {
   "cell_type": "code",
   "execution_count": 42,
   "metadata": {},
   "outputs": [
    {
     "data": {
      "text/plain": [
       "scomp (npnpr john) (vpfc (vppres (vpbpastmod always (vpbm (vpvmod beallowedto (vpbm (vpvi run)))))))"
      ]
     },
     "metadata": {},
     "output_type": "display_data"
    }
   ],
   "source": [
    "parse \"John has always been allowed to run\""
   ]
  },
  {
   "cell_type": "code",
   "execution_count": 43,
   "metadata": {},
   "outputs": [
    {
     "data": {
      "text/plain": [
       "scomp (npnpr john) (vpfc (vppres (vpvmod beallowedto (vpbpresmod always (vpbm (vpvi run))))))"
      ]
     },
     "metadata": {},
     "output_type": "display_data"
    }
   ],
   "source": [
    "parse \"John is allowed to always run\""
   ]
  },
  {
   "cell_type": "code",
   "execution_count": 44,
   "metadata": {},
   "outputs": [
    {
     "data": {
      "text/plain": [
       "scomp (npnpr john) (vpfc (vppres (vpbpast (vpbm (vpvmod beallowedto (vpbpresmod always (vpbm (vpvi run))))))))"
      ]
     },
     "metadata": {},
     "output_type": "display_data"
    }
   ],
   "source": [
    "parse \"John has been allowed to always run\""
   ]
  },
  {
   "cell_type": "code",
   "execution_count": 45,
   "metadata": {},
   "outputs": [
    {
     "data": {
      "text/plain": [
       "scomp (npnpr john) (vpfc (vppres (vpvmod beallowedto (vpbm (vpbpastmod always (vpbm (vpvi run)))))))"
      ]
     },
     "metadata": {},
     "output_type": "display_data"
    }
   ],
   "source": [
    "parse \"John is allowed to have always run\""
   ]
  },
  {
   "cell_type": "code",
   "execution_count": 46,
   "metadata": {},
   "outputs": [
    {
     "data": {
      "text/plain": [
       "scomp (npnpr john) (vpfc (vppres (vpbpastmod always (vpbm (vpvi run)))))"
      ]
     },
     "metadata": {},
     "output_type": "display_data"
    }
   ],
   "source": [
    "parse \"John has always run\""
   ]
  },
  {
   "cell_type": "code",
   "execution_count": 47,
   "metadata": {},
   "outputs": [
    {
     "data": {
      "text/plain": [
       "scomp (npnpr john) (vpfc (vpfutmod never (vpmod not (vppres (vpbpastmod always (vpbm (vpvi run)))))))"
      ]
     },
     "metadata": {},
     "output_type": "display_data"
    }
   ],
   "source": [
    "parse \"John will never not have always run\""
   ]
  },
  {
   "cell_type": "code",
   "execution_count": 48,
   "metadata": {},
   "outputs": [
    {
     "data": {
      "text/plain": [
       "scomp (npnpr john) (vpfc (vpfutmod never (vpmod not (vppres (vpbpast (vpbm (vpvi run)))))))"
      ]
     },
     "metadata": {},
     "output_type": "display_data"
    }
   ],
   "source": [
    "parse \"John will never not have run\""
   ]
  },
  {
   "cell_type": "code",
   "execution_count": 49,
   "metadata": {},
   "outputs": [
    {
     "data": {
      "text/plain": [
       "scomp (npnpr john) (vpfc (vppast (vpfutmod never (vppres (vpbpast (vpbm (vpvi run)))))))"
      ]
     },
     "metadata": {},
     "output_type": "display_data"
    }
   ],
   "source": [
    "parse \"John would never have run\""
   ]
  },
  {
   "cell_type": "code",
   "execution_count": 50,
   "metadata": {},
   "outputs": [
    {
     "data": {
      "text/plain": [
       "scomp (npnpr john) (vpfc (vpmod not (vppres (vpbpastmod always (vpbm (vpvi run))))))"
      ]
     },
     "metadata": {},
     "output_type": "display_data"
    }
   ],
   "source": [
    "parse \"John has not always run\""
   ]
  },
  {
   "cell_type": "code",
   "execution_count": 51,
   "metadata": {},
   "outputs": [
    {
     "data": {
      "text/plain": [
       "ssimp (npnpr john) (vpfc (vppres (vpvmod haveto (vpbm (vpbpast (vpbm (vpvmod beallowedto (vpbpresmod always (vpbm (vpvi run))))))))))"
      ]
     },
     "metadata": {},
     "output_type": "display_data"
    }
   ],
   "source": [
    "parse \"John has to have been allowed to always run\""
   ]
  },
  {
   "cell_type": "markdown",
   "metadata": {},
   "source": [
    "### Parsing test cases (new)"
   ]
  },
  {
   "cell_type": "code",
   "execution_count": 52,
   "metadata": {},
   "outputs": [
    {
     "data": {
      "text/plain": [
       "ssimp (npnpr john) (vpfcpresmod always (vpfc (vppres (vpvi run))))"
      ]
     },
     "metadata": {},
     "output_type": "display_data"
    }
   ],
   "source": [
    "parse \"John always runs\""
   ]
  },
  {
   "cell_type": "code",
   "execution_count": 53,
   "metadata": {},
   "outputs": [
    {
     "data": {
      "text/plain": [
       "ssimp (npnpr john) (vpfcpastmod always (vpfc (vppres (vpvi run))))"
      ]
     },
     "metadata": {},
     "output_type": "display_data"
    }
   ],
   "source": [
    "parse \"John always ran\""
   ]
  },
  {
   "cell_type": "code",
   "execution_count": 54,
   "metadata": {},
   "outputs": [
    {
     "data": {
      "text/plain": [
       "scomp (npnpr john) (vpfcfutmod always (vpfc (vppres (vpvi run))))"
      ]
     },
     "metadata": {},
     "output_type": "display_data"
    }
   ],
   "source": [
    "parse \"John always will run\""
   ]
  },
  {
   "cell_type": "code",
   "execution_count": 55,
   "metadata": {},
   "outputs": [
    {
     "data": {
      "text/plain": [
       "scomp (npnpr john) (vpfcmod probably (vpfc (vpfutmod never (vppres (vpvi run)))))"
      ]
     },
     "metadata": {},
     "output_type": "display_data"
    }
   ],
   "source": [
    "parse \"John probably will never run\""
   ]
  },
  {
   "cell_type": "code",
   "execution_count": 56,
   "metadata": {},
   "outputs": [
    {
     "data": {
      "text/plain": [
       "scomp (npnpr john) (vpfc (vpmod possibly (vppres (vpbpast (vpbm (vpvt kill (npn dog)))))))"
      ]
     },
     "metadata": {},
     "output_type": "display_data"
    },
    {
     "data": {
      "text/plain": [
       "scomp (npnpr john) (vpfc (vppres (vpbpast (vpbmod possibly (vpbm (vpvt kill (npn dog)))))))"
      ]
     },
     "metadata": {},
     "output_type": "display_data"
    }
   ],
   "source": [
    "parse \"John has possibly killed the dog\""
   ]
  },
  {
   "cell_type": "code",
   "execution_count": 57,
   "metadata": {},
   "outputs": [
    {
     "data": {
      "text/plain": [
       "ssimp (npnpr john) (vpfcmod necessarily (vpfc (vppres (vpvi run))))"
      ]
     },
     "metadata": {},
     "output_type": "display_data"
    }
   ],
   "source": [
    "parse \"John necessarily runs\""
   ]
  },
  {
   "cell_type": "markdown",
   "metadata": {},
   "source": [
    "## Semantics construction"
   ]
  },
  {
   "cell_type": "code",
   "execution_count": 58,
   "metadata": {},
   "outputs": [
    {
     "data": {
      "text/plain": [
       "Created theory plnq"
      ]
     },
     "metadata": {},
     "output_type": "display_data"
    }
   ],
   "source": [
    "theory plnq : ur:?LF =\n",
    "    proposition : type ❘ # o ❙\n",
    "    individual : type ❘ # ι ❙\n",
    "    \n",
    "    not : o ⟶ o         ❘ # ¬ 1 prec 100 ❙\n",
    "    and : o ⟶ o ⟶ o     ❘ # 1 ∧ 2 prec 90 ❙\n",
    "    \n",
    "    or : o ⟶ o ⟶ o      ❘ # 1 ∨ 2 prec 80\n",
    "                        ❘ = [a,b] ¬ (¬ a ∧ ¬ b) ❙\n",
    "❚\n",
    "\n",
    "theory modalplnq : ur:?LF =\n",
    "    include ?plnq ❙\n",
    "    box      : o ⟶ o ❘ # □ 1 prec 100 ❙\n",
    "    diamond  : o ⟶ o ❘ # ◇ 1 prec 100 ❙\n",
    "    probably : o ⟶ o ❘ # Prob 1 prec 100 ❙\n",
    "❚\n",
    "\n",
    "theory tenseplnq : ur:?LF =\n",
    "    include ?modalplnq ❙\n",
    "    \n",
    "    // type of a modal modifier ❙\n",
    "    m : type ❘ = o ⟶ o ❙\n",
    "    \n",
    "    // FΦ: it will at some stage in the future be the case that Φ ❙\n",
    "    futF : m ❘ # F 1 prec 100 ❙\n",
    "    // PΦ: it was at some stage in the past the case that Φ ❙\n",
    "    pastP : m ❘ # P 1 prec 100 ❙\n",
    "    \n",
    "    // GΦ: it is always going to be the case that Φ ❙\n",
    "    futG : m ❘ # G 1 prec 100 ❙\n",
    "    // HΦ: it always has been the case that Φ ❙\n",
    "    pastH : m ❘ # H 1 prec 100 ❙\n",
    "    \n",
    "    // type of a tense modifier (a church encoded tripple) ❙\n",
    "    tmod : type ❘ = (m ⟶ m ⟶ m ⟶ m) ⟶ m ❙\n",
    "    // constructor for tense modfifier ❙\n",
    "    tmodcons : m ⟶ m ⟶ m ⟶ tmod ❘ = [pres,past,fut,f] f pres past fut ❙\n",
    "    // getter for present modifier ❙\n",
    "    tmodpres : tmod ⟶ m ❘ = [mod] mod ([pres,past,fut] pres) ❙\n",
    "    // getter for past modifier ❙\n",
    "    tmodpast : tmod ⟶ m ❘ = [mod] mod ([pres,past,fut] past) ❙\n",
    "    // getter for future modifier ❙\n",
    "    tmodfut  : tmod ⟶ m ❘ = [mod] mod ([pres,past,fut] fut) ❙\n",
    "    \n",
    "    // define the tense modifiers always and never ❙\n",
    "    always : tmod ❘ = tmodcons ([p] H p ∧ G p) pastH futG ❙\n",
    "    never  : tmod ❘ = tmodcons ([p] H ¬p ∧ G ¬p) ([p] H ¬p) ([p] G ¬p) ❙\n",
    "❚\n",
    "\n",
    "theory plnqTest : ?tenseplnq =\n",
    "    // individuals ❙\n",
    "    prudence : ι ❙ ethel : ι ❙ chester : ι ❙ jo : ι ❙ bertie : ι ❙ fiona : ι ❙ berta : ι ❙ john : ι ❙ mary : ι ❙ peter : ι ❙\n",
    "    book : ι ❙ cake : ι ❙ cat : ι ❙ golfer : ι ❙ dog : ι ❙ lecturer : ι ❙ student : ι ❙ singer : ι ❙\n",
    "    // verbs ❙\n",
    "    run : ι ⟶ o ❙ jump : ι ⟶ o ❙ laugh : ι ⟶ o ❙ sing : ι ⟶ o ❙ howl : ι ⟶ o ❙ scream : ι ⟶ o ❙\n",
    "    read : ι ⟶ ι ⟶ o ❙ poison : ι ⟶ ι ⟶ o ❙ eat : ι ⟶ ι ⟶ o ❙ like : ι ⟶ ι ⟶ o ❙ love : ι ⟶ ι ⟶ o ❙ loath : ι ⟶ ι ⟶ o ❙\n",
    "    kick : ι ⟶ ι ⟶ o ❙ see : ι ⟶ ι ⟶ o ❙ understand : ι ⟶ ι ⟶ o ❙ kill : ι ⟶ ι ⟶ o ❙\n",
    "❚"
   ]
  },
  {
   "cell_type": "code",
   "execution_count": 59,
   "metadata": {},
   "outputs": [
    {
     "data": {
      "text/plain": [
       "Created view semantics"
      ]
     },
     "metadata": {},
     "output_type": "display_data"
    }
   ],
   "source": [
    "view semantics : http://mathhub.info/comma/jupyter/TensesGrammar.gf?TensesGrammar -> ?plnqTest =\n",
    "    S = o ❙             // Sentence ❙\n",
    "    SMod = o ⟶ o ❙      // Sentence modifier ❙\n",
    "    Vi = ι ⟶ o ❙        // Intransitive verb ❙\n",
    "    Vt = ι ⟶ ι ⟶ o ❙    // Transitive verb ❙\n",
    "    Vmod = o ⟶ o ❙      // Modal verb ❙\n",
    "    VPbase = ι ⟶ o ❙    // Verb phrase in base form ❙\n",
    "    VPbasem = ι ⟶ o ❙   // Modified verb phrase in base form ❙\n",
    "    VP = ι ⟶ o ❙        // Verb phrase ❙\n",
    "    VPfc = ι ⟶ o ❙      // Verb phrase with fix complex form ❙\n",
    "    Npr = ι ❙           // Proper noun ❙\n",
    "    N = ι ❙             // Common noun, as a simplification modeled incorrectly\n",
    "                        // as an individual ❙\n",
    "    NP = ι ❙            // Noun phrase ❙\n",
    "    Conj = o ⟶ o ⟶ o ❙  // Conjunction ❙\n",
    "    Mod = o ⟶ o ❙       // Modal modifier ❙\n",
    "    TAdv = tmod ❙       // Temporal adverb ❙\n",
    "    \n",
    "    // Simple verb form sentence: \"John runs\"\n",
    "    // ssimp : NP -> VP -> S ❙\n",
    "    ssimp = [npr, v] v npr ❙\n",
    "    // Complex verb form sentence: \"John does not run\"\n",
    "    // scomp : NP -> VP -> S ❙\n",
    "    scomp = [npr, v] v npr ❙\n",
    "    // Connected sentence:\n",
    "    // \"John runs and Mary doesn't run\"\n",
    "    // sconj : S -> Conj -> S -> S ❙\n",
    "    sconj = [s1, conj, s2] conj s1 s2 ❙\n",
    "    // Modified sentence: \"it is necessary that John runs\"\n",
    "    // smod : SMod -> S -> S ❙\n",
    "    smod = [mod, s] mod s ❙\n",
    "    \n",
    "    // Build a verb phrase from an intransitive verb: \"run\"\n",
    "    // vpvi : Vi -> VPbase ❙\n",
    "    vpvi = [v] v ❙\n",
    "    // Build a verb phrase from a transitive verb and a noun phrase\n",
    "    // \"love\" + \"Mary\" -> \"love Mary\"\n",
    "    // vpvt : Vt -> NP -> VPbase ❙\n",
    "    vpvt = [vt, addressee] [actor] vt actor addressee ❙\n",
    "    \n",
    "    // Start modification of verb phrase in base form\n",
    "    // vpbm : VPbase -> VPbasem ❙\n",
    "    vpbm = [vp] vp ❙\n",
    "    // Apply a modal modifier to an existing verb phrase in base form\n",
    "    // vpbmod : Mod -> VPbasem -> VPbasem ❙\n",
    "    vpbmod = [mod, vp] [i] mod (vp i) ❙\n",
    "    // Apply a temporal adverb to a verb phrase in base form\n",
    "    // vpbpresmod : TAdv + VPbasem -> VPbasem ❙\n",
    "    // workaround (because docker version of GLIF does not currently support definition expansion) for\n",
    "    // vpbpresmod = [mod, vp] [i] tmodpres mod (vp i) ❙\n",
    "    vpbpresmod = [mod, vp] [i] mod ([pres,past,fut] pres) (vp i) ❙\n",
    "    // Apply a modal verb to an existing verb phrase\n",
    "    // \"have to\" + \"run\" -> \"have to run\"\n",
    "    // vpvmod : Vmod -> VPbasem -> VPbase ❙\n",
    "    vpvmod = [vmod, vp] [i] vmod (vp i) ❙\n",
    "    // Apply a past operator to a verb phrase in base form\n",
    "    // (\"have\" + past participle form)\n",
    "    // vpbpast : VPbasem -> VPbase ❙\n",
    "    vpbpast = [v] [i] P (v i) ❙\n",
    "    // Apply a past operator to a verb phrase in base form and a temporal adverb\n",
    "    // e.g. \"always\" + \"run\" -> \"have always run\"\n",
    "    // vpbpastmod : TAdv -> VPbasem -> VPbase ❙\n",
    "    // workaround (because docker version of GLIF does not currently support definition expansion) for\n",
    "    // vpbpastmod = [mod, vp] [i] tmodpast mod (vp i) ❙\n",
    "    vpbpastmod = [mod, vp] [i] mod ([pres,past,fut] past) (vp i) ❙\n",
    "        \n",
    "    // Conjugate a verb phrase that is in base form\n",
    "    // vppres : VPbase -> VP ❙\n",
    "    vppres = [v] v ❙\n",
    "    // Apply the past tense operator\n",
    "    // vppast : VP -> VP ❙\n",
    "    vppast = [v] [i] P (v i) ❙\n",
    "    // apply the future tense operator\n",
    "    // vpfut : VP -> VP ❙\n",
    "    vpfut = [v] [i] F (v i) ❙\n",
    "    // Apply a modal modifier to an existing verb phrase\n",
    "    // vpmod : Mod -> VP -> VP ❙\n",
    "    vpmod = [mod, vp] [i] mod (vp i) ❙\n",
    "        \n",
    "    // Conjugate a verb phrase that is in base form using a temporal adverb\n",
    "    // (only applicable if verb phrase's tense is untouched)\n",
    "    // vppresmod : TAdv -> VPbase -> VP ❙\n",
    "    // workaround (because docker version of GLIF does not currently support definition expansion) for\n",
    "    // vppresmod = [mod, vp] [i] tmodpres mod (vp i) ❙\n",
    "    vppresmod = [mod, vp] [i] mod ([pres,past,fut] pres) (vp i) ❙\n",
    "    // Apply the past tense operator and a temporal adverb\n",
    "    // vppastmod : TAdv -> VP -> VP ❙\n",
    "    // workaround (because docker version of GLIF does not currently support definition expansion) for\n",
    "    // vppastmod = [mod, vp] [i] tmodpast mod (vp i) ❙\n",
    "    vppastmod = [mod, vp] [i] mod ([pres,past,fut] past) (vp i) ❙\n",
    "    // apply the future tense operator and a temporal adverb\n",
    "    // vpfutmod : TAdv -> VP -> VP ❙\n",
    "    // workaround (because docker version of GLIF does not currently support definition expansion) for\n",
    "    // vpfutmod = [mod, vp] [i] tmodfut mod (vp i) ❙\n",
    "    vpfutmod = [mod, vp] [i] mod ([pres,past,fut] fut) (vp i) ❙\n",
    "    \n",
    "    // Fix the complex form of a verb phrase\n",
    "    // vpfc : VP -> VPfc ❙\n",
    "    vpfc = [v] v ❙\n",
    "    // Apply a modal modifier to a verb phrase with fix complex form\n",
    "    // vpfcmod : Mod -> VPfc -> VPfc ❙\n",
    "    vpfcmod = [mod, vp] [i] mod (vp i) ❙\n",
    "    // Apply the present form of a temporal adverb\n",
    "    // vpfcpresmod : TAdv -> VPfc -> VPfc ❙\n",
    "    // workaround (because docker version of GLIF does not currently support definition expansion) for\n",
    "    // vpfcpresmod = [mod, vp] [i] tmodpres mod (vp i) ❙\n",
    "    vpfcpresmod = [mod, vp] [i] mod ([pres,past,fut] pres) (vp i) ❙\n",
    "    // Apply the past tense operator and a temporal adverb\n",
    "    // vpfcpastmod : TAdv -> VPfc -> VPfc ❙\n",
    "    // workaround (because docker version of GLIF does not currently support definition expansion) for\n",
    "    // vpfcpastmod = [mod, vp] [i] tmodpast mod (vp i) ❙\n",
    "    vpfcpastmod = [mod, vp] [i] mod ([pres,past,fut] past) (vp i) ❙\n",
    "    // Apply the future tense operator and a temporal adverb\n",
    "    // vpfcfutmod : TAdv -> VPfc -> VPfc ❙\n",
    "    // workaround (because docker version of GLIF does not currently support definition expansion) for\n",
    "    // vpfcfutmod = [mod, vp] [i] tmodfut mod (vp i) ❙\n",
    "    vpfcfutmod = [mod, vp] [i] mod ([pres,past,fut] fut) (vp i) ❙\n",
    "        \n",
    "    // Build a noun phrase from a proper noun: \"John\"\n",
    "    // npnpr : Npr -> NP ❙\n",
    "    npnpr = [npr] npr ❙\n",
    "    // Build a noun phrase from a common noun\n",
    "    // \"dog\" -> \"the dog\"\n",
    "    // npn : N -> NP ❙\n",
    "    npn = [n] n ❙\n",
    "    \n",
    "    // Verbs ❙\n",
    "    run = run ❙ jump = jump ❙ laugh = laugh ❙ sing = sing ❙ howl = howl ❙ scream = scream ❙\n",
    "    read = read ❙ poison = poison ❙ eat = eat ❙ like = like ❙ love = love ❙ loath = loath ❙ kick = kick ❙ see = see ❙ understand = understand ❙ kill = kill ❙\n",
    "    haveto = box ❙ beallowedto = diamond ❙\n",
    "    bepossible = diamond ❙ benecessary = box ❙ bethecase = [p] p ❙\n",
    "    // Nouns ❙\n",
    "    prudence = prudence ❙ ethel = ethel ❙ chester = chester ❙ jo = jo ❙ bertie = bertie ❙ fiona = fiona ❙ berta = berta ❙ john = john ❙ mary = mary ❙ peter = peter ❙\n",
    "    book = book ❙ cake = cake ❙ katze = cat ❙ golfer = golfer ❙ dog = dog ❙ lecturer = lecturer ❙ student = student ❙ singer = singer ❙\n",
    "    // Conjunctions ❙\n",
    "    and = and ❙ or = or ❙\n",
    "    // Modal modifiers ❙\n",
    "    not = not ❙ possibly = diamond ❙ necessarily = box ❙ probably = probably ❙\n",
    "    // Temporal adverbs ❙\n",
    "    // workaround (because docker version of GLIF does not currently support definition expansion)\n",
    "    // for always = always ❙\n",
    "    always = [ff : m⟶m⟶m⟶m] ([a:m,b:m,c:m,f:m⟶m⟶m⟶m] f a b c) ([p] H p ∧ G p) pastH futG ff ❙\n",
    "    // workaround (because docker version of GLIF does not currently support definition expansion) for\n",
    "    // never = never ❙\n",
    "    never = [ff : m⟶m⟶m⟶m] ([a:m,b:m,c:m,f:m⟶m⟶m⟶m] f a b c) ([p] H ¬p ∧ G ¬p) ([p] H ¬p) ([p] G ¬p) ff ❙\n",
    "❚"
   ]
  },
  {
   "cell_type": "markdown",
   "metadata": {},
   "source": [
    "### Semantics construction test cases (old)"
   ]
  },
  {
   "cell_type": "code",
   "execution_count": 60,
   "metadata": {},
   "outputs": [
    {
     "data": {
      "text/plain": [
       "run john"
      ]
     },
     "metadata": {},
     "output_type": "display_data"
    }
   ],
   "source": [
    "parse \"John runs\" | construct"
   ]
  },
  {
   "cell_type": "code",
   "execution_count": 61,
   "metadata": {},
   "outputs": [
    {
     "data": {
      "text/plain": [
       "¬(run john)"
      ]
     },
     "metadata": {},
     "output_type": "display_data"
    }
   ],
   "source": [
    "parse \"John does not run\" | construct"
   ]
  },
  {
   "cell_type": "code",
   "execution_count": 62,
   "metadata": {},
   "outputs": [
    {
     "data": {
      "text/plain": [
       "(run john)∧¬(run mary)"
      ]
     },
     "metadata": {},
     "output_type": "display_data"
    }
   ],
   "source": [
    "parse \"John runs and Mary does not run\" | construct"
   ]
  },
  {
   "cell_type": "code",
   "execution_count": 63,
   "metadata": {},
   "outputs": [
    {
     "data": {
      "text/plain": [
       "¬(jump john)∨(run mary)"
      ]
     },
     "metadata": {},
     "output_type": "display_data"
    }
   ],
   "source": [
    "parse \"John does not jump or Mary runs\" | construct"
   ]
  },
  {
   "cell_type": "code",
   "execution_count": 64,
   "metadata": {},
   "outputs": [
    {
     "data": {
      "text/plain": [
       "run dog"
      ]
     },
     "metadata": {},
     "output_type": "display_data"
    }
   ],
   "source": [
    "parse \"the dog runs\" | construct"
   ]
  },
  {
   "cell_type": "code",
   "execution_count": 65,
   "metadata": {},
   "outputs": [
    {
     "data": {
      "text/plain": [
       "love john mary"
      ]
     },
     "metadata": {},
     "output_type": "display_data"
    }
   ],
   "source": [
    "parse \"John loves Mary\" | construct"
   ]
  },
  {
   "cell_type": "code",
   "execution_count": 66,
   "metadata": {},
   "outputs": [
    {
     "data": {
      "text/plain": [
       "(love john mary)∧¬(love mary john)"
      ]
     },
     "metadata": {},
     "output_type": "display_data"
    }
   ],
   "source": [
    "parse \"John loves Mary and Mary does not love John\" | construct"
   ]
  },
  {
   "cell_type": "code",
   "execution_count": 67,
   "metadata": {},
   "outputs": [
    {
     "data": {
      "text/plain": [
       "□(run john)"
      ]
     },
     "metadata": {},
     "output_type": "display_data"
    }
   ],
   "source": [
    "parse \"it is necessary that John runs\" | construct"
   ]
  },
  {
   "cell_type": "raw",
   "metadata": {},
   "source": [
    "parse \"it is not possible that the dog kills John\" | construct"
   ]
  },
  {
   "cell_type": "raw",
   "metadata": {},
   "source": [
    "parse \"it is not the case that John loves Mary\" | construct"
   ]
  },
  {
   "cell_type": "code",
   "execution_count": 68,
   "metadata": {},
   "outputs": [
    {
     "data": {
      "text/plain": [
       "□(run john)"
      ]
     },
     "metadata": {},
     "output_type": "display_data"
    }
   ],
   "source": [
    "parse \"John has to run\" | construct"
   ]
  },
  {
   "cell_type": "code",
   "execution_count": 69,
   "metadata": {},
   "outputs": [
    {
     "data": {
      "text/plain": [
       "¬◇(kill dog john)"
      ]
     },
     "metadata": {},
     "output_type": "display_data"
    }
   ],
   "source": [
    "parse \"the dog is not allowed to kill John\" | construct"
   ]
  },
  {
   "cell_type": "code",
   "execution_count": 70,
   "metadata": {},
   "outputs": [
    {
     "data": {
      "text/plain": [
       "□◇(run john)"
      ]
     },
     "metadata": {},
     "output_type": "display_data"
    }
   ],
   "source": [
    "parse \"John has to be allowed to run\" | construct"
   ]
  },
  {
   "cell_type": "code",
   "execution_count": 71,
   "metadata": {},
   "outputs": [
    {
     "data": {
      "text/plain": [
       "F (run john)"
      ]
     },
     "metadata": {},
     "output_type": "display_data"
    }
   ],
   "source": [
    "parse \"John will run\" | construct"
   ]
  },
  {
   "cell_type": "code",
   "execution_count": 72,
   "metadata": {},
   "outputs": [
    {
     "data": {
      "text/plain": [
       "P (run john)"
      ]
     },
     "metadata": {},
     "output_type": "display_data"
    }
   ],
   "source": [
    "parse \"John ran\" | construct"
   ]
  },
  {
   "cell_type": "code",
   "execution_count": 73,
   "metadata": {},
   "outputs": [
    {
     "data": {
      "text/plain": [
       "P P (run john)"
      ]
     },
     "metadata": {},
     "output_type": "display_data"
    }
   ],
   "source": [
    "parse \"John had run\" | construct"
   ]
  },
  {
   "cell_type": "code",
   "execution_count": 74,
   "metadata": {},
   "outputs": [
    {
     "data": {
      "text/plain": [
       "F P (run john)"
      ]
     },
     "metadata": {},
     "output_type": "display_data"
    }
   ],
   "source": [
    "parse \"John will have run\" | construct"
   ]
  },
  {
   "cell_type": "code",
   "execution_count": 75,
   "metadata": {},
   "outputs": [
    {
     "data": {
      "text/plain": [
       "P F (run john)"
      ]
     },
     "metadata": {},
     "output_type": "display_data"
    }
   ],
   "source": [
    "parse \"John would run\" | construct"
   ]
  },
  {
   "cell_type": "code",
   "execution_count": 76,
   "metadata": {},
   "outputs": [
    {
     "data": {
      "text/plain": [
       "P F P (run john)"
      ]
     },
     "metadata": {},
     "output_type": "display_data"
    }
   ],
   "source": [
    "parse \"John would have run\" | construct"
   ]
  },
  {
   "cell_type": "code",
   "execution_count": 77,
   "metadata": {},
   "outputs": [
    {
     "data": {
      "text/plain": [
       "P □(run john)"
      ]
     },
     "metadata": {},
     "output_type": "display_data"
    }
   ],
   "source": [
    "parse \"John had to run\" | construct"
   ]
  },
  {
   "cell_type": "code",
   "execution_count": 78,
   "metadata": {},
   "outputs": [
    {
     "data": {
      "text/plain": [
       "P P □(run john)"
      ]
     },
     "metadata": {},
     "output_type": "display_data"
    }
   ],
   "source": [
    "parse \"John had had to run\" | construct"
   ]
  },
  {
   "cell_type": "code",
   "execution_count": 79,
   "metadata": {},
   "outputs": [
    {
     "data": {
      "text/plain": [
       "F □(run john)"
      ]
     },
     "metadata": {},
     "output_type": "display_data"
    }
   ],
   "source": [
    "parse \"John will have to run\" | construct"
   ]
  },
  {
   "cell_type": "code",
   "execution_count": 80,
   "metadata": {},
   "outputs": [
    {
     "data": {
      "text/plain": [
       "F P □(run john)"
      ]
     },
     "metadata": {},
     "output_type": "display_data"
    }
   ],
   "source": [
    "parse \"John will have had to run\" | construct"
   ]
  },
  {
   "cell_type": "code",
   "execution_count": 81,
   "metadata": {},
   "outputs": [
    {
     "data": {
      "text/plain": [
       "F ◇(run john)"
      ]
     },
     "metadata": {},
     "output_type": "display_data"
    }
   ],
   "source": [
    "parse \"John will be allowed to run\" | construct"
   ]
  },
  {
   "cell_type": "code",
   "execution_count": 82,
   "metadata": {},
   "outputs": [
    {
     "data": {
      "text/plain": [
       "P ◇(run john)"
      ]
     },
     "metadata": {},
     "output_type": "display_data"
    }
   ],
   "source": [
    "parse \"John was allowed to run\" | construct"
   ]
  },
  {
   "cell_type": "code",
   "execution_count": 83,
   "metadata": {},
   "outputs": [
    {
     "data": {
      "text/plain": [
       "run john"
      ]
     },
     "metadata": {},
     "output_type": "display_data"
    }
   ],
   "source": [
    "parse \"John does run\" | construct"
   ]
  },
  {
   "cell_type": "code",
   "execution_count": 84,
   "metadata": {},
   "outputs": [
    {
     "data": {
      "text/plain": [
       "P (run john)"
      ]
     },
     "metadata": {},
     "output_type": "display_data"
    }
   ],
   "source": [
    "parse \"John did run\" | construct"
   ]
  },
  {
   "cell_type": "code",
   "execution_count": 85,
   "metadata": {},
   "outputs": [
    {
     "data": {
      "text/plain": [
       "□(run john)"
      ]
     },
     "metadata": {},
     "output_type": "display_data"
    }
   ],
   "source": [
    "parse \"John does have to run\" | construct"
   ]
  },
  {
   "cell_type": "code",
   "execution_count": 86,
   "metadata": {},
   "outputs": [
    {
     "data": {
      "text/plain": [
       "F ¬(run john)"
      ]
     },
     "metadata": {},
     "output_type": "display_data"
    },
    {
     "data": {
      "text/plain": [
       "¬F (run john)"
      ]
     },
     "metadata": {},
     "output_type": "display_data"
    }
   ],
   "source": [
    "parse \"John will not run\" | construct"
   ]
  },
  {
   "cell_type": "code",
   "execution_count": 87,
   "metadata": {},
   "outputs": [
    {
     "data": {
      "text/plain": [
       "¬P F (run john)"
      ]
     },
     "metadata": {},
     "output_type": "display_data"
    },
    {
     "data": {
      "text/plain": [
       "P F ¬(run john)"
      ]
     },
     "metadata": {},
     "output_type": "display_data"
    },
    {
     "data": {
      "text/plain": [
       "P ¬F (run john)"
      ]
     },
     "metadata": {},
     "output_type": "display_data"
    }
   ],
   "source": [
    "parse \"John would not run\" | construct"
   ]
  },
  {
   "cell_type": "code",
   "execution_count": 88,
   "metadata": {},
   "outputs": [
    {
     "data": {
      "text/plain": [
       "¬P □(run john)"
      ]
     },
     "metadata": {},
     "output_type": "display_data"
    },
    {
     "data": {
      "text/plain": [
       "P ¬□(run john)"
      ]
     },
     "metadata": {},
     "output_type": "display_data"
    }
   ],
   "source": [
    "parse \"John did not have to run\" | construct"
   ]
  },
  {
   "cell_type": "code",
   "execution_count": 89,
   "metadata": {},
   "outputs": [
    {
     "data": {
      "text/plain": [
       "¬P F P (run john)"
      ]
     },
     "metadata": {},
     "output_type": "display_data"
    },
    {
     "data": {
      "text/plain": [
       "P F ¬P (run john)"
      ]
     },
     "metadata": {},
     "output_type": "display_data"
    },
    {
     "data": {
      "text/plain": [
       "P ¬F P (run john)"
      ]
     },
     "metadata": {},
     "output_type": "display_data"
    }
   ],
   "source": [
    "parse \"John would not have run\" | construct"
   ]
  },
  {
   "cell_type": "code",
   "execution_count": 90,
   "metadata": {},
   "outputs": [
    {
     "data": {
      "text/plain": [
       "¬P P (kill dog john)"
      ]
     },
     "metadata": {},
     "output_type": "display_data"
    },
    {
     "data": {
      "text/plain": [
       "P ¬P (kill dog john)"
      ]
     },
     "metadata": {},
     "output_type": "display_data"
    },
    {
     "data": {
      "text/plain": [
       "P P ¬(kill dog john)"
      ]
     },
     "metadata": {},
     "output_type": "display_data"
    }
   ],
   "source": [
    "parse \"the dog had not killed John\" | construct"
   ]
  },
  {
   "cell_type": "code",
   "execution_count": 91,
   "metadata": {},
   "outputs": [
    {
     "data": {
      "text/plain": [
       "P F P ¬(run john)"
      ]
     },
     "metadata": {},
     "output_type": "display_data"
    }
   ],
   "source": [
    "parse \"John would have not run\" | construct"
   ]
  },
  {
   "cell_type": "code",
   "execution_count": 92,
   "metadata": {},
   "outputs": [
    {
     "data": {
      "text/plain": [
       "¬P (kill dog john)"
      ]
     },
     "metadata": {},
     "output_type": "display_data"
    },
    {
     "data": {
      "text/plain": [
       "P ¬(kill dog john)"
      ]
     },
     "metadata": {},
     "output_type": "display_data"
    }
   ],
   "source": [
    "parse \"the dog has not killed John\" | construct"
   ]
  },
  {
   "cell_type": "code",
   "execution_count": 93,
   "metadata": {},
   "outputs": [
    {
     "data": {
      "text/plain": [
       "□¬(run john)"
      ]
     },
     "metadata": {},
     "output_type": "display_data"
    }
   ],
   "source": [
    "parse \"John has to not run\" | construct"
   ]
  },
  {
   "cell_type": "code",
   "execution_count": 94,
   "metadata": {},
   "outputs": [
    {
     "data": {
      "text/plain": [
       "H (run john)∧G (run john)"
      ]
     },
     "metadata": {},
     "output_type": "display_data"
    }
   ],
   "source": [
    "parse \"John does always run\" | construct"
   ]
  },
  {
   "cell_type": "code",
   "execution_count": 95,
   "metadata": {},
   "outputs": [
    {
     "data": {
      "text/plain": [
       "H (run john)"
      ]
     },
     "metadata": {},
     "output_type": "display_data"
    }
   ],
   "source": [
    "parse \"John did always run\" | construct"
   ]
  },
  {
   "cell_type": "code",
   "execution_count": 96,
   "metadata": {},
   "outputs": [
    {
     "data": {
      "text/plain": [
       "G (run john)"
      ]
     },
     "metadata": {},
     "output_type": "display_data"
    }
   ],
   "source": [
    "parse \"John will always run\" | construct"
   ]
  },
  {
   "cell_type": "code",
   "execution_count": 97,
   "metadata": {},
   "outputs": [
    {
     "data": {
      "text/plain": [
       "H ◇(run john)"
      ]
     },
     "metadata": {},
     "output_type": "display_data"
    }
   ],
   "source": [
    "parse \"John has always been allowed to run\" | construct"
   ]
  },
  {
   "cell_type": "code",
   "execution_count": 98,
   "metadata": {},
   "outputs": [
    {
     "data": {
      "text/plain": [
       "◇(H (run john)∧G (run john))"
      ]
     },
     "metadata": {},
     "output_type": "display_data"
    }
   ],
   "source": [
    "parse \"John is allowed to always run\" | construct"
   ]
  },
  {
   "cell_type": "code",
   "execution_count": 99,
   "metadata": {},
   "outputs": [
    {
     "data": {
      "text/plain": [
       "P ◇(H (run john)∧G (run john))"
      ]
     },
     "metadata": {},
     "output_type": "display_data"
    }
   ],
   "source": [
    "parse \"John has been allowed to always run\" | construct"
   ]
  },
  {
   "cell_type": "code",
   "execution_count": 100,
   "metadata": {},
   "outputs": [
    {
     "data": {
      "text/plain": [
       "◇H (run john)"
      ]
     },
     "metadata": {},
     "output_type": "display_data"
    }
   ],
   "source": [
    "parse \"John is allowed to have always run\" | construct"
   ]
  },
  {
   "cell_type": "code",
   "execution_count": 101,
   "metadata": {},
   "outputs": [
    {
     "data": {
      "text/plain": [
       "H (run john)"
      ]
     },
     "metadata": {},
     "output_type": "display_data"
    }
   ],
   "source": [
    "parse \"John has always run\" | construct"
   ]
  },
  {
   "cell_type": "code",
   "execution_count": 102,
   "metadata": {},
   "outputs": [
    {
     "data": {
      "text/plain": [
       "G ¬¬H (run john)"
      ]
     },
     "metadata": {},
     "output_type": "display_data"
    }
   ],
   "source": [
    "parse \"John will never not have always run\" | construct"
   ]
  },
  {
   "cell_type": "code",
   "execution_count": 103,
   "metadata": {},
   "outputs": [
    {
     "data": {
      "text/plain": [
       "G ¬¬P (run john)"
      ]
     },
     "metadata": {},
     "output_type": "display_data"
    }
   ],
   "source": [
    "parse \"John will never not have run\" | construct"
   ]
  },
  {
   "cell_type": "code",
   "execution_count": 104,
   "metadata": {},
   "outputs": [
    {
     "data": {
      "text/plain": [
       "P G ¬P (run john)"
      ]
     },
     "metadata": {},
     "output_type": "display_data"
    }
   ],
   "source": [
    "parse \"John would never have run\" | construct"
   ]
  },
  {
   "cell_type": "code",
   "execution_count": 105,
   "metadata": {},
   "outputs": [
    {
     "data": {
      "text/plain": [
       "¬H (run john)"
      ]
     },
     "metadata": {},
     "output_type": "display_data"
    }
   ],
   "source": [
    "parse \"John has not always run\" | construct"
   ]
  },
  {
   "cell_type": "code",
   "execution_count": 106,
   "metadata": {},
   "outputs": [
    {
     "data": {
      "text/plain": [
       "□P ◇(H (run john)∧G (run john))"
      ]
     },
     "metadata": {},
     "output_type": "display_data"
    }
   ],
   "source": [
    "parse \"John has to have been allowed to always run\" | construct"
   ]
  },
  {
   "cell_type": "markdown",
   "metadata": {},
   "source": [
    "### Semantics construction test cases (new)"
   ]
  },
  {
   "cell_type": "code",
   "execution_count": 107,
   "metadata": {},
   "outputs": [
    {
     "data": {
      "text/plain": [
       "H (run john)∧G (run john)"
      ]
     },
     "metadata": {},
     "output_type": "display_data"
    }
   ],
   "source": [
    "parse \"John always runs\" | construct"
   ]
  },
  {
   "cell_type": "code",
   "execution_count": 108,
   "metadata": {},
   "outputs": [
    {
     "data": {
      "text/plain": [
       "H (run john)"
      ]
     },
     "metadata": {},
     "output_type": "display_data"
    }
   ],
   "source": [
    "parse \"John always ran\" | construct"
   ]
  },
  {
   "cell_type": "code",
   "execution_count": 109,
   "metadata": {},
   "outputs": [
    {
     "data": {
      "text/plain": [
       "G (run john)"
      ]
     },
     "metadata": {},
     "output_type": "display_data"
    }
   ],
   "source": [
    "parse \"John always will run\" | construct"
   ]
  },
  {
   "cell_type": "code",
   "execution_count": 110,
   "metadata": {},
   "outputs": [
    {
     "data": {
      "text/plain": [
       "Prob G ¬(run john)"
      ]
     },
     "metadata": {},
     "output_type": "display_data"
    }
   ],
   "source": [
    "parse \"John probably will never run\" | construct"
   ]
  },
  {
   "cell_type": "code",
   "execution_count": 111,
   "metadata": {},
   "outputs": [
    {
     "data": {
      "text/plain": [
       "◇P (kill john dog)"
      ]
     },
     "metadata": {},
     "output_type": "display_data"
    },
    {
     "data": {
      "text/plain": [
       "P ◇(kill john dog)"
      ]
     },
     "metadata": {},
     "output_type": "display_data"
    }
   ],
   "source": [
    "parse \"John has possibly killed the dog\" | construct"
   ]
  },
  {
   "cell_type": "code",
   "execution_count": 112,
   "metadata": {},
   "outputs": [
    {
     "data": {
      "text/plain": [
       "□(run john)"
      ]
     },
     "metadata": {},
     "output_type": "display_data"
    }
   ],
   "source": [
    "parse \"John necessarily runs\" | construct"
   ]
  }
 ],
 "metadata": {
  "kernelspec": {
   "display_name": "GLIF",
   "language": "gf",
   "name": "glif"
  },
  "language_info": {
   "codemirror_mode": {
    "name": "gf",
    "version": 3
   },
   "file_extension": ".gf",
   "mimetype": "text/gf",
   "name": "gf"
  }
 },
 "nbformat": 4,
 "nbformat_minor": 4
}
