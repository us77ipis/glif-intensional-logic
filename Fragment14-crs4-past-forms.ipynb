{
 "cells": [
  {
   "cell_type": "markdown",
   "metadata": {},
   "source": [
    "# Fragment 14\n",
    "\n",
    "This fragment fixes the past forms of relative sentences.\n",
    "\n",
    "This fragment is able to interpret the following sentences from the previous fragment:\n",
    "* \"John runs and Mary does not run\" as `(run john)∧¬(run mary)`\n",
    "* \"the dog runs\" as `run dog`\n",
    "* \"John loves Mary\" as `love john mary`\n",
    "* \"it is necessary that John runs\" as `□(run john)`\n",
    "* \"it is not possible that the dog kills John\" as `¬◇(kill dog john)`\n",
    "* \"it is not the case that John loves Mary\" as `¬(love john mary)`\n",
    "* \"John has to run\" as `□(run john)`\n",
    "* \"the dog is not allowed to kill John\" as `¬◇(kill dog john)`\n",
    "* \"John has to be allowed to run\" as `□◇(run john)`\n",
    "* \"John will run\" as `F(run john)`\n",
    "* \"John ran\" as `P(run john)`\n",
    "* \"John had run\" as `PP(run john)`\n",
    "* \"John will have run\" as `FP(run john)`\n",
    "* \"John would run\" as `PF(run john)`\n",
    "* \"John would have run\" as `PFP(run john)`\n",
    "* \"John had to run\" as `P□(run john)`\n",
    "* \"John had had to run\" as `PP□(run john)`\n",
    "* \"John will have to run\" as `F□(run john)`\n",
    "* \"John will have had to run\" as `FP□(run john)`\n",
    "* \"John will be allowed to run\" as `F◇(run john)`\n",
    "* \"John was allowed to run\" as `P◇(run john)`\n",
    "* \"John does run\" as `run john`\n",
    "* \"John did run\" as `P(run john)`\n",
    "* \"John does have to run\" as `□(run john)`\n",
    "* \"John will not run\" as `¬F(run john)` or `F¬(run john)`\n",
    "* \"John would not run\" as `¬PF(run john)`, `PF¬(run john)` or `P¬F(run john)`\n",
    "* \"John did not have to run\" as `¬P□(run john)` or `P¬□(run john)`\n",
    "* \"John would not have run\" as `¬PFP(run john)`, `P¬FP(run john)`, `PF¬P(run john)`\n",
    "* \"John would have not run\" as `PFP¬(run john)`\n",
    "* \"the dog has not killed John\" as `¬P(kill dog john)` or `P¬(kill dog john)`\n",
    "* \"John has to not run\" as `□¬(run john)`\n",
    "* \"John does always run\" as `H(run john)∧G(run john)`\n",
    "* \"John did always run\" as `H(run john)`\n",
    "* \"John will always run\" as `G(run john)`\n",
    "* \"John is allowed to always run\" `◇(H(run john)∧G(run john))`\n",
    "* \"John has to have been allowed to always run\" as `□P◇(H(run john)∧G(run john))`\n",
    "* \"John would never have run\" as `PG¬P(run john)`\n",
    "* \"John always runs\" as `H(run john)∧G(run john)`\n",
    "* \"John always ran\" as `H(run john)`\n",
    "* \"John always will run\" as `G(run john)`\n",
    "* \"John probably will never run\" as `Prob G¬(run john)`\n",
    "* \"John necessarily runs\" as `□(run john)`\n",
    "* \"it rains\" as `it_rains`\n",
    "* \"it probably will not rain\" as `Prob F ¬it_rains` or `Prob ¬F it_rains`\n",
    "* \"it has to be possible that John runs\" as `□◇(run john)`\n",
    "* \"it was not the case that John killed the dog\" as `¬P(kill john dog)` or `P¬(kill john dog)`\n",
    "* \"Mary saw that John killed the dog\" as `P👁mary👁(kill john dog)`\n",
    "* \"Mary saw that John had killed the dog\" as `P👁mary👁P(kill john dog)`\n",
    "* \"Mary saw that John would kill the dog\" as `P👁mary👁F(kill john dog)`\n",
    "* \"Mary will see that John kills the dog\" as `F👁mary👁(kill john dog)`\n",
    "* \"Mary will see that John will kill the dog\" as `F👁mary👁F(kill john dog)`\n",
    "* \"Mary will see that John killed the dog\" as `F👁mary👁P(kill john dog)`\n",
    "* \"Mary will see that John had killed the dog\" as `F👁mary👁PP(kill john dog)`\n",
    "* \"John sees that Mary sees that Peter runs\" as `👁john👁👁mary👁(run peter)`\n",
    "* \"Mary runs and John sees it\" as `(run mary)∧👁john👁(run mary)`\n",
    "* \"John sees that Mary runs but Peter does not see it\" as\n",
    "  * `👁john👁((run mary)∧¬👁peter👁(run mary))`\n",
    "  * `👁john👁(run mary)∧¬👁peter👁👁john👁(run mary)`\n",
    "  * `👁john👁(run mary)∧¬👁peter👁(run mary)`\n",
    "* \"it is necessary and John sees that Peter sees that Mary runs\" as\n",
    "  * `□👁peter👁(run mary)∧👁john👁👁peter👁(run mary)`\n",
    "  * `□(run mary)∧👁john👁👁peter👁(run mary)`\n",
    "\n",
    "This fragment is able to interpret the following new sentences:\n",
    "* \"it was possible that John ran and it was necessary\"\n",
    "  * `P (◇(run john)∧□◇(run john))`\n",
    "  * `P (◇(run john)∧□(run john))`\n",
    "  * `P ◇(run john)∧P □(run john)`\n",
    "  * `P ◇((run john)∧□(run john))`\n",
    "\n",
    "## Parsing"
   ]
  },
  {
   "cell_type": "code",
   "execution_count": 1,
   "metadata": {},
   "outputs": [
    {
     "data": {
      "text/plain": [
       "Defined TensesGrammar"
      ]
     },
     "metadata": {},
     "output_type": "display_data"
    }
   ],
   "source": [
    "abstract TensesGrammar = {\n",
    "    cat\n",
    "        S;         -- Sentence\n",
    "        C;         -- Clause: sentence with tenses\n",
    "        Vi;        -- Intransitive verb\n",
    "        Vt;        -- Transitive verb\n",
    "        Vip;       -- Impersonal verb\n",
    "        Vrel;      -- Verb relative to another sentence\n",
    "        Viprel;    -- Impersonal verb relative to another sentence\n",
    "        Vmod;      -- Modal verb\n",
    "        VPbase;    -- Verb phrase in base form\n",
    "        VPbasem;   -- Modified verb phrase in base form\n",
    "        VP;        -- Verb phrase\n",
    "        VPfc;      -- Verb phrase with fix complex form\n",
    "        Npr;       -- Proper noun\n",
    "        N;         -- Common noun\n",
    "        NP;        -- Noun phrase\n",
    "        Conj;      -- Conjunction\n",
    "        Mod;       -- Modal modifier\n",
    "        TAdv;      -- Temporal adverb\n",
    "    fun\n",
    "        -- Sentence with present form of clause\n",
    "        s : C -> S;\n",
    "        \n",
    "        -- Simple verb form clause: \"John runs\"\n",
    "        ssimp : NP -> VPfc -> C;\n",
    "        -- Complex verb form clause: \"John does not run\"\n",
    "        scomp : NP -> VPfc -> C;\n",
    "        -- Simple verb form of a clause without a concrete actor:\n",
    "        -- \"it rains\"\n",
    "        snsimp : VPfc -> C;\n",
    "        -- Complex verb form of a clause without a concrete actor:\n",
    "        -- \"it is not necessary that John runs\"\n",
    "        sncomp : VPfc -> C;\n",
    "        -- Connected clause:\n",
    "        -- \"John runs and Mary doesn't run\"\n",
    "        sconj : C -> Conj -> C -> C;\n",
    "        -- Connect two relative clauses with conjunction:\n",
    "        -- \"it is possible (that ...) and it is necessary\"\n",
    "        sconjrel1 : C -> Conj -> C -> C;\n",
    "        -- Connect two relative clauses with conjunction:\n",
    "        -- \"it is possible and it is necessary (that ...)\"\n",
    "        sconjrel2 : C -> Conj -> C -> C;\n",
    "        -- Combine a relative clause with another clause\n",
    "        crelc : C -> C -> C;\n",
    "        -- Compensate a grammar-only past operator using a semantic-only past operator\n",
    "        cpast : C -> C;\n",
    "        \n",
    "        -- Build a verb phrase from an intransitive verb: \"run\"\n",
    "        vpvi : Vi -> VPbase;\n",
    "        -- Build a verb phrase from a transitive verb and a noun phrase\n",
    "        -- \"love\" + \"Mary\" -> \"love Mary\"\n",
    "        vpvt : Vt -> NP -> VPbase;\n",
    "        -- Build a verb phrase from an impersonal verb\n",
    "        vpvip : Vip -> VPbase;\n",
    "        -- Build a verb phrase from a relative verb and a clause\n",
    "        vpvrel : Vrel -> VPbase;\n",
    "        -- Build a verb phrase from an impersonal relative verb and a clause\n",
    "        vpviprel : Viprel -> VPbase;\n",
    "        \n",
    "        -- Start modification of verb phrase in base form\n",
    "        vpbm : VPbase -> VPbasem;\n",
    "        -- Apply a modal modifier to an existing verb phrase in base form\n",
    "        vpbmod : Mod -> VPbasem -> VPbasem;\n",
    "        -- Apply a temporal adverb to a verb phrase in base form\n",
    "        vpbpresmod : TAdv -> VPbasem -> VPbasem;\n",
    "        -- Apply a modal verb to an existing verb phrase in base form\n",
    "        -- \"have to\" + \"run\" -> \"have to run\"\n",
    "        vpvmod : Vmod -> VPbasem -> VPbase;\n",
    "        -- Apply a past operator to a verb phrase in base form\n",
    "        -- (\"have\" + past participle form)\n",
    "        vpbpast : VPbasem -> VPbase;\n",
    "        -- Apply a past operator to a verb phrase in base form (only grammar side)\n",
    "        -- (\"have\" + past participle form)\n",
    "        vpbpastg : VPbasem -> VPbase;\n",
    "        -- Apply a past operator to a verb phrase in base form and a temporal adverb\n",
    "        -- e.g. \"always\" + \"run\" -> \"have always run\"\n",
    "        vpbpastmod : TAdv -> VPbasem -> VPbase;\n",
    "        \n",
    "        -- Conjugate a verb phrase that is in base form\n",
    "        vppres : VPbase -> VP;\n",
    "        -- Apply the past tense operator\n",
    "        vppast : VP -> VP;\n",
    "        -- Apply the past tense operator (only grammar side)\n",
    "        vppastg : VP -> VP;\n",
    "        -- Apply the future tense operator\n",
    "        vpfut : VP -> VP;\n",
    "        -- Apply a modal modifier to an existing verb phrase\n",
    "        vpmod : Mod -> VP -> VP;\n",
    "        \n",
    "        -- Conjugate a verb phrase that is in base form using a temporal adverb\n",
    "        vppresmod : TAdv -> VP -> VP;\n",
    "        -- Apply the past tense operator and a temporal adverb\n",
    "        vppastmod : TAdv -> VP -> VP;\n",
    "        -- Apply the future tense operator and a temporal adverb\n",
    "        vpfutmod : TAdv -> VP -> VP;\n",
    "        \n",
    "        -- Fix the complex form of a verb phrase\n",
    "        vpfc : VP -> VPfc;\n",
    "        -- Apply a modal modifier to a verb phrase with fix complex form\n",
    "        vpfcmod : Mod -> VPfc -> VPfc;\n",
    "        -- Apply the present form of a temporal adverb\n",
    "        vpfcpresmod : TAdv -> VPfc -> VPfc;\n",
    "        -- Apply the past tense operator and a temporal adverb\n",
    "        vpfcpastmod : TAdv -> VPfc -> VPfc;\n",
    "        -- Apply the future tense operator and a temporal adverb\n",
    "        vpfcfutmod : TAdv -> VPfc -> VPfc;\n",
    "        \n",
    "        -- Build a noun phrase from a proper noun: \"John\"\n",
    "        npnpr : Npr -> NP;\n",
    "        -- Build a noun phrase from a common noun\n",
    "        -- \"dog\" -> \"the dog\"\n",
    "        npn : N -> NP;\n",
    "        \n",
    "        -- Verbs\n",
    "        run, jump, laugh, sing, howl, scream : Vi;\n",
    "        read, poison, eat, like, love, loath, kick, see, understand, kill : Vt;\n",
    "        rain : Vip;\n",
    "        see_rel : Vrel;\n",
    "        bepossible, benecessary, bethecase : Viprel;\n",
    "        haveto, beallowedto : Vmod;\n",
    "        -- Nouns\n",
    "        prudence, ethel, chester, jo, bertie, fiona, berta, john, mary, peter : Npr;\n",
    "        book, cake, katze, golfer, dog, lecturer, student, singer : N;\n",
    "        -- Conjunctions\n",
    "        and, or, but : Conj;\n",
    "        -- Modal modifiers\n",
    "        not, possibly, necessarily, probably : Mod;\n",
    "        -- Temporal adverbs\n",
    "        always, never : TAdv;\n",
    "}"
   ]
  },
  {
   "cell_type": "code",
   "execution_count": 2,
   "metadata": {},
   "outputs": [],
   "source": [
    "concrete TensesGrammarEng of TensesGrammar = open Predef in {\n",
    "    param\n",
    "        VerbActor = ActorIt | ActorAny;\n",
    "        ClauseType = Absolute | Relative;\n",
    "        Tense = Present | Past | Future;\n",
    "        TenseState = Untouched | Touched | SemiFixed | Fixed;\n",
    "        ModType = ComplexOnly | SimpleAndComplex;\n",
    "    oper\n",
    "        -- Integer type\n",
    "        M = 3;\n",
    "        MyInt : Type = Ints M;\n",
    "        -- Type used to count past operator applications\n",
    "        NPastTenses : Type = {\n",
    "            gonly : MyInt;        -- Number of grammar-only past operators (on the left side)\n",
    "            semantic : MyInt;     -- Number of normal past operators on the left side\n",
    "            right : MyInt;        -- Number of (normal) past operators on the right side\n",
    "            hasRightSide : PBool  -- Whether there is a future operator involved or not\n",
    "        };\n",
    "        -- The type of the conjugated form of a verb\n",
    "        VCType : Type = {\n",
    "            simple : Str;\n",
    "            prefix : Str;\n",
    "            suffix : Str\n",
    "        };\n",
    "        -- The type of a conjugated verb\n",
    "        VType : Type = {\n",
    "            actor : VerbActor;\n",
    "            clauseType : ClauseType;\n",
    "            tenseState : TenseState;\n",
    "            nPastTenses : NPastTenses;\n",
    "            singleTense : Tense => VCType;\n",
    "            doubleTense : Tense => Tense => VCType\n",
    "        };\n",
    "        -- The type of a verb in base form\n",
    "        VBType : Type = VType ** { base : Str ; participle : Str };\n",
    "        -- The type of a modal modifier\n",
    "        MType : Type = { s : Str ; t : ModType };\n",
    "        -- The type of a clause\n",
    "        CType : Type = {\n",
    "            actor : VerbActor;\n",
    "            type : ClauseType;\n",
    "            hasBeenCombined : PBool;\n",
    "            nPastTenses : NPastTenses;\n",
    "            hasConj : PBool;\n",
    "            isComplex : PBool;\n",
    "            str : { prefix : Str ; suffix : Str };\n",
    "        };\n",
    "    lincat\n",
    "        S = Str;            -- Sentence\n",
    "        C = CType;          -- Clause: sentence with tenses\n",
    "        Vi = VBType;        -- Intransitive verb\n",
    "        Vt = VBType;        -- Transitive verb\n",
    "        Vip = VBType;       -- Impersonal verb\n",
    "        Vrel = VBType;      -- Verb relative to another sentence\n",
    "        Viprel = VBType;    -- Impersonal verb relative to another sentence\n",
    "        Vmod = VBType;      -- Modal verb\n",
    "        VPbase = VBType;    -- Verb phrase in base form\n",
    "        VPbasem = VBType;   -- Modified verb phrase in base form\n",
    "        VP = VType;         -- Verb phrase\n",
    "        VPfc = VType;       -- Verb phrase with fix complex form\n",
    "        Npr = Str;          -- Proper noun\n",
    "        N = Str;            -- Common noun\n",
    "        NP = Str;           -- Noun phrase\n",
    "        Conj = Str;         -- Conjunction\n",
    "        Mod = MType;        -- Modal modifier\n",
    "        TAdv = MType;       -- Temporal adverb\n",
    "    oper\n",
    "        -- None\n",
    "        None : Str = nonExist;\n",
    "        \n",
    "        -- Zero past tenses\n",
    "        zeroPastTenses : NPastTenses = { semantic = 0 ; gonly = 0 ; right = 0 ; hasRightSide = PFalse };\n",
    "        -- Plus function\n",
    "        myplus : MyInt -> MyInt -> MyInt = \\a,b ->\n",
    "            case <a,b> of {\n",
    "                <x,y> => let z = plus x y in case lessInt M z of {\n",
    "                    PFalse => z ; PTrue => variants{}\n",
    "                }\n",
    "            };\n",
    "        -- Decrement function\n",
    "        --mydec : MyInt -> MyInt = \\n ->\n",
    "        --    case n of {\n",
    "        --        0 => variants{};\n",
    "        --        1 => 0;\n",
    "        --        2 => 1;\n",
    "        --        3 => 2\n",
    "        --    };\n",
    "        mydec : MyInt -> MyInt = \\n ->\n",
    "            case n of {\n",
    "                x => case eqInt x 0 of {\n",
    "                    PTrue => variants{};\n",
    "                    PFalse => case eqInt x 1 of {\n",
    "                        PTrue => 0;\n",
    "                        PFalse => case eqInt x 2 of {\n",
    "                            PTrue => 1;\n",
    "                            PFalse => 2\n",
    "                        }\n",
    "                    }\n",
    "                }\n",
    "            };\n",
    "\n",
    "        -- Helper function construct a conjugated form of a verb\n",
    "        mkVC = overload {\n",
    "            mkVC : Str -> Str -> Str -> VCType = \\simple,pref,suf -> { simple = simple ; prefix = pref ; suffix = suf };\n",
    "            mkVC : Str -> Str -> VCType = \\pref,suf -> { simple = None ; prefix = pref ; suffix = suf };\n",
    "            mkVC : Str -> VCType = \\pref -> { simple = pref ; prefix = pref ; suffix = [] };\n",
    "        };\n",
    "        \n",
    "        -- None workaround for conjugated form of a verb\n",
    "        VCNone : VCType = { simple = None ; prefix = None ; suffix = None };\n",
    "        \n",
    "        -- Helper function to construct a verb\n",
    "        mkV_ : Str -> Str -> VCType -> VCType -> VBType = \\vb,vpart,vpres,vpast -> {\n",
    "            base = vb;\n",
    "            participle = vpart;\n",
    "            actor = ActorAny;\n",
    "            clauseType = Absolute;\n",
    "            tenseState = Untouched;\n",
    "            nPastTenses = zeroPastTenses;\n",
    "            singleTense = table {\n",
    "                Present => vpres;\n",
    "                Past => vpast;\n",
    "                Future => mkVC \"will\" vb\n",
    "            };\n",
    "            doubleTense = table {\n",
    "                Future => table {\n",
    "                    Past => mkVC \"would\" vb;\n",
    "                    _ => VCNone\n",
    "                };\n",
    "                _ => \\\\_ => VCNone\n",
    "            }\n",
    "        };\n",
    "        \n",
    "        -- Helper function to construct a verb\n",
    "        mkV = overload {\n",
    "            mkV : Str -> Str -> Str -> VBType =\n",
    "                \\vb,vpast,vpart -> mkV_ vb vpart (mkVC (vb + \"s\") \"does\" vb) (mkVC vpast \"did\" vb);\n",
    "            mkV : Str -> Str -> Str -> Str -> VBType =\n",
    "                \\vb,vpres,vpast,vpart -> mkV_ vb vpart (mkVC vpres \"does\" vb) (mkVC vpast \"did\" vb);\n",
    "        };\n",
    "        -- Helper function to construct a be verb\n",
    "        -- mkBeV \"possible\" = { pos = \"is possible\" ; neg = \"is not possible\"}\n",
    "        mkBeV : Str -> VBType = \\s -> mkV_ (\"be\" ++ s) (\"been\" ++ s) (mkVC \"is\" s) (mkVC \"was\" s);\n",
    "        -- Helper function to construct a have verb\n",
    "        mkHaveV : Str -> VBType = \\s -> mkV_ (\"have\" ++ s) (\"had\" ++ s) (mkVC \"has\" s) (mkVC \"had\" s);\n",
    "        \n",
    "        -- Helper function to set verb actor\n",
    "        setVerbActor : VBType -> VerbActor -> VBType = \\v,a -> v ** { actor = a };\n",
    "        -- Helper function to enforce specific verb actor\n",
    "        onlyVerbActorIt : VType -> VType = \\v -> case v.actor of { ActorIt => v ; _ => variants{} };\n",
    "        onlyVerbActorAny : VType -> VType = \\v -> case v.actor of { ActorAny => v ; _ => variants{} };\n",
    "        \n",
    "        -- Helper function to set clause type\n",
    "        setClauseType = overload {\n",
    "            setClauseType : VBType -> ClauseType -> VBType = \\v,ct -> v ** { clauseType = ct };\n",
    "            setClauseType : CType -> ClauseType -> CType = \\c,ct -> c ** { type = ct };\n",
    "        };\n",
    "        -- Helper function to enforce specific clause type\n",
    "        onlyClauseTypeAbsolute : CType -> CType = \\c -> case c.type of { Absolute => c ; Relative => variants{} };\n",
    "        onlyClauseTypeRelative : CType -> CType = \\c -> case c.type of { Relative => c ; Absolute => variants{} };\n",
    "        \n",
    "        -- Helper function to exclude clauses that previously have been combined with referred parts\n",
    "        excludeClauseHasBeenCombined : CType -> CType = \\c -> case c.hasBeenCombined of { PTrue => variants{}; _ => c };\n",
    "        \n",
    "        -- Helper function to exclude clauses that have a suffix\n",
    "        excludeClauseIsComplex : CType -> CType = \\c -> case c.isComplex of { PTrue => variants{}; _ => c };\n",
    "        \n",
    "        -- Helper function to enforce that clause has a conjunction\n",
    "        onlyClauseHasConj : CType -> CType = \\c -> case c.hasConj of { PTrue => c ; _ => variants{} };\n",
    "        \n",
    "        -- Helper function to count a new past operator application\n",
    "        nPastTensesAdd : NPastTenses -> PBool -> NPastTenses = \\p,issemantic ->\n",
    "            case issemantic of {\n",
    "                PTrue => case p.gonly of { x => case eqInt x 0 of {\n",
    "                    PTrue => { semantic = myplus p.semantic 1 ; gonly = 0 ; right = p.right ; hasRightSide = p.hasRightSide };\n",
    "                    PFalse => variants{} -- Prevent adding a normal past operator after having applied a grammar only operator\n",
    "                } };\n",
    "                PFalse => { semantic = p.semantic ; gonly = myplus p.gonly 1 ; right = p.right ; hasRightSide = p.hasRightSide }\n",
    "            };\n",
    "        -- Helper function to count a new past operator application\n",
    "        nPastTensesDecGOnly : NPastTenses -> NPastTenses = \\p -> p ** { gonly = mydec p.gonly ; semantic = myplus p.semantic 1 };\n",
    "        -- Helper function for when a future operator is applied to move the left side to the right side\n",
    "        nPastTensesToRightSide : NPastTenses -> NPastTenses = \\p ->\n",
    "            case p.gonly of { x => case eqInt x 0 of { \n",
    "                PTrue => {             -- Move the semantic past operator applications until here to the right side\n",
    "                    semantic = 0 ; gonly = 0;\n",
    "                    right = case p.hasRightSide of { PTrue => p.right ; PFalse => p.semantic };\n",
    "                    hasRightSide = PTrue\n",
    "                }; \n",
    "                PFalse => variants{}   -- Prevent applying any operator other than Past after a grammar only past operator has been applied\n",
    "            } };\n",
    "        -- Helper function to set the number of past tenses\n",
    "        setNPastTenses = overload {\n",
    "            setNPastTenses : VBType -> NPastTenses -> VBType = \\v,npt -> v ** { nPastTenses = npt };\n",
    "            setNPastTenses : VType -> NPastTenses -> VType = \\v,npt -> v ** { nPastTenses = npt };\n",
    "            setNPastTenses : CType -> NPastTenses -> CType = \\v,npt -> v ** { nPastTenses = npt };\n",
    "        };\n",
    "        -- Helper function to combine number of past operators when inserting a referred clause into a relative clause\n",
    "        -- If p1 has no right side ensures p1.semantic + p1.gonly = p2.gonly or (p1.semantic + p1.gonly >= p2.gonly and p2.semantic = 0)\n",
    "        -- If p1 has a right side ensures p1.right = p2.gonly or (p1.right >= p2.gonly and p2.semantic = 0)\n",
    "        -- Equivalent to the following which is easier to implement:\n",
    "        -- If p1 has no right side ensures p1.semantic + p1.gonly >= p2.gonly and (p1.semantic + p1.gonly <= p2.gonly or p2.semantic = 0)\n",
    "        -- If p1 has a right side ensures p1.right >= p2.gonly and (p1.right <= p2.gonly or p2.semantic = 0)\n",
    "        nPastTensesCombine : NPastTenses -> NPastTenses -> NPastTenses = \\p1,p2 ->\n",
    "            let\n",
    "                p1total = case p1.hasRightSide of { PFalse => myplus p1.semantic p1.gonly ; PTrue => p1.right };\n",
    "                semanticres = case p1.hasRightSide of { PFalse => myplus p1.semantic p2.semantic ; PTrue => p1.semantic }\n",
    "            in case <p1total,p2.gonly,p2.semantic> of {\n",
    "                <x,y,z> => case <lessInt x y, lessInt y x, eqInt z 0> of {\n",
    "                    <PFalse,c1,c2> => case <c1,c2> of {\n",
    "                        <PTrue,PFalse> => variants{};\n",
    "                        <_,_> => { semantic = semanticres ; gonly = p1.gonly ; right = p2.right ; hasRightSide = p2.hasRightSide }\n",
    "                    };\n",
    "                    <_,_> => variants{}\n",
    "                }\n",
    "            };\n",
    "        -- Helper function to combine number of past operators for sconj rule for the case that we have one absolute and one relative clause\n",
    "        -- Ensures that one of the two clauses has no normal past operators, and both clauses should have the same number of grammar-only past operators.\n",
    "        nPastTensesCombineSconj : NPastTenses -> NPastTenses -> NPastTenses = \\p1,p2 ->\n",
    "            case <p1.semantic,p2.semantic> of {\n",
    "                <x,y> => case <eqInt x 0, eqInt y 0> of {\n",
    "                    <PFalse,PFalse> => variants{};\n",
    "                    <_,_> => case <p1.gonly,p2.gonly> of {\n",
    "                        <w,z> => case eqInt w z of {\n",
    "                            PTrue => p1;\n",
    "                            PFalse => variants{}\n",
    "                        }\n",
    "                    }\n",
    "                }\n",
    "            };\n",
    "        -- Helper function to ensure two clauses have same applied number of grammar only past operators\n",
    "        nPastTensesGOnlyEq1 : NPastTenses -> NPastTenses -> NPastTenses = \\p1,p2 ->\n",
    "            case <p1.gonly,p2.gonly> of {\n",
    "                <x,y> => case eqInt x y of { PTrue => p1 ; PFalse => variants{} }\n",
    "            };\n",
    "        nPastTensesGOnlyEq2 : NPastTenses -> NPastTenses -> NPastTenses = \\p1,p2 ->\n",
    "            case <p1.gonly,p2.gonly> of {\n",
    "                <x,y> => case eqInt x y of { PTrue => p2 ; PFalse => variants{} }\n",
    "            };\n",
    "        -- Helper function to ensure no grammar only past operators are remaining in the clause\n",
    "        onlyClauseNoGOnlyPastTense : CType -> CType = \\c -> case c.nPastTenses.gonly of { x => case eqInt x 0 of { PTrue => c ; _ => variants{} } };\n",
    "        \n",
    "        -- Helper function to apply a tense operator to a verb\n",
    "        applyTense : VType -> Tense -> PBool -> VType = \\v,tense,semantic -> {\n",
    "            actor = v.actor;\n",
    "            clauseType = v.clauseType;\n",
    "            tenseState = Touched;\n",
    "            nPastTenses = case tense of {\n",
    "                Past => nPastTensesAdd v.nPastTenses semantic;\n",
    "                _ => nPastTensesToRightSide v.nPastTenses \n",
    "            };\n",
    "            singleTense = table {\n",
    "                Present => v.singleTense ! tense;\n",
    "                x => v.doubleTense ! tense ! x\n",
    "            };\n",
    "            doubleTense = \\\\_,_ => VCNone\n",
    "        };\n",
    "        \n",
    "        -- Helper function to set tense state\n",
    "        setTenseState = overload {\n",
    "            setTenseState : VBType -> TenseState -> VBType = \\v,s -> v ** { tenseState = s };\n",
    "            setTenseState : VType -> TenseState -> VType = \\v,s -> v ** { tenseState = s };\n",
    "        };\n",
    "        -- Helper function to enforce a specific tense state in a rule\n",
    "        onlyUntouchedTense = overload {\n",
    "            onlyUntouchedTense : VBType -> VBType = \\v -> case v.tenseState of { Untouched => v; _ => variants{} };\n",
    "            onlyUntouchedTense : VType -> VType = \\v -> case v.tenseState of { Untouched => v; _ => variants{} };\n",
    "        };\n",
    "        -- Helper function to enforce tense state not Fixed in a rule\n",
    "        excludeFixedTense = overload {\n",
    "            excludeFixedTense : VBType -> VBType = \\v -> case v.tenseState of { Fixed => variants{}; _ => v };\n",
    "            excludeFixedTense : VType -> VType = \\v -> case v.tenseState of { Fixed => variants{}; _ => v };\n",
    "        };\n",
    "        -- Helper function to enforce tense state not Fixed in a rule\n",
    "        excludeSemiFixedTense = overload {\n",
    "            excludeSemiFixedTense : VBType -> VBType = \\v -> case v.tenseState of { Fixed => variants{}; SemiFixed => variants{}; _ => v };\n",
    "            excludeSemiFixedTense : VType -> VType = \\v -> case v.tenseState of { Fixed => variants{}; SemiFixed => variants{}; _ => v };\n",
    "        };\n",
    "        \n",
    "        -- Helper function to append a string to a conjugated form of a verb\n",
    "        vcconcat : VCType -> Str -> VCType = \\vc,s -> {\n",
    "            simple = vc.simple ++ s;\n",
    "            prefix = vc.prefix;\n",
    "            suffix = vc.suffix ++ s;\n",
    "        };\n",
    "        -- Helper function to append a string to verb base\n",
    "        vpconcat : VBType -> Str -> VBType = \\v,s -> {\n",
    "            base = v.base ++ s;\n",
    "            participle = v.participle ++ s;\n",
    "            actor = v.actor;\n",
    "            clauseType = v.clauseType;\n",
    "            tenseState = v.tenseState;\n",
    "            nPastTenses = v.nPastTenses;\n",
    "            singleTense = \\\\t => vcconcat (v.singleTense ! t) s;\n",
    "            doubleTense = \\\\t1,t2 => vcconcat (v.doubleTense ! t1 ! t2) s\n",
    "        };\n",
    "        \n",
    "        -- Helper function to apply a modifier to a conjugated form of a verb\n",
    "        vcapplymod : MType -> VCType -> VCType = \\mod,vc -> {\n",
    "            simple = None;\n",
    "            prefix = vc.prefix;\n",
    "            suffix = mod.s ++ vc.suffix;\n",
    "        };\n",
    "        -- Helper function to apply a modifier to a conjugated form of a verb with fix complex form\n",
    "        vcfcapplymod : MType -> VCType -> VCType = \\mod,vc -> {\n",
    "            simple = mod.s ++ vc.simple;\n",
    "            prefix = mod.s ++ vc.prefix;\n",
    "            suffix = vc.suffix;\n",
    "        };\n",
    "        -- Helper function to apply a modifier to a verb\n",
    "        vpapplymod : MType -> VType -> VType = \\mod,v -> {\n",
    "            actor = v.actor;\n",
    "            clauseType = v.clauseType;\n",
    "            tenseState = v.tenseState;\n",
    "            nPastTenses = v.nPastTenses;\n",
    "            singleTense = \\\\t => vcapplymod mod (v.singleTense ! t);\n",
    "            doubleTense = \\\\t1,t2 => vcapplymod mod (v.doubleTense ! t1 ! t2)\n",
    "        };\n",
    "        -- Helper function to apply a modifier to a verb in base form\n",
    "        vpbapplymod : MType -> VBType -> VBType = \\mod,v -> (vpapplymod mod v) ** {\n",
    "            base = mod.s ++ v.base;\n",
    "            participle = mod.s ++ v.participle\n",
    "        };\n",
    "        -- Helper function to apply a modifier to a verb with fix complex form\n",
    "        vpfcapplymod : MType -> VType -> VType = \\mod,v -> case mod.t of {\n",
    "            SimpleAndComplex => {\n",
    "                actor = v.actor;\n",
    "                clauseType = v.clauseType;\n",
    "                tenseState = v.tenseState;\n",
    "                nPastTenses = v.nPastTenses;\n",
    "                singleTense = \\\\t => vcfcapplymod mod (v.singleTense ! t);\n",
    "                doubleTense = \\\\t1,t2 => vcfcapplymod mod (v.doubleTense ! t1 ! t2)\n",
    "            };\n",
    "            ComplexOnly => variants{}\n",
    "        };\n",
    "        \n",
    "        -- Helper functions to construct a modal modifier\n",
    "        mkMod : Str -> MType = \\s -> { s = s ; t = SimpleAndComplex };\n",
    "        mkModC : Str -> MType = \\s -> { s = s ; t = ComplexOnly };\n",
    "        \n",
    "        -- Helper function to generate a clause from a prefix and a simple form of a verb phrase\n",
    "        mkCs : Str -> VType -> CType = \\s,v -> {\n",
    "            actor = v.actor;\n",
    "            type = v.clauseType;\n",
    "            hasBeenCombined = PFalse;\n",
    "            nPastTenses = v.nPastTenses;\n",
    "            hasConj = PFalse;\n",
    "            isComplex = PFalse;\n",
    "            str = { prefix = s ++ (v.singleTense ! Present).simple ; suffix = [] }\n",
    "        };\n",
    "        -- Helper function to generate a clause from a prefix and a complex form of a verb phrase\n",
    "        mkCc : Str -> VType -> CType = \\s,v -> {\n",
    "            actor = v.actor;\n",
    "            type = v.clauseType;\n",
    "            hasBeenCombined = PFalse;\n",
    "            nPastTenses = v.nPastTenses;\n",
    "            hasConj = PFalse;\n",
    "            isComplex = PFalse;\n",
    "            str = { prefix = s ++ (v.singleTense ! Present).prefix ++ (v.singleTense ! Present).suffix ; suffix = [] }\n",
    "        };\n",
    "        \n",
    "        -- Helper function to append another clause to a relative clause\n",
    "        creladdc : CType -> CType -> CType = \\c1,c2 -> let x : CType = {\n",
    "            actor = c2.actor;\n",
    "            type = c2.type;\n",
    "            hasBeenCombined = PTrue;\n",
    "            nPastTenses = nPastTensesCombine c1.nPastTenses c2.nPastTenses;\n",
    "            hasConj = c1.hasConj;\n",
    "            isComplex = case <c1.isComplex,c2.isComplex> of { <PFalse,PFalse> => PFalse ; _ => PTrue };\n",
    "            str = {\n",
    "                prefix = c1.str.prefix ++ \"that\" ++ c2.str.prefix;\n",
    "                suffix = c2.str.suffix ++ c1.str.suffix\n",
    "            }\n",
    "        } in case c2.type of { Absolute => cmprefsuf x ; _ => x };\n",
    "        \n",
    "        -- Helper function to make relative clause absolute\n",
    "        -- \"Mary sees\" -> \"Mary sees it\"\n",
    "        -- \"it is necessary\" -> \"it is necessary\"\n",
    "        cabs : CType -> CType = \\c -> case <c.actor,c.type> of {\n",
    "            <ActorAny,Relative> => cmprefsuf (cprefapp c \"it\");\n",
    "            _ => cmprefsuf c\n",
    "        };\n",
    "        -- Helper function to merge prefix and suffix of clause\n",
    "        cmprefsuf : CType -> CType = \\c -> c ** { str = { prefix = c.str.prefix ++ c.str.suffix ; suffix = [] } };\n",
    "        -- Helper function to append something to prefix of clause\n",
    "        cprefapp : CType -> Str -> CType = \\c,s -> c ** { str = { prefix = c.str.prefix ++ s ; suffix = c.str.suffix } };\n",
    "    lin\n",
    "        -- Sentence with present form of clause\n",
    "        -- s : C -> S\n",
    "        s c = let x = (onlyClauseNoGOnlyPastTense (onlyClauseTypeAbsolute c)).str in x.prefix ++ x.suffix;\n",
    "        \n",
    "        -- Simple verb form clause: \"John runs\"\n",
    "        -- ssimp : NP -> VPft -> C\n",
    "        ssimp npr v = mkCs npr (onlyVerbActorAny v);\n",
    "        -- Complex verb form clause: \"John does not run\"\n",
    "        -- scomp : NP -> VPft -> C\n",
    "        scomp npr v = mkCc npr (onlyVerbActorAny v);\n",
    "        -- Simple verb form of a clause without a concrete actor:\n",
    "        -- \"it rains\"\n",
    "        -- snsimp : VPfc -> C\n",
    "        snsimp v = mkCs \"it\" (onlyVerbActorIt v);\n",
    "        -- Complex verb form of a clause without a concrete actor:\n",
    "        -- \"it is not necessary that John runs\"\n",
    "        -- sncomp : VPfc -> C\n",
    "        sncomp v = mkCc \"it\" (onlyVerbActorIt v);\n",
    "        -- Connected clause:\n",
    "        -- \"John runs and Mary doesn't run\"\n",
    "        -- sconj : C -> Conj -> C -> C\n",
    "        sconj c1 c c2 = {\n",
    "            actor = c2.actor;\n",
    "            type = Absolute;\n",
    "            hasBeenCombined = PFalse;\n",
    "            nPastTenses = case c2.type of { Absolute => nPastTensesGOnlyEq1; Relative => nPastTensesCombineSconj } c1.nPastTenses c2.nPastTenses;\n",
    "            hasConj = PTrue;\n",
    "            isComplex = PFalse;\n",
    "            str = { prefix = (onlyClauseTypeAbsolute c1).str.prefix ++ c ++ (cabs c2).str.prefix ; suffix = [] }\n",
    "        };\n",
    "        -- Connect two relative clauses with conjunction:\n",
    "        -- \"it is possible (that ...) and it is necessary\"\n",
    "        -- sconjrel1 : C -> Conj -> C -> C\n",
    "        sconjrel1 c1 c c2 = {\n",
    "            actor = c1.actor;\n",
    "            type = Relative;\n",
    "            hasBeenCombined = PFalse;\n",
    "            nPastTenses = nPastTensesGOnlyEq1 c1.nPastTenses c2.nPastTenses;\n",
    "            hasConj = PTrue;\n",
    "            isComplex = PTrue;\n",
    "            str = let x1 = (onlyClauseTypeRelative c1).str in {\n",
    "                prefix = x1.prefix;\n",
    "                suffix = x1.suffix ++ c ++ (cabs (onlyClauseTypeRelative c2)).str.prefix\n",
    "            }\n",
    "        };\n",
    "        -- Connect two relative clauses with conjunction:\n",
    "        -- \"it is possible and it is necessary (that ...)\"\n",
    "        -- Rule should only be applicable if c1 is not complex\n",
    "        -- sconjrel2 : C -> Conj -> C -> C\n",
    "        sconjrel2 c1 c c2 = {\n",
    "            actor = c2.actor;\n",
    "            type = Relative;\n",
    "            hasBeenCombined = PFalse;\n",
    "            nPastTenses = nPastTensesGOnlyEq2 c1.nPastTenses c2.nPastTenses;\n",
    "            hasConj = PTrue;\n",
    "            isComplex = c2.isComplex;\n",
    "            str = let x2 = (onlyClauseTypeRelative c2).str in {\n",
    "                prefix = (cabs (excludeClauseIsComplex (onlyClauseTypeRelative c1))).str.prefix ++ c ++ x2.prefix;\n",
    "                suffix = x2.suffix\n",
    "            }\n",
    "        };\n",
    "        -- Combine a relative clause with another clause\n",
    "        -- crelc : C -> C -> C\n",
    "        crelc c1 c2 = creladdc (onlyClauseTypeRelative c1) (excludeClauseHasBeenCombined c2);\n",
    "        -- Compensate a grammar-only past operator using a semantic-only past operator\n",
    "        -- cpast : C -> C\n",
    "        cpast c = setNPastTenses (onlyClauseHasConj (excludeClauseHasBeenCombined c)) (nPastTensesDecGOnly c.nPastTenses);\n",
    "        \n",
    "        -- Build a verb phrase from an intransitive verb: \"run\"\n",
    "        -- vpvi : Vi -> VPbase\n",
    "        vpvi v = v;\n",
    "        -- Build a verb phrase from a transitive verb and a noun phrase\n",
    "        -- \"love\" + \"Mary\" -> \"love Mary\"\n",
    "        -- vpvt : Vt -> NP -> VPbase\n",
    "        vpvt v np = vpconcat v np;\n",
    "        -- Build a verb phrase from an impersonal verb\n",
    "        -- vpvip : Vip -> VPBase\n",
    "        vpvip v = setVerbActor v ActorIt;\n",
    "        -- Build a verb phrase from a relative verb\n",
    "        -- vpvrel : Vrel -> VPbase\n",
    "        vpvrel v = setClauseType v Relative;\n",
    "        -- Build a verb phrase from an impersonal relative verb\n",
    "        -- vpviprel : Viprel -> VPbase\n",
    "        vpviprel vrel = setVerbActor (setClauseType vrel Relative) ActorIt;\n",
    "        \n",
    "        -- Start modification of verb phrase in base form\n",
    "        -- vpbm : VPbase -> VPbasem\n",
    "        vpbm vp = vp;\n",
    "        -- Apply a modal modifier to an existing verb phrase in base form\n",
    "        -- vpbmod : Mod -> VPbasem -> VPbasem\n",
    "        vpbmod mod vp = vpbapplymod mod vp;\n",
    "        -- Apply a temporal adverb to a verb phrase in base form\n",
    "        -- vpbpresmod : TAdv + VPbasem -> VPbasem\n",
    "        vpbpresmod mod vp = setTenseState (vpbapplymod mod (onlyUntouchedTense vp)) Fixed;\n",
    "        -- Apply a modal verb to an existing verb phrase in base form\n",
    "        -- \"have to\" + \"run\" -> \"have to run\"\n",
    "        -- vpvmod : Vmod -> VPbasem -> VPbase\n",
    "        vpvmod vmod vp = setNPastTenses (setClauseType (setVerbActor (vpconcat vmod vp.base) vp.actor) vp.clauseType) vp.nPastTenses;\n",
    "        -- Apply a past operator to a verb phrase in base form\n",
    "        -- (\"have\" + past participle form)\n",
    "        -- vpbpast : VPbasem -> VPbase\n",
    "        vpbpast vp = setNPastTenses (setClauseType (setVerbActor (setTenseState (mkHaveV (excludeFixedTense vp).participle) Touched) vp.actor) vp.clauseType) (nPastTensesAdd vp.nPastTenses PTrue);\n",
    "        -- Apply a past operator to a verb phrase in base form (only grammar side)\n",
    "        -- (\"have\" + past participle form)\n",
    "        -- vpbpastg : VPbasem -> VPbase\n",
    "        vpbpastg vp = setNPastTenses (vpbpast vp) (nPastTensesAdd vp.nPastTenses PFalse);\n",
    "        -- Apply a past operator to a verb phrase in base form and a temporal adverb\n",
    "        -- e.g. \"always\" + \"run\" -> \"have always run\"\n",
    "        -- vpbpastmod : TAdv -> VPbasem -> VPbase\n",
    "        vpbpastmod mod vp = setNPastTenses (setClauseType (setVerbActor (setTenseState (mkHaveV (vpbapplymod mod (excludeFixedTense vp)).participle) Touched) vp.actor) vp.clauseType) (nPastTensesAdd vp.nPastTenses PTrue);\n",
    "        \n",
    "        -- Conjugate a verb phrase that is in base form\n",
    "        -- vppres : VPbase -> VP\n",
    "        vppres vp = vp;\n",
    "        -- Apply the past tense operator\n",
    "        -- vppast : VP -> VP\n",
    "        vppast vp = setTenseState (applyTense (excludeFixedTense vp) Past PTrue) SemiFixed;\n",
    "        -- Apply the past tense operator (only grammar side)\n",
    "        -- vppastg : VP -> VP\n",
    "        vppastg vp = setTenseState (applyTense (excludeFixedTense vp) Past PFalse) SemiFixed;\n",
    "        -- apply the future tense operator\n",
    "        -- vpfut : VP -> VP\n",
    "        vpfut vp = setTenseState (applyTense (excludeFixedTense vp) Future PTrue) SemiFixed;\n",
    "        -- Apply a modal modifier to an existing verb phrase\n",
    "        -- vpmod : Mod -> VP -> VP\n",
    "        vpmod mod vp = vpapplymod mod vp;\n",
    "        \n",
    "        -- Conjugate a verb phrase that is in base form using a temporal adverb\n",
    "        -- (only applicable if verb phrase's tense is untouched)\n",
    "        -- vppresmod : TAdv -> VP -> VP\n",
    "        vppresmod mod vp = setTenseState (vpapplymod mod (onlyUntouchedTense vp)) Fixed;\n",
    "        -- Apply the past tense operator and a temporal adverb\n",
    "        -- vppastmod : TAdv -> VP -> VP\n",
    "        vppastmod mod vp = setTenseState (applyTense (vpapplymod mod (excludeSemiFixedTense vp)) Past PTrue) SemiFixed;\n",
    "        -- apply the future tense operator and a temporal adverb\n",
    "        -- vpfutmod : TAdv -> VP -> VP\n",
    "        vpfutmod mod vp = setTenseState (applyTense (vpapplymod mod (excludeSemiFixedTense vp)) Future PTrue) SemiFixed;\n",
    "        \n",
    "        -- Fix the complex form of a verb phrase\n",
    "        -- vpfc : VP -> VPfc\n",
    "        vpfc vp = vp;\n",
    "        -- Apply a modal modifier to a verb phrase with fix complex form\n",
    "        -- vpfcmod : Mod -> VPfc -> VPfc\n",
    "        vpfcmod mod vp = vpfcapplymod mod vp;\n",
    "        -- Apply the present form of a temporal adverb\n",
    "        -- vpfcpresmod : TAdv -> VPfc -> VPfc\n",
    "        vpfcpresmod mod vp = setTenseState (vpfcapplymod mod (onlyUntouchedTense vp)) Fixed;\n",
    "        -- Apply the past tense operator and a temporal adverb\n",
    "        -- vpfcpastmod : TAdv -> VPfc -> VPfc\n",
    "        vpfcpastmod mod vp = setTenseState (applyTense (vpfcapplymod mod (excludeSemiFixedTense vp)) Past PTrue) SemiFixed;\n",
    "        -- Apply the future tense operator and a temporal adverb\n",
    "        -- vpfcfutmod : TAdv -> VPfc -> VPfc\n",
    "        vpfcfutmod mod vp = setTenseState (applyTense (vpfcapplymod mod (excludeSemiFixedTense vp)) Future PTrue) SemiFixed;\n",
    "        \n",
    "        -- Build a noun phrase from a proper noun: \"John\"\n",
    "        -- npnpr : Npr -> NP\n",
    "        npnpr npr = npr;\n",
    "        -- Build a noun phrase from a common noun\n",
    "        -- \"dog\" -> \"the dog\"\n",
    "        -- npn : N -> NP\n",
    "        npn n = \"the\" ++ n;\n",
    "        \n",
    "        -- Intrasitive verbs\n",
    "        run = mkV \"run\" \"ran\" \"run\"; jump = mkV \"jump\" \"jumped\" \"jumped\"; laugh = mkV \"laugh\" \"laughed\" \"laughed\";\n",
    "        sing = mkV \"sing\" \"sang\" \"sung\"; howl = mkV \"howl\" \"howled\" \"howled\"; scream = mkV \"scream\" \"screamed\" \"screamed\";\n",
    "        -- Transitive verbs\n",
    "        read = mkV \"read\" \"read\" \"read\"; poison = mkV \"poison\" \"poisoned\" \"poisoned\"; eat = mkV \"eat\" \"ate\" \"eaten\";\n",
    "        like = mkV \"like\" \"liked\" \"liked\"; love = mkV \"love\" \"loved\" \"loved\"; loath = mkV \"loath\" \"loathed\" \"loathed\";\n",
    "        kick = mkV \"kick\" \"kicked\" \"kicked\"; see = mkV \"see\" \"saw\" \"seen\"; understand = mkV \"understand\" \"understood\" \"understood\";\n",
    "        kill = mkV \"kill\" \"killed\" \"killed\";\n",
    "        -- Impersonal verbs\n",
    "        rain = mkV \"rain\" \"rains\" \"rained\" \"rained\";\n",
    "        -- Relative verbs\n",
    "        see_rel = see;\n",
    "        bepossible = mkBeV \"possible\"; benecessary = mkBeV \"necessary\"; bethecase = mkBeV \"the case\";\n",
    "        -- Modal verbs\n",
    "        haveto = mkV \"have to\" \"has to\" \"had to\" \"had to\"; beallowedto = mkBeV \"allowed to\";\n",
    "        -- Nouns\n",
    "        prudence = \"Prudence\"; ethel = \"Ethel\"; chester = \"Chester\"; jo = \"Jo\"; bertie = \"Bertie\"; fiona = \"Fiona\"; berta = \"Berta\";\n",
    "        john = \"John\"; mary = \"Mary\"; peter = \"Peter\";\n",
    "        book = \"book\"; cake = \"cake\"; katze = \"cat\"; golfer = \"golfer\"; dog = \"dog\"; lecturer = \"lecturer\"; student = \"student\";\n",
    "        singer = \"singer\"; \n",
    "        -- Conjunctions\n",
    "        and = \"and\"; or = \"or\"; but = \"but\";\n",
    "        -- Modal modifiers\n",
    "        not = mkModC \"not\"; possibly = mkMod \"possibly\"; necessarily = mkMod \"necessarily\"; probably = mkMod \"probably\";\n",
    "        -- Temporal adverbs\n",
    "        always = mkMod \"always\"; never = mkMod \"never\";\n",
    "}"
   ]
  },
  {
   "cell_type": "markdown",
   "metadata": {},
   "source": [
    "### Parsing test cases (old)"
   ]
  },
  {
   "cell_type": "code",
   "execution_count": 3,
   "metadata": {},
   "outputs": [
    {
     "data": {
      "text/plain": [
       "s (ssimp (npnpr john) (vpfc (vppres (vpvi run))))"
      ]
     },
     "metadata": {},
     "output_type": "display_data"
    }
   ],
   "source": [
    "parse \"John runs\""
   ]
  },
  {
   "cell_type": "code",
   "execution_count": 4,
   "metadata": {},
   "outputs": [
    {
     "data": {
      "text/plain": [
       "s (scomp (npnpr john) (vpfc (vpmod not (vppres (vpvi run)))))"
      ]
     },
     "metadata": {},
     "output_type": "display_data"
    }
   ],
   "source": [
    "parse \"John does not run\""
   ]
  },
  {
   "cell_type": "code",
   "execution_count": 5,
   "metadata": {},
   "outputs": [
    {
     "data": {
      "text/plain": [
       "s (sconj (ssimp (npnpr john) (vpfc (vppres (vpvi run)))) and (scomp (npnpr mary) (vpfc (vpmod not (vppres (vpvi run))))))"
      ]
     },
     "metadata": {},
     "output_type": "display_data"
    }
   ],
   "source": [
    "parse \"John runs and Mary does not run\""
   ]
  },
  {
   "cell_type": "code",
   "execution_count": 6,
   "metadata": {},
   "outputs": [
    {
     "data": {
      "text/plain": [
       "s (sconj (scomp (npnpr john) (vpfc (vpmod not (vppres (vpvi jump))))) or (ssimp (npnpr mary) (vpfc (vppres (vpvi run)))))"
      ]
     },
     "metadata": {},
     "output_type": "display_data"
    }
   ],
   "source": [
    "parse \"John does not jump or Mary runs\""
   ]
  },
  {
   "cell_type": "code",
   "execution_count": 7,
   "metadata": {},
   "outputs": [
    {
     "data": {
      "text/plain": [
       "s (ssimp (npn dog) (vpfc (vppres (vpvi run))))"
      ]
     },
     "metadata": {},
     "output_type": "display_data"
    }
   ],
   "source": [
    "parse \"the dog runs\""
   ]
  },
  {
   "cell_type": "code",
   "execution_count": 8,
   "metadata": {},
   "outputs": [
    {
     "data": {
      "text/plain": [
       "s (ssimp (npnpr john) (vpfc (vppres (vpvt love (npnpr mary)))))"
      ]
     },
     "metadata": {},
     "output_type": "display_data"
    }
   ],
   "source": [
    "parse \"John loves Mary\""
   ]
  },
  {
   "cell_type": "code",
   "execution_count": 9,
   "metadata": {},
   "outputs": [
    {
     "data": {
      "text/plain": [
       "s (sconj (ssimp (npnpr john) (vpfc (vppres (vpvt love (npnpr mary))))) and (scomp (npnpr mary) (vpfc (vpmod not (vppres (vpvt love (npnpr john)))))))"
      ]
     },
     "metadata": {},
     "output_type": "display_data"
    }
   ],
   "source": [
    "parse \"John loves Mary and Mary does not love John\""
   ]
  },
  {
   "cell_type": "code",
   "execution_count": 10,
   "metadata": {},
   "outputs": [
    {
     "data": {
      "text/plain": [
       "s (crelc (sncomp (vpfc (vppres (vpviprel benecessary)))) (ssimp (npnpr john) (vpfc (vppres (vpvi run)))))"
      ]
     },
     "metadata": {},
     "output_type": "display_data"
    }
   ],
   "source": [
    "parse \"it is necessary that John runs\""
   ]
  },
  {
   "cell_type": "code",
   "execution_count": 11,
   "metadata": {},
   "outputs": [
    {
     "data": {
      "text/plain": [
       "s (crelc (sncomp (vpfc (vpmod not (vppres (vpviprel bepossible))))) (ssimp (npn dog) (vpfc (vppres (vpvt kill (npnpr john))))))"
      ]
     },
     "metadata": {},
     "output_type": "display_data"
    }
   ],
   "source": [
    "parse \"it is not possible that the dog kills John\""
   ]
  },
  {
   "cell_type": "code",
   "execution_count": 12,
   "metadata": {},
   "outputs": [
    {
     "data": {
      "text/plain": [
       "s (crelc (sncomp (vpfc (vpmod not (vppres (vpviprel bethecase))))) (ssimp (npnpr john) (vpfc (vppres (vpvt love (npnpr mary))))))"
      ]
     },
     "metadata": {},
     "output_type": "display_data"
    }
   ],
   "source": [
    "parse \"it is not the case that John loves Mary\""
   ]
  },
  {
   "cell_type": "code",
   "execution_count": 13,
   "metadata": {},
   "outputs": [
    {
     "data": {
      "text/plain": [
       "s (ssimp (npnpr john) (vpfc (vppres (vpvmod haveto (vpbm (vpvi run))))))"
      ]
     },
     "metadata": {},
     "output_type": "display_data"
    }
   ],
   "source": [
    "parse \"John has to run\""
   ]
  },
  {
   "cell_type": "code",
   "execution_count": 14,
   "metadata": {},
   "outputs": [
    {
     "data": {
      "text/plain": [
       "s (scomp (npn dog) (vpfc (vpmod not (vppres (vpvmod beallowedto (vpbm (vpvt kill (npnpr john))))))))"
      ]
     },
     "metadata": {},
     "output_type": "display_data"
    }
   ],
   "source": [
    "parse \"the dog is not allowed to kill John\""
   ]
  },
  {
   "cell_type": "code",
   "execution_count": 15,
   "metadata": {},
   "outputs": [
    {
     "data": {
      "text/plain": [
       "s (ssimp (npnpr john) (vpfc (vppres (vpvmod haveto (vpbm (vpvmod beallowedto (vpbm (vpvi run))))))))"
      ]
     },
     "metadata": {},
     "output_type": "display_data"
    }
   ],
   "source": [
    "parse \"John has to be allowed to run\""
   ]
  },
  {
   "cell_type": "code",
   "execution_count": 16,
   "metadata": {},
   "outputs": [
    {
     "data": {
      "text/plain": [
       "s (scomp (npnpr john) (vpfc (vpfut (vppres (vpvi run)))))"
      ]
     },
     "metadata": {},
     "output_type": "display_data"
    }
   ],
   "source": [
    "parse \"John will run\""
   ]
  },
  {
   "cell_type": "code",
   "execution_count": 17,
   "metadata": {},
   "outputs": [
    {
     "data": {
      "text/plain": [
       "s (ssimp (npnpr john) (vpfc (vppast (vppres (vpvi run)))))"
      ]
     },
     "metadata": {},
     "output_type": "display_data"
    }
   ],
   "source": [
    "parse \"John ran\""
   ]
  },
  {
   "cell_type": "code",
   "execution_count": 18,
   "metadata": {},
   "outputs": [
    {
     "data": {
      "text/plain": [
       "s (scomp (npnpr john) (vpfc (vppast (vppres (vpbpast (vpbm (vpvi run)))))))"
      ]
     },
     "metadata": {},
     "output_type": "display_data"
    }
   ],
   "source": [
    "parse \"John had run\""
   ]
  },
  {
   "cell_type": "code",
   "execution_count": 19,
   "metadata": {},
   "outputs": [
    {
     "data": {
      "text/plain": [
       "s (scomp (npnpr john) (vpfc (vpfut (vppres (vpbpast (vpbm (vpvi run)))))))"
      ]
     },
     "metadata": {},
     "output_type": "display_data"
    }
   ],
   "source": [
    "parse \"John will have run\""
   ]
  },
  {
   "cell_type": "code",
   "execution_count": 20,
   "metadata": {},
   "outputs": [
    {
     "data": {
      "text/plain": [
       "s (scomp (npnpr john) (vpfc (vppast (vpfut (vppres (vpvi run))))))"
      ]
     },
     "metadata": {},
     "output_type": "display_data"
    }
   ],
   "source": [
    "parse \"John would run\""
   ]
  },
  {
   "cell_type": "code",
   "execution_count": 21,
   "metadata": {},
   "outputs": [
    {
     "data": {
      "text/plain": [
       "s (scomp (npnpr john) (vpfc (vppast (vpfut (vppres (vpbpast (vpbm (vpvi run))))))))"
      ]
     },
     "metadata": {},
     "output_type": "display_data"
    }
   ],
   "source": [
    "parse \"John would have run\""
   ]
  },
  {
   "cell_type": "code",
   "execution_count": 22,
   "metadata": {},
   "outputs": [
    {
     "data": {
      "text/plain": [
       "s (ssimp (npnpr john) (vpfc (vppast (vppres (vpvmod haveto (vpbm (vpvi run)))))))"
      ]
     },
     "metadata": {},
     "output_type": "display_data"
    }
   ],
   "source": [
    "parse \"John had to run\""
   ]
  },
  {
   "cell_type": "code",
   "execution_count": 23,
   "metadata": {},
   "outputs": [
    {
     "data": {
      "text/plain": [
       "s (scomp (npnpr john) (vpfc (vppast (vppres (vpbpast (vpbm (vpvmod haveto (vpbm (vpvi run)))))))))"
      ]
     },
     "metadata": {},
     "output_type": "display_data"
    }
   ],
   "source": [
    "parse \"John had had to run\""
   ]
  },
  {
   "cell_type": "code",
   "execution_count": 24,
   "metadata": {},
   "outputs": [
    {
     "data": {
      "text/plain": [
       "s (scomp (npnpr john) (vpfc (vpfut (vppres (vpvmod haveto (vpbm (vpvi run)))))))"
      ]
     },
     "metadata": {},
     "output_type": "display_data"
    }
   ],
   "source": [
    "parse \"John will have to run\""
   ]
  },
  {
   "cell_type": "code",
   "execution_count": 25,
   "metadata": {},
   "outputs": [
    {
     "data": {
      "text/plain": [
       "s (scomp (npnpr john) (vpfc (vpfut (vppres (vpbpast (vpbm (vpvmod haveto (vpbm (vpvi run)))))))))"
      ]
     },
     "metadata": {},
     "output_type": "display_data"
    }
   ],
   "source": [
    "parse \"John will have had to run\""
   ]
  },
  {
   "cell_type": "code",
   "execution_count": 26,
   "metadata": {},
   "outputs": [
    {
     "data": {
      "text/plain": [
       "s (scomp (npnpr john) (vpfc (vpfut (vppres (vpvmod beallowedto (vpbm (vpvi run)))))))"
      ]
     },
     "metadata": {},
     "output_type": "display_data"
    }
   ],
   "source": [
    "parse \"John will be allowed to run\""
   ]
  },
  {
   "cell_type": "code",
   "execution_count": 27,
   "metadata": {},
   "outputs": [
    {
     "data": {
      "text/plain": [
       "s (scomp (npnpr john) (vpfc (vppast (vppres (vpvmod beallowedto (vpbm (vpvi run)))))))"
      ]
     },
     "metadata": {},
     "output_type": "display_data"
    }
   ],
   "source": [
    "parse \"John was allowed to run\""
   ]
  },
  {
   "cell_type": "code",
   "execution_count": 28,
   "metadata": {},
   "outputs": [
    {
     "data": {
      "text/plain": [
       "s (scomp (npnpr john) (vpfc (vppres (vpvi run))))"
      ]
     },
     "metadata": {},
     "output_type": "display_data"
    }
   ],
   "source": [
    "parse \"John does run\""
   ]
  },
  {
   "cell_type": "code",
   "execution_count": 29,
   "metadata": {},
   "outputs": [
    {
     "data": {
      "text/plain": [
       "s (scomp (npnpr john) (vpfc (vppast (vppres (vpvi run)))))"
      ]
     },
     "metadata": {},
     "output_type": "display_data"
    }
   ],
   "source": [
    "parse \"John did run\""
   ]
  },
  {
   "cell_type": "code",
   "execution_count": 30,
   "metadata": {},
   "outputs": [
    {
     "data": {
      "text/plain": [
       "s (scomp (npnpr john) (vpfc (vppres (vpvmod haveto (vpbm (vpvi run))))))"
      ]
     },
     "metadata": {},
     "output_type": "display_data"
    }
   ],
   "source": [
    "parse \"John does have to run\""
   ]
  },
  {
   "cell_type": "code",
   "execution_count": 31,
   "metadata": {},
   "outputs": [
    {
     "data": {
      "text/plain": [
       "s (scomp (npnpr john) (vpfc (vpfut (vpmod not (vppres (vpvi run))))))"
      ]
     },
     "metadata": {},
     "output_type": "display_data"
    },
    {
     "data": {
      "text/plain": [
       "s (scomp (npnpr john) (vpfc (vpmod not (vpfut (vppres (vpvi run))))))"
      ]
     },
     "metadata": {},
     "output_type": "display_data"
    }
   ],
   "source": [
    "parse \"John will not run\""
   ]
  },
  {
   "cell_type": "code",
   "execution_count": 32,
   "metadata": {},
   "outputs": [
    {
     "data": {
      "text/plain": [
       "s (scomp (npnpr john) (vpfc (vpmod not (vppast (vpfut (vppres (vpvi run)))))))"
      ]
     },
     "metadata": {},
     "output_type": "display_data"
    },
    {
     "data": {
      "text/plain": [
       "s (scomp (npnpr john) (vpfc (vppast (vpfut (vpmod not (vppres (vpvi run)))))))"
      ]
     },
     "metadata": {},
     "output_type": "display_data"
    },
    {
     "data": {
      "text/plain": [
       "s (scomp (npnpr john) (vpfc (vppast (vpmod not (vpfut (vppres (vpvi run)))))))"
      ]
     },
     "metadata": {},
     "output_type": "display_data"
    }
   ],
   "source": [
    "parse \"John would not run\""
   ]
  },
  {
   "cell_type": "code",
   "execution_count": 33,
   "metadata": {},
   "outputs": [
    {
     "data": {
      "text/plain": [
       "s (scomp (npnpr john) (vpfc (vpmod not (vppast (vppres (vpvmod haveto (vpbm (vpvi run))))))))"
      ]
     },
     "metadata": {},
     "output_type": "display_data"
    },
    {
     "data": {
      "text/plain": [
       "s (scomp (npnpr john) (vpfc (vppast (vpmod not (vppres (vpvmod haveto (vpbm (vpvi run))))))))"
      ]
     },
     "metadata": {},
     "output_type": "display_data"
    }
   ],
   "source": [
    "parse \"John did not have to run\""
   ]
  },
  {
   "cell_type": "code",
   "execution_count": 34,
   "metadata": {},
   "outputs": [
    {
     "data": {
      "text/plain": [
       "s (scomp (npnpr john) (vpfc (vpmod not (vppast (vpfut (vppres (vpbpast (vpbm (vpvi run)))))))))"
      ]
     },
     "metadata": {},
     "output_type": "display_data"
    },
    {
     "data": {
      "text/plain": [
       "s (scomp (npnpr john) (vpfc (vppast (vpfut (vpmod not (vppres (vpbpast (vpbm (vpvi run)))))))))"
      ]
     },
     "metadata": {},
     "output_type": "display_data"
    },
    {
     "data": {
      "text/plain": [
       "s (scomp (npnpr john) (vpfc (vppast (vpmod not (vpfut (vppres (vpbpast (vpbm (vpvi run)))))))))"
      ]
     },
     "metadata": {},
     "output_type": "display_data"
    }
   ],
   "source": [
    "parse \"John would not have run\""
   ]
  },
  {
   "cell_type": "code",
   "execution_count": 35,
   "metadata": {},
   "outputs": [
    {
     "data": {
      "text/plain": [
       "s (scomp (npn dog) (vpfc (vpmod not (vppast (vppres (vpbpast (vpbm (vpvt kill (npnpr john)))))))))"
      ]
     },
     "metadata": {},
     "output_type": "display_data"
    },
    {
     "data": {
      "text/plain": [
       "s (scomp (npn dog) (vpfc (vppast (vpmod not (vppres (vpbpast (vpbm (vpvt kill (npnpr john)))))))))"
      ]
     },
     "metadata": {},
     "output_type": "display_data"
    },
    {
     "data": {
      "text/plain": [
       "s (scomp (npn dog) (vpfc (vppast (vppres (vpbpast (vpbmod not (vpbm (vpvt kill (npnpr john)))))))))"
      ]
     },
     "metadata": {},
     "output_type": "display_data"
    }
   ],
   "source": [
    "parse \"the dog had not killed John\""
   ]
  },
  {
   "cell_type": "code",
   "execution_count": 36,
   "metadata": {},
   "outputs": [
    {
     "data": {
      "text/plain": [
       "s (scomp (npn dog) (vpfc (vppast (vpfut (vppres (vpbpast (vpbmod not (vpbm (vpvi run)))))))))"
      ]
     },
     "metadata": {},
     "output_type": "display_data"
    }
   ],
   "source": [
    "parse \"the dog would have not run\""
   ]
  },
  {
   "cell_type": "code",
   "execution_count": 37,
   "metadata": {},
   "outputs": [
    {
     "data": {
      "text/plain": [
       "s (scomp (npn dog) (vpfc (vpmod not (vppres (vpbpast (vpbm (vpvt kill (npnpr john))))))))"
      ]
     },
     "metadata": {},
     "output_type": "display_data"
    },
    {
     "data": {
      "text/plain": [
       "s (scomp (npn dog) (vpfc (vppres (vpbpast (vpbmod not (vpbm (vpvt kill (npnpr john))))))))"
      ]
     },
     "metadata": {},
     "output_type": "display_data"
    }
   ],
   "source": [
    "parse \"the dog has not killed John\""
   ]
  },
  {
   "cell_type": "code",
   "execution_count": 38,
   "metadata": {},
   "outputs": [
    {
     "data": {
      "text/plain": [
       "s (ssimp (npnpr john) (vpfc (vppres (vpvmod haveto (vpbmod not (vpbm (vpvi run)))))))"
      ]
     },
     "metadata": {},
     "output_type": "display_data"
    }
   ],
   "source": [
    "parse \"John has to not run\""
   ]
  },
  {
   "cell_type": "code",
   "execution_count": 39,
   "metadata": {},
   "outputs": [
    {
     "data": {
      "text/plain": [
       "s (scomp (npnpr john) (vpfc (vppresmod always (vppres (vpvi run)))))"
      ]
     },
     "metadata": {},
     "output_type": "display_data"
    }
   ],
   "source": [
    "parse \"John does always run\""
   ]
  },
  {
   "cell_type": "code",
   "execution_count": 40,
   "metadata": {},
   "outputs": [
    {
     "data": {
      "text/plain": [
       "s (scomp (npnpr john) (vpfc (vppastmod always (vppres (vpvi run)))))"
      ]
     },
     "metadata": {},
     "output_type": "display_data"
    }
   ],
   "source": [
    "parse \"John did always run\""
   ]
  },
  {
   "cell_type": "code",
   "execution_count": 41,
   "metadata": {},
   "outputs": [
    {
     "data": {
      "text/plain": [
       "s (scomp (npnpr john) (vpfc (vpfutmod always (vppres (vpvi run)))))"
      ]
     },
     "metadata": {},
     "output_type": "display_data"
    }
   ],
   "source": [
    "parse \"John will always run\""
   ]
  },
  {
   "cell_type": "code",
   "execution_count": 42,
   "metadata": {},
   "outputs": [
    {
     "data": {
      "text/plain": [
       "s (scomp (npnpr john) (vpfc (vppres (vpbpastmod always (vpbm (vpvmod beallowedto (vpbm (vpvi run))))))))"
      ]
     },
     "metadata": {},
     "output_type": "display_data"
    }
   ],
   "source": [
    "parse \"John has always been allowed to run\""
   ]
  },
  {
   "cell_type": "code",
   "execution_count": 43,
   "metadata": {},
   "outputs": [
    {
     "data": {
      "text/plain": [
       "s (scomp (npnpr john) (vpfc (vppres (vpvmod beallowedto (vpbpresmod always (vpbm (vpvi run)))))))"
      ]
     },
     "metadata": {},
     "output_type": "display_data"
    }
   ],
   "source": [
    "parse \"John is allowed to always run\""
   ]
  },
  {
   "cell_type": "code",
   "execution_count": 44,
   "metadata": {},
   "outputs": [
    {
     "data": {
      "text/plain": [
       "s (scomp (npnpr john) (vpfc (vppres (vpbpast (vpbm (vpvmod beallowedto (vpbpresmod always (vpbm (vpvi run)))))))))"
      ]
     },
     "metadata": {},
     "output_type": "display_data"
    }
   ],
   "source": [
    "parse \"John has been allowed to always run\""
   ]
  },
  {
   "cell_type": "code",
   "execution_count": 45,
   "metadata": {},
   "outputs": [
    {
     "data": {
      "text/plain": [
       "s (scomp (npnpr john) (vpfc (vppres (vpvmod beallowedto (vpbm (vpbpastmod always (vpbm (vpvi run))))))))"
      ]
     },
     "metadata": {},
     "output_type": "display_data"
    }
   ],
   "source": [
    "parse \"John is allowed to have always run\""
   ]
  },
  {
   "cell_type": "code",
   "execution_count": 46,
   "metadata": {},
   "outputs": [
    {
     "data": {
      "text/plain": [
       "s (scomp (npnpr john) (vpfc (vppres (vpbpastmod always (vpbm (vpvi run))))))"
      ]
     },
     "metadata": {},
     "output_type": "display_data"
    }
   ],
   "source": [
    "parse \"John has always run\""
   ]
  },
  {
   "cell_type": "code",
   "execution_count": 47,
   "metadata": {},
   "outputs": [
    {
     "data": {
      "text/plain": [
       "s (scomp (npnpr john) (vpfc (vpfutmod never (vpmod not (vppres (vpbpastmod always (vpbm (vpvi run))))))))"
      ]
     },
     "metadata": {},
     "output_type": "display_data"
    }
   ],
   "source": [
    "parse \"John will never not have always run\""
   ]
  },
  {
   "cell_type": "code",
   "execution_count": 48,
   "metadata": {},
   "outputs": [
    {
     "data": {
      "text/plain": [
       "s (scomp (npnpr john) (vpfc (vpfutmod never (vpmod not (vppres (vpbpast (vpbm (vpvi run))))))))"
      ]
     },
     "metadata": {},
     "output_type": "display_data"
    }
   ],
   "source": [
    "parse \"John will never not have run\""
   ]
  },
  {
   "cell_type": "code",
   "execution_count": 49,
   "metadata": {},
   "outputs": [
    {
     "data": {
      "text/plain": [
       "s (scomp (npnpr john) (vpfc (vppast (vpfutmod never (vppres (vpbpast (vpbm (vpvi run))))))))"
      ]
     },
     "metadata": {},
     "output_type": "display_data"
    }
   ],
   "source": [
    "parse \"John would never have run\""
   ]
  },
  {
   "cell_type": "code",
   "execution_count": 50,
   "metadata": {},
   "outputs": [
    {
     "data": {
      "text/plain": [
       "s (scomp (npnpr john) (vpfc (vpmod not (vppres (vpbpastmod always (vpbm (vpvi run)))))))"
      ]
     },
     "metadata": {},
     "output_type": "display_data"
    }
   ],
   "source": [
    "parse \"John has not always run\""
   ]
  },
  {
   "cell_type": "code",
   "execution_count": 51,
   "metadata": {},
   "outputs": [
    {
     "data": {
      "text/plain": [
       "s (ssimp (npnpr john) (vpfc (vppres (vpvmod haveto (vpbm (vpbpast (vpbm (vpvmod beallowedto (vpbpresmod always (vpbm (vpvi run)))))))))))"
      ]
     },
     "metadata": {},
     "output_type": "display_data"
    }
   ],
   "source": [
    "parse \"John has to have been allowed to always run\""
   ]
  },
  {
   "cell_type": "code",
   "execution_count": 52,
   "metadata": {},
   "outputs": [
    {
     "data": {
      "text/plain": [
       "s (ssimp (npnpr john) (vpfcpresmod always (vpfc (vppres (vpvi run)))))"
      ]
     },
     "metadata": {},
     "output_type": "display_data"
    }
   ],
   "source": [
    "parse \"John always runs\""
   ]
  },
  {
   "cell_type": "code",
   "execution_count": 53,
   "metadata": {},
   "outputs": [
    {
     "data": {
      "text/plain": [
       "s (ssimp (npnpr john) (vpfcpastmod always (vpfc (vppres (vpvi run)))))"
      ]
     },
     "metadata": {},
     "output_type": "display_data"
    }
   ],
   "source": [
    "parse \"John always ran\""
   ]
  },
  {
   "cell_type": "code",
   "execution_count": 54,
   "metadata": {},
   "outputs": [
    {
     "data": {
      "text/plain": [
       "s (scomp (npnpr john) (vpfcfutmod always (vpfc (vppres (vpvi run)))))"
      ]
     },
     "metadata": {},
     "output_type": "display_data"
    }
   ],
   "source": [
    "parse \"John always will run\""
   ]
  },
  {
   "cell_type": "code",
   "execution_count": 55,
   "metadata": {},
   "outputs": [
    {
     "data": {
      "text/plain": [
       "s (scomp (npnpr john) (vpfcmod probably (vpfc (vpfutmod never (vppres (vpvi run))))))"
      ]
     },
     "metadata": {},
     "output_type": "display_data"
    }
   ],
   "source": [
    "parse \"John probably will never run\""
   ]
  },
  {
   "cell_type": "code",
   "execution_count": 56,
   "metadata": {},
   "outputs": [
    {
     "data": {
      "text/plain": [
       "s (scomp (npnpr john) (vpfc (vpmod possibly (vppres (vpbpast (vpbm (vpvt kill (npn dog))))))))"
      ]
     },
     "metadata": {},
     "output_type": "display_data"
    },
    {
     "data": {
      "text/plain": [
       "s (scomp (npnpr john) (vpfc (vppres (vpbpast (vpbmod possibly (vpbm (vpvt kill (npn dog))))))))"
      ]
     },
     "metadata": {},
     "output_type": "display_data"
    }
   ],
   "source": [
    "parse \"John has possibly killed the dog\""
   ]
  },
  {
   "cell_type": "code",
   "execution_count": 57,
   "metadata": {},
   "outputs": [
    {
     "data": {
      "text/plain": [
       "s (ssimp (npnpr john) (vpfcmod necessarily (vpfc (vppres (vpvi run)))))"
      ]
     },
     "metadata": {},
     "output_type": "display_data"
    }
   ],
   "source": [
    "parse \"John necessarily runs\""
   ]
  },
  {
   "cell_type": "code",
   "execution_count": 58,
   "metadata": {},
   "outputs": [
    {
     "data": {
      "text/plain": [
       "s (snsimp (vpfc (vppres (vpvip rain))))"
      ]
     },
     "metadata": {},
     "output_type": "display_data"
    }
   ],
   "source": [
    "parse \"it rains\""
   ]
  },
  {
   "cell_type": "code",
   "execution_count": 59,
   "metadata": {},
   "outputs": [
    {
     "data": {
      "text/plain": [
       "s (sncomp (vpfcmod probably (vpfc (vpfut (vpmod not (vppres (vpvip rain)))))))"
      ]
     },
     "metadata": {},
     "output_type": "display_data"
    },
    {
     "data": {
      "text/plain": [
       "s (sncomp (vpfcmod probably (vpfc (vpmod not (vpfut (vppres (vpvip rain)))))))"
      ]
     },
     "metadata": {},
     "output_type": "display_data"
    }
   ],
   "source": [
    "parse \"it probably will not rain\""
   ]
  },
  {
   "cell_type": "code",
   "execution_count": 60,
   "metadata": {},
   "outputs": [
    {
     "data": {
      "text/plain": [
       "s (crelc (snsimp (vpfc (vppres (vpvmod haveto (vpbm (vpviprel bepossible)))))) (ssimp (npnpr john) (vpfc (vppres (vpvi run)))))"
      ]
     },
     "metadata": {},
     "output_type": "display_data"
    }
   ],
   "source": [
    "parse \"it has to be possible that John runs\""
   ]
  },
  {
   "cell_type": "code",
   "execution_count": 61,
   "metadata": {},
   "outputs": [
    {
     "data": {
      "text/plain": [
       "s (crelc (sncomp (vpfc (vpmod not (vppast (vppres (vpviprel bethecase)))))) (ssimp (npnpr john) (vpfc (vppastg (vppres (vpvt kill (npn dog)))))))"
      ]
     },
     "metadata": {},
     "output_type": "display_data"
    },
    {
     "data": {
      "text/plain": [
       "s (crelc (sncomp (vpfc (vppast (vpmod not (vppres (vpviprel bethecase)))))) (ssimp (npnpr john) (vpfc (vppastg (vppres (vpvt kill (npn dog)))))))"
      ]
     },
     "metadata": {},
     "output_type": "display_data"
    }
   ],
   "source": [
    "parse \"it was not the case that John killed the dog\""
   ]
  },
  {
   "cell_type": "code",
   "execution_count": 62,
   "metadata": {},
   "outputs": [
    {
     "data": {
      "text/plain": [
       "s (crelc (ssimp (npnpr mary) (vpfc (vppast (vppres (vpvrel see_rel))))) (ssimp (npnpr john) (vpfc (vppastg (vppres (vpvt kill (npn dog)))))))"
      ]
     },
     "metadata": {},
     "output_type": "display_data"
    }
   ],
   "source": [
    "parse \"Mary saw that John killed the dog\""
   ]
  },
  {
   "cell_type": "code",
   "execution_count": 63,
   "metadata": {},
   "outputs": [
    {
     "data": {
      "text/plain": [
       "s (crelc (ssimp (npnpr mary) (vpfc (vppast (vppres (vpvrel see_rel))))) (scomp (npnpr john) (vpfc (vppastg (vppres (vpbpast (vpbm (vpvt kill (npn dog)))))))))"
      ]
     },
     "metadata": {},
     "output_type": "display_data"
    }
   ],
   "source": [
    "parse \"Mary saw that John had killed the dog\""
   ]
  },
  {
   "cell_type": "code",
   "execution_count": 64,
   "metadata": {},
   "outputs": [
    {
     "data": {
      "text/plain": [
       "s (crelc (scomp (npnpr mary) (vpfc (vpfut (vppres (vpvrel see_rel))))) (ssimp (npnpr john) (vpfc (vppres (vpvt kill (npn dog))))))"
      ]
     },
     "metadata": {},
     "output_type": "display_data"
    }
   ],
   "source": [
    "parse \"Mary will see that John kills the dog\""
   ]
  },
  {
   "cell_type": "code",
   "execution_count": 65,
   "metadata": {},
   "outputs": [
    {
     "data": {
      "text/plain": [
       "s (crelc (scomp (npnpr mary) (vpfc (vpfut (vppres (vpvrel see_rel))))) (scomp (npnpr john) (vpfc (vpfut (vppres (vpvt kill (npn dog)))))))"
      ]
     },
     "metadata": {},
     "output_type": "display_data"
    }
   ],
   "source": [
    "parse \"Mary will see that John will kill the dog\""
   ]
  },
  {
   "cell_type": "code",
   "execution_count": 66,
   "metadata": {},
   "outputs": [
    {
     "data": {
      "text/plain": [
       "s (crelc (scomp (npnpr mary) (vpfc (vpfut (vppres (vpvrel see_rel))))) (ssimp (npnpr john) (vpfc (vppast (vppres (vpvt kill (npn dog)))))))"
      ]
     },
     "metadata": {},
     "output_type": "display_data"
    }
   ],
   "source": [
    "parse \"Mary will see that John killed the dog\""
   ]
  },
  {
   "cell_type": "code",
   "execution_count": 67,
   "metadata": {},
   "outputs": [
    {
     "data": {
      "text/plain": [
       "s (crelc (scomp (npnpr mary) (vpfc (vpfut (vppres (vpvrel see_rel))))) (scomp (npnpr john) (vpfc (vppast (vppres (vpbpast (vpbm (vpvt kill (npn dog)))))))))"
      ]
     },
     "metadata": {},
     "output_type": "display_data"
    }
   ],
   "source": [
    "parse \"Mary will see that John had killed the dog\""
   ]
  },
  {
   "cell_type": "code",
   "execution_count": 68,
   "metadata": {},
   "outputs": [
    {
     "data": {
      "text/plain": [
       "s (crelc (scomp (npnpr mary) (vpfc (vppast (vpfut (vppres (vpvrel see_rel)))))) (ssimp (npnpr john) (vpfc (vppast (vppres (vpvt kill (npn dog)))))))"
      ]
     },
     "metadata": {},
     "output_type": "display_data"
    }
   ],
   "source": [
    "parse \"Mary would see that John killed the dog\""
   ]
  },
  {
   "cell_type": "code",
   "execution_count": 69,
   "metadata": {},
   "outputs": [
    {
     "data": {
      "text/plain": [
       "s (crelc (scomp (npnpr mary) (vpfc (vppast (vpfut (vppres (vpbpast (vpbm (vpvrel see_rel)))))))) (ssimp (npnpr john) (vpfc (vppastg (vppres (vpvt kill (npn dog)))))))"
      ]
     },
     "metadata": {},
     "output_type": "display_data"
    }
   ],
   "source": [
    "parse \"Mary would have seen that John killed the dog\""
   ]
  },
  {
   "cell_type": "code",
   "execution_count": 70,
   "metadata": {},
   "outputs": [
    {
     "data": {
      "text/plain": [
       "s (crelc (ssimp (npnpr mary) (vpfc (vppast (vppres (vpvrel see_rel))))) (scomp (npnpr john) (vpfc (vppastg (vpfut (vppres (vpvt kill (npn dog))))))))"
      ]
     },
     "metadata": {},
     "output_type": "display_data"
    }
   ],
   "source": [
    "parse \"Mary saw that John would kill the dog\""
   ]
  },
  {
   "cell_type": "code",
   "execution_count": 71,
   "metadata": {},
   "outputs": [
    {
     "data": {
      "text/plain": [
       "s (crelc (scomp (npnpr mary) (vpfc (vpmod not (vppast (vppres (vpvmod beallowedto (vpbm (vpvrel see_rel)))))))) (ssimp (npnpr john) (vpfc (vppres (vpvt kill (npn dog))))))"
      ]
     },
     "metadata": {},
     "output_type": "display_data"
    },
    {
     "data": {
      "text/plain": [
       "s (crelc (scomp (npnpr mary) (vpfc (vppast (vpmod not (vppres (vpvmod beallowedto (vpbm (vpvrel see_rel)))))))) (ssimp (npnpr john) (vpfc (vppres (vpvt kill (npn dog))))))"
      ]
     },
     "metadata": {},
     "output_type": "display_data"
    }
   ],
   "source": [
    "parse \"Mary was not allowed to see that John kills the dog\""
   ]
  },
  {
   "cell_type": "code",
   "execution_count": 72,
   "metadata": {},
   "outputs": [
    {
     "data": {
      "text/plain": [
       "s (crelc (crelc (ssimp (npnpr john) (vpfc (vppres (vpvrel see_rel)))) (ssimp (npnpr mary) (vpfc (vppres (vpvrel see_rel))))) (ssimp (npnpr peter) (vpfc (vppres (vpvi run)))))"
      ]
     },
     "metadata": {},
     "output_type": "display_data"
    }
   ],
   "source": [
    "parse \"John sees that Mary sees that Peter runs\""
   ]
  },
  {
   "cell_type": "code",
   "execution_count": 73,
   "metadata": {},
   "outputs": [
    {
     "data": {
      "text/plain": [
       "s (sconj (ssimp (npnpr mary) (vpfc (vppres (vpvi run)))) and (ssimp (npnpr john) (vpfc (vppres (vpvrel see_rel)))))"
      ]
     },
     "metadata": {},
     "output_type": "display_data"
    }
   ],
   "source": [
    "parse \"Mary runs and John sees it\""
   ]
  },
  {
   "cell_type": "code",
   "execution_count": 74,
   "metadata": {},
   "outputs": [
    {
     "data": {
      "text/plain": [
       "s (crelc (ssimp (npnpr john) (vpfc (vppres (vpvrel see_rel)))) (sconj (ssimp (npnpr mary) (vpfc (vppres (vpvi run)))) but (scomp (npnpr peter) (vpfc (vpmod not (vppres (vpvrel see_rel)))))))"
      ]
     },
     "metadata": {},
     "output_type": "display_data"
    },
    {
     "data": {
      "text/plain": [
       "s (crelc (sconjrel1 (ssimp (npnpr john) (vpfc (vppres (vpvrel see_rel)))) but (scomp (npnpr peter) (vpfc (vpmod not (vppres (vpvrel see_rel)))))) (ssimp (npnpr mary) (vpfc (vppres (vpvi run)))))"
      ]
     },
     "metadata": {},
     "output_type": "display_data"
    },
    {
     "data": {
      "text/plain": [
       "s (sconj (crelc (ssimp (npnpr john) (vpfc (vppres (vpvrel see_rel)))) (ssimp (npnpr mary) (vpfc (vppres (vpvi run))))) but (scomp (npnpr peter) (vpfc (vpmod not (vppres (vpvrel see_rel))))))"
      ]
     },
     "metadata": {},
     "output_type": "display_data"
    }
   ],
   "source": [
    "parse \"John sees that Mary runs but Peter does not see it\""
   ]
  },
  {
   "cell_type": "code",
   "execution_count": 75,
   "metadata": {},
   "outputs": [
    {
     "data": {
      "text/plain": [
       "s (crelc (crelc (sconjrel2 (sncomp (vpfc (vppres (vpviprel benecessary)))) and (ssimp (npnpr john) (vpfc (vppres (vpvrel see_rel))))) (ssimp (npnpr peter) (vpfc (vppres (vpvrel see_rel))))) (ssimp (npnpr mary) (vpfc (vppres (vpvi run)))))"
      ]
     },
     "metadata": {},
     "output_type": "display_data"
    },
    {
     "data": {
      "text/plain": [
       "s (crelc (sconjrel2 (sncomp (vpfc (vppres (vpviprel benecessary)))) and (crelc (ssimp (npnpr john) (vpfc (vppres (vpvrel see_rel)))) (ssimp (npnpr peter) (vpfc (vppres (vpvrel see_rel)))))) (ssimp (npnpr mary) (vpfc (vppres (vpvi run)))))"
      ]
     },
     "metadata": {},
     "output_type": "display_data"
    }
   ],
   "source": [
    "parse \"it is necessary and John sees that Peter sees that Mary runs\""
   ]
  },
  {
   "cell_type": "code",
   "execution_count": 76,
   "metadata": {},
   "outputs": [
    {
     "data": {
      "text/plain": [
       "s (crelc (sconjrel2 (sncomp (vpfc (vppres (vpviprel bepossible)))) but (sconjrel2 (sncomp (vpfc (vpmod not (vppres (vpviprel benecessary))))) but (snsimp (vpfc (vppres (vpvmod haveto (vpbm (vpviprel bepossible)))))))) (ssimp (npnpr mary) (vpfc (vppres (vpvt understand (npnpr john))))))"
      ]
     },
     "metadata": {},
     "output_type": "display_data"
    },
    {
     "data": {
      "text/plain": [
       "s (crelc (sconjrel2 (sconjrel2 (sncomp (vpfc (vppres (vpviprel bepossible)))) but (sncomp (vpfc (vpmod not (vppres (vpviprel benecessary)))))) but (snsimp (vpfc (vppres (vpvmod haveto (vpbm (vpviprel bepossible))))))) (ssimp (npnpr mary) (vpfc (vppres (vpvt understand (npnpr john))))))"
      ]
     },
     "metadata": {},
     "output_type": "display_data"
    }
   ],
   "source": [
    "parse \"it is possible but it is not necessary but it has to be possible that Mary understands John\""
   ]
  },
  {
   "cell_type": "markdown",
   "metadata": {},
   "source": [
    "### Parsing test cases (new)"
   ]
  },
  {
   "cell_type": "code",
   "execution_count": 77,
   "metadata": {},
   "outputs": [
    {
     "data": {
      "text/plain": [
       "s (cpast (sconj (crelc (sncomp (vpfc (vppastg (vppres (vpviprel bepossible))))) (ssimp (npnpr john) (vpfc (vppastg (vppres (vpvi run)))))) and (sncomp (vpfc (vppastg (vppres (vpviprel benecessary)))))))"
      ]
     },
     "metadata": {},
     "output_type": "display_data"
    },
    {
     "data": {
      "text/plain": [
       "s (crelc (cpast (sconjrel1 (sncomp (vpfc (vppastg (vppres (vpviprel bepossible))))) and (sncomp (vpfc (vppastg (vppres (vpviprel benecessary))))))) (ssimp (npnpr john) (vpfc (vppastg (vppres (vpvi run))))))"
      ]
     },
     "metadata": {},
     "output_type": "display_data"
    },
    {
     "data": {
      "text/plain": [
       "s (crelc (sconjrel1 (sncomp (vpfc (vppast (vppres (vpviprel bepossible))))) and (sncomp (vpfc (vppast (vppres (vpviprel benecessary)))))) (ssimp (npnpr john) (vpfc (vppastg (vppres (vpvi run))))))"
      ]
     },
     "metadata": {},
     "output_type": "display_data"
    },
    {
     "data": {
      "text/plain": [
       "s (crelc (sncomp (vpfc (vppast (vppres (vpviprel bepossible))))) (sconj (ssimp (npnpr john) (vpfc (vppastg (vppres (vpvi run))))) and (sncomp (vpfc (vppastg (vppres (vpviprel benecessary)))))))"
      ]
     },
     "metadata": {},
     "output_type": "display_data"
    }
   ],
   "source": [
    "parse \"it was possible that John ran and it was necessary\""
   ]
  },
  {
   "cell_type": "code",
   "execution_count": 78,
   "metadata": {},
   "outputs": [
    {
     "data": {
      "text/plain": [
       "s (crelc (sconjrel1 (sncomp (vpfc (vppast (vppres (vpviprel bepossible))))) and (sncomp (vpfc (vppres (vpviprel benecessary))))) (ssimp (npnpr john) (vpfc (vppastg (vppres (vpvi run))))))"
      ]
     },
     "metadata": {},
     "output_type": "display_data"
    },
    {
     "data": {
      "text/plain": [
       "s (sconj (crelc (sncomp (vpfc (vppast (vppres (vpviprel bepossible))))) (ssimp (npnpr john) (vpfc (vppastg (vppres (vpvi run)))))) and (sncomp (vpfc (vppres (vpviprel benecessary)))))"
      ]
     },
     "metadata": {},
     "output_type": "display_data"
    }
   ],
   "source": [
    "parse \"it was possible that John ran and it is necessary\""
   ]
  },
  {
   "cell_type": "markdown",
   "metadata": {},
   "source": [
    "## Semantics construction"
   ]
  },
  {
   "cell_type": "code",
   "execution_count": 79,
   "metadata": {},
   "outputs": [
    {
     "data": {
      "text/plain": [
       "Created theory plnq"
      ]
     },
     "metadata": {},
     "output_type": "display_data"
    }
   ],
   "source": [
    "theory plnq : ur:?LF =\n",
    "    proposition : type ❘ # o ❙\n",
    "    individual : type ❘ # ι ❙\n",
    "    \n",
    "    not : o ⟶ o         ❘ # ¬ 1 prec 100 ❙\n",
    "    and : o ⟶ o ⟶ o     ❘ # 1 ∧ 2 prec 90 ❙\n",
    "    \n",
    "    or : o ⟶ o ⟶ o      ❘ # 1 ∨ 2 prec 80\n",
    "                        ❘ = [a,b] ¬ (¬ a ∧ ¬ b) ❙\n",
    "❚\n",
    "\n",
    "theory modalplnq : ur:?LF =\n",
    "    include ?plnq ❙\n",
    "    box      : o ⟶ o ❘ # □ 1 prec 100 ❙\n",
    "    diamond  : o ⟶ o ❘ # ◇ 1 prec 100 ❙\n",
    "    probably : o ⟶ o ❘ # Prob 1 prec 100 ❙\n",
    "❚\n",
    "\n",
    "theory tenseplnq : ur:?LF =\n",
    "    include ?modalplnq ❙\n",
    "    \n",
    "    // type of a modal modifier ❙\n",
    "    m : type ❘ = o ⟶ o ❙\n",
    "    \n",
    "    // FΦ: it will at some stage in the future be the case that Φ ❙\n",
    "    futF : m ❘ # F 1 prec 100 ❙\n",
    "    // PΦ: it was at some stage in the past the case that Φ ❙\n",
    "    pastP : m ❘ # P 1 prec 100 ❙\n",
    "    \n",
    "    // GΦ: it is always going to be the case that Φ ❙\n",
    "    futG : m ❘ # G 1 prec 100 ❙\n",
    "    // HΦ: it always has been the case that Φ ❙\n",
    "    pastH : m ❘ # H 1 prec 100 ❙\n",
    "    \n",
    "    // type of a tense modifier (a church encoded tripple) ❙\n",
    "    tmod : type ❘ = (m ⟶ m ⟶ m ⟶ m) ⟶ m ❙\n",
    "    // constructor for tense modfifier ❙\n",
    "    tmodcons : m ⟶ m ⟶ m ⟶ tmod ❘ = [pres,past,fut,f] f pres past fut ❙\n",
    "    // getter for present modifier ❙\n",
    "    tmodpres : tmod ⟶ m ❘ = [mod] mod ([pres,past,fut] pres) ❙\n",
    "    // getter for past modifier ❙\n",
    "    tmodpast : tmod ⟶ m ❘ = [mod] mod ([pres,past,fut] past) ❙\n",
    "    // getter for future modifier ❙\n",
    "    tmodfut  : tmod ⟶ m ❘ = [mod] mod ([pres,past,fut] fut) ❙\n",
    "    \n",
    "    // define the tense modifiers always and never ❙\n",
    "    always : tmod ❘ = tmodcons ([p] H p ∧ G p) pastH futG ❙\n",
    "    never  : tmod ❘ = tmodcons ([p] H ¬p ∧ G ¬p) ([p] H ¬p) ([p] G ¬p) ❙\n",
    "❚\n",
    "\n",
    "theory plnqTest : ?tenseplnq =\n",
    "    // individuals ❙\n",
    "    prudence : ι ❙ ethel : ι ❙ chester : ι ❙ jo : ι ❙ bertie : ι ❙ fiona : ι ❙ berta : ι ❙ john : ι ❙ mary : ι ❙ peter : ι ❙\n",
    "    book : ι ❙ cake : ι ❙ cat : ι ❙ golfer : ι ❙ dog : ι ❙ lecturer : ι ❙ student : ι ❙ singer : ι ❙\n",
    "    // null individual ❙\n",
    "    nulli : ι ❙\n",
    "    // null proposition ❙\n",
    "    nullo : o ❙\n",
    "    // verbs ❙\n",
    "    run : ι ⟶ o ❙ jump : ι ⟶ o ❙ laugh : ι ⟶ o ❙ sing : ι ⟶ o ❙ howl : ι ⟶ o ❙ scream : ι ⟶ o ❙\n",
    "    read : ι ⟶ ι ⟶ o ❙ poison : ι ⟶ ι ⟶ o ❙ eat : ι ⟶ ι ⟶ o ❙ like : ι ⟶ ι ⟶ o ❙ love : ι ⟶ ι ⟶ o ❙ loath : ι ⟶ ι ⟶ o ❙\n",
    "    kick : ι ⟶ ι ⟶ o ❙ see : ι ⟶ ι ⟶ o ❙ understand : ι ⟶ ι ⟶ o ❙ kill : ι ⟶ ι ⟶ o ❙\n",
    "    see_rel : ι ⟶ o ⟶ o ❘ # 👁 1 👁 2 prec 100 ❙\n",
    "    it_rains : o ❙\n",
    "❚"
   ]
  },
  {
   "cell_type": "code",
   "execution_count": 80,
   "metadata": {},
   "outputs": [
    {
     "data": {
      "text/plain": [
       "Created view semantics"
      ]
     },
     "metadata": {},
     "output_type": "display_data"
    }
   ],
   "source": [
    "view semantics : http://mathhub.info/comma/jupyter/TensesGrammar.gf?TensesGrammar -> ?plnqTest =\n",
    "    S = o ❙                 // Sentence ❙\n",
    "    C = o ⟶ o ❙             // Clause: sentence with tenses ❙\n",
    "    Vi = ι ⟶ o ❙            // Intransitive verb ❙\n",
    "    Vt = ι ⟶ ι ⟶ o ❙        // Transitive verb ❙\n",
    "    Vip = o ❙               // Impersonal verbs ❙\n",
    "    Vrel = ι ⟶ o ⟶ o ❙      // Verb relative to another sentence ❙\n",
    "    Viprel = o ⟶ o ❙        // Impersonal verb relative to another sentence ❙\n",
    "    Vmod = o ⟶ o ❙          // Modal verb ❙\n",
    "    VPbase = ι ⟶ o ⟶ o ❙    // Verb phrase in base form ❙\n",
    "    VPbasem = ι ⟶ o ⟶ o ❙   // Modified verb phrase in base form ❙\n",
    "    VP = ι ⟶ o ⟶ o ❙        // Verb phrase ❙\n",
    "    VPfc = ι ⟶ o ⟶ o ❙      // Verb phrase with fix complex form ❙\n",
    "    Npr = ι ❙               // Proper noun ❙\n",
    "    N = ι ❙                 // Common noun, as a simplification modeled incorrectly\n",
    "                            // as an individual ❙\n",
    "    NP = ι ❙                // Noun phrase ❙\n",
    "    Conj = o ⟶ o ⟶ o ❙      // Conjunction ❙\n",
    "    Mod = o ⟶ o ❙           // Modal modifier ❙\n",
    "    TAdv = tmod ❙           // Temporal adverb ❙\n",
    "    \n",
    "    // Sentence with present form of clause\n",
    "    // s : C -> S ❙\n",
    "    s = [p] p nullo ❙\n",
    "    \n",
    "    // Simple verb form clause: \"John runs\"\n",
    "    // ssimp : NP -> VP -> C ❙\n",
    "    ssimp = [npr, v] v npr ❙\n",
    "    // Complex verb form clause: \"John does not run\"\n",
    "    // scomp : NP -> VP -> C ❙\n",
    "    scomp = [npr, v] v npr ❙\n",
    "    // Simple verb form of a clause without a concrete actor:\n",
    "    // \"it rains\"\n",
    "    // snsimp : VPfc -> C ❙\n",
    "    snsimp = [v] v nulli ❙\n",
    "    // Complex verb form of a clause without a concrete actor:\n",
    "    // \"it is not necessary that John runs\"\n",
    "    // sncomp : VPfc -> C ❙\n",
    "    sncomp = [v] v nulli ❙\n",
    "    // Connected clause:\n",
    "    // \"John runs and Mary doesn't run\"\n",
    "    // sconj : C -> Conj -> C -> C ❙\n",
    "    sconj = [c1, conj, c2] [p] conj (c1 p) (c2 (c1 p)) ❙\n",
    "    // Connect two relative clauses with a conjunction:\n",
    "    // \"it is possible (that ...) and it is necessary\"\n",
    "    // Both clauses are relative\n",
    "    // sconjrel1 : C -> Conj -> C -> C ❙\n",
    "    sconjrel1 = [c1, conj, c2] [p] conj (c1 p) (c2 p) ❙\n",
    "    // Connect two relative clauses with a conjunction:\n",
    "    // \"it is possible and it is necessary (that ...)\"\n",
    "    // Both clauses are relative\n",
    "    // sconjrel2 : C -> Conj -> C -> C ❙\n",
    "    sconjrel2 = [c1, conj, c2] [p] conj (c1 p) (c2 p) ❙\n",
    "    // Combine a relative clause with another clause\n",
    "    // crelc : C -> C -> C ❙\n",
    "    crelc = [c1, c2] [p] c1 (c2 p) ❙\n",
    "    // Compensate a grammar-only past operator using a semantic-only past operator\n",
    "    // cpast : C -> C ❙\n",
    "    cpast = [c] [p] P (c p) ❙\n",
    "    \n",
    "    // Build a verb phrase from an intransitive verb: \"run\"\n",
    "    // vpvi : Vi -> VPbase ❙\n",
    "    vpvi = [v] [actor,p] v actor ❙\n",
    "    // Build a verb phrase from a transitive verb and a noun phrase\n",
    "    // \"love\" + \"Mary\" -> \"love Mary\"\n",
    "    // vpvt : Vt -> NP -> VPbase ❙\n",
    "    vpvt = [vt, addressee] [actor,p] vt actor addressee ❙\n",
    "    // Build a verb phrase from an impersonal verb\n",
    "    // vpvip : Vip -> VPbase ❙\n",
    "    vpvip = [s] [actor,p] s ❙\n",
    "    // Build a verb phrase from a relative verb and a clause\n",
    "    // vpvrel : Vrel -> VPbase ❙\n",
    "    vpvrel = [vrel] [actor,p] vrel actor p ❙\n",
    "    // Build a verb phrase from an impersonal relative verb and a clause\n",
    "    // vpviprel : Viprel -> VPbase ❙\n",
    "    vpviprel = [vrel] [actor,p] vrel p ❙\n",
    "    \n",
    "    // Start modification of verb phrase in base form\n",
    "    // vpbm : VPbase -> VPbasem ❙\n",
    "    vpbm = [vp] vp ❙\n",
    "    // Apply a modal modifier to an existing verb phrase in base form\n",
    "    // vpbmod : Mod -> VPbasem -> VPbasem ❙\n",
    "    vpbmod = [mod, vp] [i,p] mod (vp i p) ❙\n",
    "    // Apply a temporal adverb to a verb phrase in base form\n",
    "    // vpbpresmod : TAdv + VPbasem -> VPbasem ❙\n",
    "    // workaround (because docker version of GLIF does not currently support definition expansion) for\n",
    "    // vpbpresmod = [mod, vp] [i,p] tmodpres mod (vp i p) ❙\n",
    "    vpbpresmod = [mod, vp] [i,p] mod ([pres,past,fut] pres) (vp i p) ❙\n",
    "    // Apply a modal verb to an existing verb phrase\n",
    "    // \"have to\" + \"run\" -> \"have to run\"\n",
    "    // vpvmod : Vmod -> VPbasem -> VPbase ❙\n",
    "    vpvmod = [vmod, vp] [i,p] vmod (vp i p) ❙\n",
    "    // Apply a past operator to a verb phrase in base form\n",
    "    // (\"have\" + past participle form)\n",
    "    // vpbpast : VPbasem -> VPbase ❙\n",
    "    vpbpast = [v] [i,p] P (v i p) ❙\n",
    "    // Apply a past operator to a verb phrase in base form (only grammar side)\n",
    "    // (\"have\" + past participle form)\n",
    "    // vpbpastg : VPbasem -> VPbase ❙\n",
    "    vpbpastg = [v] v ❙\n",
    "    // Apply a past operator to a verb phrase in base form and a temporal adverb\n",
    "    // e.g. \"always\" + \"run\" -> \"have always run\"\n",
    "    // vpbpastmod : TAdv -> VPbasem -> VPbase ❙\n",
    "    // workaround (because docker version of GLIF does not currently support definition expansion) for\n",
    "    // vpbpastmod = [mod, vp] [i,p] tmodpast mod (vp i p) ❙\n",
    "    vpbpastmod = [mod, vp] [i,p] mod ([pres,past,fut] past) (vp i p) ❙\n",
    "        \n",
    "    // Conjugate a verb phrase that is in base form\n",
    "    // vppres : VPbase -> VP ❙\n",
    "    vppres = [v] v ❙\n",
    "    // Apply the past tense operator\n",
    "    // vppast : VP -> VP ❙\n",
    "    vppast = [v] [i,p] P (v i p) ❙\n",
    "    // Apply the past tense operator (only grammar side)\n",
    "    // vppastg : VP -> VP ❙\n",
    "    vppastg = [v] v ❙\n",
    "    // apply the future tense operator\n",
    "    // vpfut : VP -> VP ❙\n",
    "    vpfut = [v] [i,p] F (v i p) ❙\n",
    "    // Apply a modal modifier to an existing verb phrase\n",
    "    // vpmod : Mod -> VP -> VP ❙\n",
    "    vpmod = [mod, vp] [i,p] mod (vp i p) ❙\n",
    "        \n",
    "    // Conjugate a verb phrase that is in base form using a temporal adverb\n",
    "    // (only applicable if verb phrase's tense is untouched)\n",
    "    // vppresmod : TAdv -> VPbase -> VP ❙\n",
    "    // workaround (because docker version of GLIF does not currently support definition expansion) for\n",
    "    // vppresmod = [mod, vp] [i,p] tmodpres mod (vp i p) ❙\n",
    "    vppresmod = [mod, vp] [i,p] mod ([pres,past,fut] pres) (vp i p) ❙\n",
    "    // Apply the past tense operator and a temporal adverb\n",
    "    // vppastmod : TAdv -> VP -> VP ❙\n",
    "    // workaround (because docker version of GLIF does not currently support definition expansion) for\n",
    "    // vppastmod = [mod, vp] [i,p] tmodpast mod (vp i p) ❙\n",
    "    vppastmod = [mod, vp] [i,p] mod ([pres,past,fut] past) (vp i p) ❙\n",
    "    // apply the future tense operator and a temporal adverb\n",
    "    // vpfutmod : TAdv -> VP -> VP ❙\n",
    "    // workaround (because docker version of GLIF does not currently support definition expansion) for\n",
    "    // vpfutmod = [mod, vp] [i,p] tmodfut mod (vp i p) ❙\n",
    "    vpfutmod = [mod, vp] [i,p] mod ([pres,past,fut] fut) (vp i p) ❙\n",
    "    \n",
    "    // Fix the complex form of a verb phrase\n",
    "    // vpfc : VP -> VPfc ❙\n",
    "    vpfc = [v] v ❙\n",
    "    // Apply a modal modifier to a verb phrase with fix complex form\n",
    "    // vpfcmod : Mod -> VPfc -> VPfc ❙\n",
    "    vpfcmod = [mod, vp] [i,p] mod (vp i p) ❙\n",
    "    // Apply the present form of a temporal adverb\n",
    "    // vpfcpresmod : TAdv -> VPfc -> VPfc ❙\n",
    "    // workaround (because docker version of GLIF does not currently support definition expansion) for\n",
    "    // vpfcpresmod = [mod, vp] [i,p] tmodpres mod (vp i p) ❙\n",
    "    vpfcpresmod = [mod, vp] [i,p] mod ([pres,past,fut] pres) (vp i p) ❙\n",
    "    // Apply the past tense operator and a temporal adverb\n",
    "    // vpfcpastmod : TAdv -> VPfc -> VPfc ❙\n",
    "    // workaround (because docker version of GLIF does not currently support definition expansion) for\n",
    "    // vpfcpastmod = [mod, vp] [i,p] tmodpast mod (vp i p) ❙\n",
    "    vpfcpastmod = [mod, vp] [i,p] mod ([pres,past,fut] past) (vp i p) ❙\n",
    "    // Apply the future tense operator and a temporal adverb\n",
    "    // vpfcfutmod : TAdv -> VPfc -> VPfc ❙\n",
    "    // workaround (because docker version of GLIF does not currently support definition expansion) for\n",
    "    // vpfcfutmod = [mod, vp] [i,p] tmodfut mod (vp i p) ❙\n",
    "    vpfcfutmod = [mod, vp] [i,p] mod ([pres,past,fut] fut) (vp i p) ❙\n",
    "        \n",
    "    // Build a noun phrase from a proper noun: \"John\"\n",
    "    // npnpr : Npr -> NP ❙\n",
    "    npnpr = [npr] npr ❙\n",
    "    // Build a noun phrase from a common noun\n",
    "    // \"dog\" -> \"the dog\"\n",
    "    // npn : N -> NP ❙\n",
    "    npn = [n] n ❙\n",
    "    \n",
    "    // Verbs ❙\n",
    "    run = run ❙ jump = jump ❙ laugh = laugh ❙ sing = sing ❙ howl = howl ❙ scream = scream ❙\n",
    "    read = read ❙ poison = poison ❙ eat = eat ❙ like = like ❙ love = love ❙ loath = loath ❙ kick = kick ❙ see = see ❙ understand = understand ❙ kill = kill ❙\n",
    "    haveto = box ❙ beallowedto = diamond ❙\n",
    "    bepossible = diamond ❙ benecessary = box ❙ bethecase = [p] p ❙\n",
    "    see_rel = see_rel ❙\n",
    "    rain = it_rains ❙\n",
    "    // Nouns ❙\n",
    "    prudence = prudence ❙ ethel = ethel ❙ chester = chester ❙ jo = jo ❙ bertie = bertie ❙ fiona = fiona ❙ berta = berta ❙ john = john ❙ mary = mary ❙ peter = peter ❙\n",
    "    book = book ❙ cake = cake ❙ katze = cat ❙ golfer = golfer ❙ dog = dog ❙ lecturer = lecturer ❙ student = student ❙ singer = singer ❙\n",
    "    // Conjunctions ❙\n",
    "    and = and ❙ or = or ❙ but = and ❙\n",
    "    // Modal modifiers ❙\n",
    "    not = not ❙ possibly = diamond ❙ necessarily = box ❙ probably = probably ❙\n",
    "    // Temporal adverbs ❙\n",
    "    // workaround (because docker version of GLIF does not currently support definition expansion)\n",
    "    // for always = always ❙\n",
    "    always = [ff : m⟶m⟶m⟶m] ([a:m,b:m,c:m,f:m⟶m⟶m⟶m] f a b c) ([p] H p ∧ G p) pastH futG ff ❙\n",
    "    // workaround (because docker version of GLIF does not currently support definition expansion) for\n",
    "    // never = never ❙\n",
    "    never = [ff : m⟶m⟶m⟶m] ([a:m,b:m,c:m,f:m⟶m⟶m⟶m] f a b c) ([p] H ¬p ∧ G ¬p) ([p] H ¬p) ([p] G ¬p) ff ❙\n",
    "❚"
   ]
  },
  {
   "cell_type": "markdown",
   "metadata": {},
   "source": [
    "### Semantics construction test cases (old)"
   ]
  },
  {
   "cell_type": "code",
   "execution_count": 81,
   "metadata": {},
   "outputs": [
    {
     "data": {
      "text/plain": [
       "run john"
      ]
     },
     "metadata": {},
     "output_type": "display_data"
    }
   ],
   "source": [
    "parse \"John runs\" | construct"
   ]
  },
  {
   "cell_type": "code",
   "execution_count": 82,
   "metadata": {},
   "outputs": [
    {
     "data": {
      "text/plain": [
       "¬(run john)"
      ]
     },
     "metadata": {},
     "output_type": "display_data"
    }
   ],
   "source": [
    "parse \"John does not run\" | construct"
   ]
  },
  {
   "cell_type": "code",
   "execution_count": 83,
   "metadata": {},
   "outputs": [
    {
     "data": {
      "text/plain": [
       "(run john)∧¬(run mary)"
      ]
     },
     "metadata": {},
     "output_type": "display_data"
    }
   ],
   "source": [
    "parse \"John runs and Mary does not run\" | construct"
   ]
  },
  {
   "cell_type": "code",
   "execution_count": 84,
   "metadata": {},
   "outputs": [
    {
     "data": {
      "text/plain": [
       "¬(jump john)∨(run mary)"
      ]
     },
     "metadata": {},
     "output_type": "display_data"
    }
   ],
   "source": [
    "parse \"John does not jump or Mary runs\" | construct"
   ]
  },
  {
   "cell_type": "code",
   "execution_count": 85,
   "metadata": {},
   "outputs": [
    {
     "data": {
      "text/plain": [
       "run dog"
      ]
     },
     "metadata": {},
     "output_type": "display_data"
    }
   ],
   "source": [
    "parse \"the dog runs\" | construct"
   ]
  },
  {
   "cell_type": "code",
   "execution_count": 86,
   "metadata": {},
   "outputs": [
    {
     "data": {
      "text/plain": [
       "love john mary"
      ]
     },
     "metadata": {},
     "output_type": "display_data"
    }
   ],
   "source": [
    "parse \"John loves Mary\" | construct"
   ]
  },
  {
   "cell_type": "code",
   "execution_count": 87,
   "metadata": {},
   "outputs": [
    {
     "data": {
      "text/plain": [
       "(love john mary)∧¬(love mary john)"
      ]
     },
     "metadata": {},
     "output_type": "display_data"
    }
   ],
   "source": [
    "parse \"John loves Mary and Mary does not love John\" | construct"
   ]
  },
  {
   "cell_type": "code",
   "execution_count": 88,
   "metadata": {},
   "outputs": [
    {
     "data": {
      "text/plain": [
       "□(run john)"
      ]
     },
     "metadata": {},
     "output_type": "display_data"
    }
   ],
   "source": [
    "parse \"it is necessary that John runs\" | construct"
   ]
  },
  {
   "cell_type": "code",
   "execution_count": 89,
   "metadata": {},
   "outputs": [
    {
     "data": {
      "text/plain": [
       "¬◇(kill dog john)"
      ]
     },
     "metadata": {},
     "output_type": "display_data"
    }
   ],
   "source": [
    "parse \"it is not possible that the dog kills John\" | construct"
   ]
  },
  {
   "cell_type": "code",
   "execution_count": 90,
   "metadata": {},
   "outputs": [
    {
     "data": {
      "text/plain": [
       "¬(love john mary)"
      ]
     },
     "metadata": {},
     "output_type": "display_data"
    }
   ],
   "source": [
    "parse \"it is not the case that John loves Mary\" | construct"
   ]
  },
  {
   "cell_type": "code",
   "execution_count": 91,
   "metadata": {},
   "outputs": [
    {
     "data": {
      "text/plain": [
       "□(run john)"
      ]
     },
     "metadata": {},
     "output_type": "display_data"
    }
   ],
   "source": [
    "parse \"John has to run\" | construct"
   ]
  },
  {
   "cell_type": "code",
   "execution_count": 92,
   "metadata": {},
   "outputs": [
    {
     "data": {
      "text/plain": [
       "¬◇(kill dog john)"
      ]
     },
     "metadata": {},
     "output_type": "display_data"
    }
   ],
   "source": [
    "parse \"the dog is not allowed to kill John\" | construct"
   ]
  },
  {
   "cell_type": "code",
   "execution_count": 93,
   "metadata": {},
   "outputs": [
    {
     "data": {
      "text/plain": [
       "□◇(run john)"
      ]
     },
     "metadata": {},
     "output_type": "display_data"
    }
   ],
   "source": [
    "parse \"John has to be allowed to run\" | construct"
   ]
  },
  {
   "cell_type": "code",
   "execution_count": 94,
   "metadata": {},
   "outputs": [
    {
     "data": {
      "text/plain": [
       "F (run john)"
      ]
     },
     "metadata": {},
     "output_type": "display_data"
    }
   ],
   "source": [
    "parse \"John will run\" | construct"
   ]
  },
  {
   "cell_type": "code",
   "execution_count": 95,
   "metadata": {},
   "outputs": [
    {
     "data": {
      "text/plain": [
       "P (run john)"
      ]
     },
     "metadata": {},
     "output_type": "display_data"
    }
   ],
   "source": [
    "parse \"John ran\" | construct"
   ]
  },
  {
   "cell_type": "code",
   "execution_count": 96,
   "metadata": {},
   "outputs": [
    {
     "data": {
      "text/plain": [
       "P P (run john)"
      ]
     },
     "metadata": {},
     "output_type": "display_data"
    }
   ],
   "source": [
    "parse \"John had run\" | construct"
   ]
  },
  {
   "cell_type": "code",
   "execution_count": 97,
   "metadata": {},
   "outputs": [
    {
     "data": {
      "text/plain": [
       "F P (run john)"
      ]
     },
     "metadata": {},
     "output_type": "display_data"
    }
   ],
   "source": [
    "parse \"John will have run\" | construct"
   ]
  },
  {
   "cell_type": "code",
   "execution_count": 98,
   "metadata": {},
   "outputs": [
    {
     "data": {
      "text/plain": [
       "P F (run john)"
      ]
     },
     "metadata": {},
     "output_type": "display_data"
    }
   ],
   "source": [
    "parse \"John would run\" | construct"
   ]
  },
  {
   "cell_type": "code",
   "execution_count": 99,
   "metadata": {},
   "outputs": [
    {
     "data": {
      "text/plain": [
       "P F P (run john)"
      ]
     },
     "metadata": {},
     "output_type": "display_data"
    }
   ],
   "source": [
    "parse \"John would have run\" | construct"
   ]
  },
  {
   "cell_type": "code",
   "execution_count": 100,
   "metadata": {},
   "outputs": [
    {
     "data": {
      "text/plain": [
       "P □(run john)"
      ]
     },
     "metadata": {},
     "output_type": "display_data"
    }
   ],
   "source": [
    "parse \"John had to run\" | construct"
   ]
  },
  {
   "cell_type": "code",
   "execution_count": 101,
   "metadata": {},
   "outputs": [
    {
     "data": {
      "text/plain": [
       "P P □(run john)"
      ]
     },
     "metadata": {},
     "output_type": "display_data"
    }
   ],
   "source": [
    "parse \"John had had to run\" | construct"
   ]
  },
  {
   "cell_type": "code",
   "execution_count": 102,
   "metadata": {},
   "outputs": [
    {
     "data": {
      "text/plain": [
       "F □(run john)"
      ]
     },
     "metadata": {},
     "output_type": "display_data"
    }
   ],
   "source": [
    "parse \"John will have to run\" | construct"
   ]
  },
  {
   "cell_type": "code",
   "execution_count": 103,
   "metadata": {},
   "outputs": [
    {
     "data": {
      "text/plain": [
       "F P □(run john)"
      ]
     },
     "metadata": {},
     "output_type": "display_data"
    }
   ],
   "source": [
    "parse \"John will have had to run\" | construct"
   ]
  },
  {
   "cell_type": "code",
   "execution_count": 104,
   "metadata": {},
   "outputs": [
    {
     "data": {
      "text/plain": [
       "F ◇(run john)"
      ]
     },
     "metadata": {},
     "output_type": "display_data"
    }
   ],
   "source": [
    "parse \"John will be allowed to run\" | construct"
   ]
  },
  {
   "cell_type": "code",
   "execution_count": 105,
   "metadata": {},
   "outputs": [
    {
     "data": {
      "text/plain": [
       "P ◇(run john)"
      ]
     },
     "metadata": {},
     "output_type": "display_data"
    }
   ],
   "source": [
    "parse \"John was allowed to run\" | construct"
   ]
  },
  {
   "cell_type": "code",
   "execution_count": 106,
   "metadata": {},
   "outputs": [
    {
     "data": {
      "text/plain": [
       "run john"
      ]
     },
     "metadata": {},
     "output_type": "display_data"
    }
   ],
   "source": [
    "parse \"John does run\" | construct"
   ]
  },
  {
   "cell_type": "code",
   "execution_count": 107,
   "metadata": {},
   "outputs": [
    {
     "data": {
      "text/plain": [
       "P (run john)"
      ]
     },
     "metadata": {},
     "output_type": "display_data"
    }
   ],
   "source": [
    "parse \"John did run\" | construct"
   ]
  },
  {
   "cell_type": "code",
   "execution_count": 108,
   "metadata": {},
   "outputs": [
    {
     "data": {
      "text/plain": [
       "□(run john)"
      ]
     },
     "metadata": {},
     "output_type": "display_data"
    }
   ],
   "source": [
    "parse \"John does have to run\" | construct"
   ]
  },
  {
   "cell_type": "code",
   "execution_count": 109,
   "metadata": {},
   "outputs": [
    {
     "data": {
      "text/plain": [
       "F ¬(run john)"
      ]
     },
     "metadata": {},
     "output_type": "display_data"
    },
    {
     "data": {
      "text/plain": [
       "¬F (run john)"
      ]
     },
     "metadata": {},
     "output_type": "display_data"
    }
   ],
   "source": [
    "parse \"John will not run\" | construct"
   ]
  },
  {
   "cell_type": "code",
   "execution_count": 110,
   "metadata": {},
   "outputs": [
    {
     "data": {
      "text/plain": [
       "¬P F (run john)"
      ]
     },
     "metadata": {},
     "output_type": "display_data"
    },
    {
     "data": {
      "text/plain": [
       "P F ¬(run john)"
      ]
     },
     "metadata": {},
     "output_type": "display_data"
    },
    {
     "data": {
      "text/plain": [
       "P ¬F (run john)"
      ]
     },
     "metadata": {},
     "output_type": "display_data"
    }
   ],
   "source": [
    "parse \"John would not run\" | construct"
   ]
  },
  {
   "cell_type": "code",
   "execution_count": 111,
   "metadata": {},
   "outputs": [
    {
     "data": {
      "text/plain": [
       "¬P □(run john)"
      ]
     },
     "metadata": {},
     "output_type": "display_data"
    },
    {
     "data": {
      "text/plain": [
       "P ¬□(run john)"
      ]
     },
     "metadata": {},
     "output_type": "display_data"
    }
   ],
   "source": [
    "parse \"John did not have to run\" | construct"
   ]
  },
  {
   "cell_type": "code",
   "execution_count": 112,
   "metadata": {},
   "outputs": [
    {
     "data": {
      "text/plain": [
       "¬P F P (run john)"
      ]
     },
     "metadata": {},
     "output_type": "display_data"
    },
    {
     "data": {
      "text/plain": [
       "P F ¬P (run john)"
      ]
     },
     "metadata": {},
     "output_type": "display_data"
    },
    {
     "data": {
      "text/plain": [
       "P ¬F P (run john)"
      ]
     },
     "metadata": {},
     "output_type": "display_data"
    }
   ],
   "source": [
    "parse \"John would not have run\" | construct"
   ]
  },
  {
   "cell_type": "code",
   "execution_count": 113,
   "metadata": {},
   "outputs": [
    {
     "data": {
      "text/plain": [
       "¬P P (kill dog john)"
      ]
     },
     "metadata": {},
     "output_type": "display_data"
    },
    {
     "data": {
      "text/plain": [
       "P ¬P (kill dog john)"
      ]
     },
     "metadata": {},
     "output_type": "display_data"
    },
    {
     "data": {
      "text/plain": [
       "P P ¬(kill dog john)"
      ]
     },
     "metadata": {},
     "output_type": "display_data"
    }
   ],
   "source": [
    "parse \"the dog had not killed John\" | construct"
   ]
  },
  {
   "cell_type": "code",
   "execution_count": 114,
   "metadata": {},
   "outputs": [
    {
     "data": {
      "text/plain": [
       "P F P ¬(run john)"
      ]
     },
     "metadata": {},
     "output_type": "display_data"
    }
   ],
   "source": [
    "parse \"John would have not run\" | construct"
   ]
  },
  {
   "cell_type": "code",
   "execution_count": 115,
   "metadata": {},
   "outputs": [
    {
     "data": {
      "text/plain": [
       "¬P (kill dog john)"
      ]
     },
     "metadata": {},
     "output_type": "display_data"
    },
    {
     "data": {
      "text/plain": [
       "P ¬(kill dog john)"
      ]
     },
     "metadata": {},
     "output_type": "display_data"
    }
   ],
   "source": [
    "parse \"the dog has not killed John\" | construct"
   ]
  },
  {
   "cell_type": "code",
   "execution_count": 116,
   "metadata": {},
   "outputs": [
    {
     "data": {
      "text/plain": [
       "□¬(run john)"
      ]
     },
     "metadata": {},
     "output_type": "display_data"
    }
   ],
   "source": [
    "parse \"John has to not run\" | construct"
   ]
  },
  {
   "cell_type": "code",
   "execution_count": 117,
   "metadata": {},
   "outputs": [
    {
     "data": {
      "text/plain": [
       "H (run john)∧G (run john)"
      ]
     },
     "metadata": {},
     "output_type": "display_data"
    }
   ],
   "source": [
    "parse \"John does always run\" | construct"
   ]
  },
  {
   "cell_type": "code",
   "execution_count": 118,
   "metadata": {},
   "outputs": [
    {
     "data": {
      "text/plain": [
       "H (run john)"
      ]
     },
     "metadata": {},
     "output_type": "display_data"
    }
   ],
   "source": [
    "parse \"John did always run\" | construct"
   ]
  },
  {
   "cell_type": "code",
   "execution_count": 119,
   "metadata": {},
   "outputs": [
    {
     "data": {
      "text/plain": [
       "G (run john)"
      ]
     },
     "metadata": {},
     "output_type": "display_data"
    }
   ],
   "source": [
    "parse \"John will always run\" | construct"
   ]
  },
  {
   "cell_type": "code",
   "execution_count": 120,
   "metadata": {},
   "outputs": [
    {
     "data": {
      "text/plain": [
       "H ◇(run john)"
      ]
     },
     "metadata": {},
     "output_type": "display_data"
    }
   ],
   "source": [
    "parse \"John has always been allowed to run\" | construct"
   ]
  },
  {
   "cell_type": "code",
   "execution_count": 121,
   "metadata": {},
   "outputs": [
    {
     "data": {
      "text/plain": [
       "◇(H (run john)∧G (run john))"
      ]
     },
     "metadata": {},
     "output_type": "display_data"
    }
   ],
   "source": [
    "parse \"John is allowed to always run\" | construct"
   ]
  },
  {
   "cell_type": "code",
   "execution_count": 122,
   "metadata": {},
   "outputs": [
    {
     "data": {
      "text/plain": [
       "P ◇(H (run john)∧G (run john))"
      ]
     },
     "metadata": {},
     "output_type": "display_data"
    }
   ],
   "source": [
    "parse \"John has been allowed to always run\" | construct"
   ]
  },
  {
   "cell_type": "code",
   "execution_count": 123,
   "metadata": {},
   "outputs": [
    {
     "data": {
      "text/plain": [
       "◇H (run john)"
      ]
     },
     "metadata": {},
     "output_type": "display_data"
    }
   ],
   "source": [
    "parse \"John is allowed to have always run\" | construct"
   ]
  },
  {
   "cell_type": "code",
   "execution_count": 124,
   "metadata": {},
   "outputs": [
    {
     "data": {
      "text/plain": [
       "H (run john)"
      ]
     },
     "metadata": {},
     "output_type": "display_data"
    }
   ],
   "source": [
    "parse \"John has always run\" | construct"
   ]
  },
  {
   "cell_type": "code",
   "execution_count": 125,
   "metadata": {},
   "outputs": [
    {
     "data": {
      "text/plain": [
       "G ¬¬H (run john)"
      ]
     },
     "metadata": {},
     "output_type": "display_data"
    }
   ],
   "source": [
    "parse \"John will never not have always run\" | construct"
   ]
  },
  {
   "cell_type": "code",
   "execution_count": 126,
   "metadata": {},
   "outputs": [
    {
     "data": {
      "text/plain": [
       "G ¬¬P (run john)"
      ]
     },
     "metadata": {},
     "output_type": "display_data"
    }
   ],
   "source": [
    "parse \"John will never not have run\" | construct"
   ]
  },
  {
   "cell_type": "code",
   "execution_count": 127,
   "metadata": {},
   "outputs": [
    {
     "data": {
      "text/plain": [
       "P G ¬P (run john)"
      ]
     },
     "metadata": {},
     "output_type": "display_data"
    }
   ],
   "source": [
    "parse \"John would never have run\" | construct"
   ]
  },
  {
   "cell_type": "code",
   "execution_count": 128,
   "metadata": {},
   "outputs": [
    {
     "data": {
      "text/plain": [
       "¬H (run john)"
      ]
     },
     "metadata": {},
     "output_type": "display_data"
    }
   ],
   "source": [
    "parse \"John has not always run\" | construct"
   ]
  },
  {
   "cell_type": "code",
   "execution_count": 129,
   "metadata": {},
   "outputs": [
    {
     "data": {
      "text/plain": [
       "□P ◇(H (run john)∧G (run john))"
      ]
     },
     "metadata": {},
     "output_type": "display_data"
    }
   ],
   "source": [
    "parse \"John has to have been allowed to always run\" | construct"
   ]
  },
  {
   "cell_type": "code",
   "execution_count": 130,
   "metadata": {},
   "outputs": [
    {
     "data": {
      "text/plain": [
       "H (run john)∧G (run john)"
      ]
     },
     "metadata": {},
     "output_type": "display_data"
    }
   ],
   "source": [
    "parse \"John always runs\" | construct"
   ]
  },
  {
   "cell_type": "code",
   "execution_count": 131,
   "metadata": {},
   "outputs": [
    {
     "data": {
      "text/plain": [
       "H (run john)"
      ]
     },
     "metadata": {},
     "output_type": "display_data"
    }
   ],
   "source": [
    "parse \"John always ran\" | construct"
   ]
  },
  {
   "cell_type": "code",
   "execution_count": 132,
   "metadata": {},
   "outputs": [
    {
     "data": {
      "text/plain": [
       "G (run john)"
      ]
     },
     "metadata": {},
     "output_type": "display_data"
    }
   ],
   "source": [
    "parse \"John always will run\" | construct"
   ]
  },
  {
   "cell_type": "code",
   "execution_count": 133,
   "metadata": {},
   "outputs": [
    {
     "data": {
      "text/plain": [
       "Prob G ¬(run john)"
      ]
     },
     "metadata": {},
     "output_type": "display_data"
    }
   ],
   "source": [
    "parse \"John probably will never run\" | construct"
   ]
  },
  {
   "cell_type": "code",
   "execution_count": 134,
   "metadata": {},
   "outputs": [
    {
     "data": {
      "text/plain": [
       "◇P (kill john dog)"
      ]
     },
     "metadata": {},
     "output_type": "display_data"
    },
    {
     "data": {
      "text/plain": [
       "P ◇(kill john dog)"
      ]
     },
     "metadata": {},
     "output_type": "display_data"
    }
   ],
   "source": [
    "parse \"John has possibly killed the dog\" | construct"
   ]
  },
  {
   "cell_type": "code",
   "execution_count": 135,
   "metadata": {},
   "outputs": [
    {
     "data": {
      "text/plain": [
       "□(run john)"
      ]
     },
     "metadata": {},
     "output_type": "display_data"
    }
   ],
   "source": [
    "parse \"John necessarily runs\" | construct"
   ]
  },
  {
   "cell_type": "code",
   "execution_count": 136,
   "metadata": {},
   "outputs": [
    {
     "data": {
      "text/plain": [
       "it_rains"
      ]
     },
     "metadata": {},
     "output_type": "display_data"
    }
   ],
   "source": [
    "parse \"it rains\" | construct"
   ]
  },
  {
   "cell_type": "code",
   "execution_count": 137,
   "metadata": {},
   "outputs": [
    {
     "data": {
      "text/plain": [
       "Prob F ¬it_rains"
      ]
     },
     "metadata": {},
     "output_type": "display_data"
    },
    {
     "data": {
      "text/plain": [
       "Prob ¬F it_rains"
      ]
     },
     "metadata": {},
     "output_type": "display_data"
    }
   ],
   "source": [
    "parse \"it probably will not rain\" | construct"
   ]
  },
  {
   "cell_type": "code",
   "execution_count": 138,
   "metadata": {},
   "outputs": [
    {
     "data": {
      "text/plain": [
       "□◇(run john)"
      ]
     },
     "metadata": {},
     "output_type": "display_data"
    }
   ],
   "source": [
    "parse \"it has to be possible that John runs\" | construct"
   ]
  },
  {
   "cell_type": "code",
   "execution_count": 139,
   "metadata": {},
   "outputs": [
    {
     "data": {
      "text/plain": [
       "¬P (kill john dog)"
      ]
     },
     "metadata": {},
     "output_type": "display_data"
    },
    {
     "data": {
      "text/plain": [
       "P ¬(kill john dog)"
      ]
     },
     "metadata": {},
     "output_type": "display_data"
    }
   ],
   "source": [
    "parse \"it was not the case that John killed the dog\" | construct"
   ]
  },
  {
   "cell_type": "code",
   "execution_count": 140,
   "metadata": {},
   "outputs": [
    {
     "data": {
      "text/plain": [
       "P 👁mary👁(kill john dog)"
      ]
     },
     "metadata": {},
     "output_type": "display_data"
    }
   ],
   "source": [
    "parse \"Mary saw that John killed the dog\" | construct"
   ]
  },
  {
   "cell_type": "code",
   "execution_count": 141,
   "metadata": {},
   "outputs": [
    {
     "data": {
      "text/plain": [
       "P 👁mary👁P (kill john dog)"
      ]
     },
     "metadata": {},
     "output_type": "display_data"
    }
   ],
   "source": [
    "parse \"Mary saw that John had killed the dog\" | construct"
   ]
  },
  {
   "cell_type": "code",
   "execution_count": 142,
   "metadata": {},
   "outputs": [
    {
     "data": {
      "text/plain": [
       "F 👁mary👁(kill john dog)"
      ]
     },
     "metadata": {},
     "output_type": "display_data"
    }
   ],
   "source": [
    "parse \"Mary will see that John kills the dog\" | construct"
   ]
  },
  {
   "cell_type": "code",
   "execution_count": 143,
   "metadata": {},
   "outputs": [
    {
     "data": {
      "text/plain": [
       "F 👁mary👁F (kill john dog)"
      ]
     },
     "metadata": {},
     "output_type": "display_data"
    }
   ],
   "source": [
    "parse \"Mary will see that John will kill the dog\" | construct"
   ]
  },
  {
   "cell_type": "code",
   "execution_count": 144,
   "metadata": {},
   "outputs": [
    {
     "data": {
      "text/plain": [
       "F 👁mary👁P (kill john dog)"
      ]
     },
     "metadata": {},
     "output_type": "display_data"
    }
   ],
   "source": [
    "parse \"Mary will see that John killed the dog\" | construct"
   ]
  },
  {
   "cell_type": "code",
   "execution_count": 145,
   "metadata": {},
   "outputs": [
    {
     "data": {
      "text/plain": [
       "F 👁mary👁P P (kill john dog)"
      ]
     },
     "metadata": {},
     "output_type": "display_data"
    }
   ],
   "source": [
    "parse \"Mary will see that John had killed the dog\" | construct"
   ]
  },
  {
   "cell_type": "code",
   "execution_count": 146,
   "metadata": {},
   "outputs": [
    {
     "data": {
      "text/plain": [
       "P F 👁mary👁(kill john dog)"
      ]
     },
     "metadata": {},
     "output_type": "display_data"
    }
   ],
   "source": [
    "parse \"Mary would see that John kills the dog\" | construct"
   ]
  },
  {
   "cell_type": "code",
   "execution_count": 147,
   "metadata": {},
   "outputs": [
    {
     "data": {
      "text/plain": [
       "P F 👁mary👁P (kill john dog)"
      ]
     },
     "metadata": {},
     "output_type": "display_data"
    }
   ],
   "source": [
    "parse \"Mary would see that John killed the dog\" | construct"
   ]
  },
  {
   "cell_type": "code",
   "execution_count": 148,
   "metadata": {},
   "outputs": [
    {
     "data": {
      "text/plain": [
       "P F 👁mary👁P P (kill john dog)"
      ]
     },
     "metadata": {},
     "output_type": "display_data"
    }
   ],
   "source": [
    "parse \"Mary would see that John had killed the dog\" | construct"
   ]
  },
  {
   "cell_type": "code",
   "execution_count": 149,
   "metadata": {},
   "outputs": [
    {
     "data": {
      "text/plain": [
       "P F P 👁mary👁(kill john dog)"
      ]
     },
     "metadata": {},
     "output_type": "display_data"
    }
   ],
   "source": [
    "parse \"Mary would have seen that John killed the dog\" | construct"
   ]
  },
  {
   "cell_type": "code",
   "execution_count": 150,
   "metadata": {},
   "outputs": [
    {
     "data": {
      "text/plain": [
       "P 👁mary👁F (kill john dog)"
      ]
     },
     "metadata": {},
     "output_type": "display_data"
    }
   ],
   "source": [
    "parse \"Mary saw that John would kill the dog\" | construct"
   ]
  },
  {
   "cell_type": "code",
   "execution_count": 151,
   "metadata": {},
   "outputs": [
    {
     "data": {
      "text/plain": [
       "¬P ◇👁mary👁(kill john dog)"
      ]
     },
     "metadata": {},
     "output_type": "display_data"
    },
    {
     "data": {
      "text/plain": [
       "P ¬◇👁mary👁(kill john dog)"
      ]
     },
     "metadata": {},
     "output_type": "display_data"
    }
   ],
   "source": [
    "parse \"Mary was not allowed to see that John kills the dog\" | construct"
   ]
  },
  {
   "cell_type": "code",
   "execution_count": 152,
   "metadata": {},
   "outputs": [
    {
     "data": {
      "text/plain": [
       "👁john👁👁mary👁(run peter)"
      ]
     },
     "metadata": {},
     "output_type": "display_data"
    }
   ],
   "source": [
    "parse \"John sees that Mary sees that Peter runs\" | construct"
   ]
  },
  {
   "cell_type": "code",
   "execution_count": 153,
   "metadata": {},
   "outputs": [
    {
     "data": {
      "text/plain": [
       "(run mary)∧👁john👁(run mary)"
      ]
     },
     "metadata": {},
     "output_type": "display_data"
    }
   ],
   "source": [
    "parse \"Mary runs and John sees it\" | construct"
   ]
  },
  {
   "cell_type": "code",
   "execution_count": 154,
   "metadata": {},
   "outputs": [
    {
     "data": {
      "text/plain": [
       "👁john👁((run mary)∧¬👁peter👁(run mary))"
      ]
     },
     "metadata": {},
     "output_type": "display_data"
    },
    {
     "data": {
      "text/plain": [
       "👁john👁(run mary)∧¬👁peter👁(run mary)"
      ]
     },
     "metadata": {},
     "output_type": "display_data"
    },
    {
     "data": {
      "text/plain": [
       "👁john👁(run mary)∧¬👁peter👁👁john👁(run mary)"
      ]
     },
     "metadata": {},
     "output_type": "display_data"
    }
   ],
   "source": [
    "parse \"John sees that Mary runs but Peter does not see it\" | construct"
   ]
  },
  {
   "cell_type": "code",
   "execution_count": 155,
   "metadata": {},
   "outputs": [
    {
     "data": {
      "text/plain": [
       "□👁peter👁(run mary)∧👁john👁👁peter👁(run mary)"
      ]
     },
     "metadata": {},
     "output_type": "display_data"
    },
    {
     "data": {
      "text/plain": [
       "□(run mary)∧👁john👁👁peter👁(run mary)"
      ]
     },
     "metadata": {},
     "output_type": "display_data"
    }
   ],
   "source": [
    "parse \"it is necessary and John sees that Peter sees that Mary runs\" | construct"
   ]
  },
  {
   "cell_type": "code",
   "execution_count": 156,
   "metadata": {},
   "outputs": [
    {
     "data": {
      "text/plain": [
       "◇(understand mary john)∧(¬□(understand mary john)∧□◇(understand mary john))"
      ]
     },
     "metadata": {},
     "output_type": "display_data"
    },
    {
     "data": {
      "text/plain": [
       "(◇(understand mary john)∧¬□(understand mary john))∧□◇(understand mary john)"
      ]
     },
     "metadata": {},
     "output_type": "display_data"
    }
   ],
   "source": [
    "parse \"it is possible but it is not necessary but it has to be possible that Mary understands John\" | construct"
   ]
  },
  {
   "cell_type": "markdown",
   "metadata": {},
   "source": [
    "### Semantics construction test cases (new)"
   ]
  },
  {
   "cell_type": "code",
   "execution_count": 157,
   "metadata": {},
   "outputs": [
    {
     "data": {
      "text/plain": [
       "P (👁mary👁(kill john dog)∧◇👁mary👁(run john))"
      ]
     },
     "metadata": {},
     "output_type": "display_data"
    },
    {
     "data": {
      "text/plain": [
       "P 👁mary👁((kill john dog)∧◇👁mary👁(run john))"
      ]
     },
     "metadata": {},
     "output_type": "display_data"
    },
    {
     "data": {
      "text/plain": [
       "P 👁mary👁(kill john dog)∧P ◇👁mary👁(run john)"
      ]
     },
     "metadata": {},
     "output_type": "display_data"
    }
   ],
   "source": [
    "parse \"Mary saw that John killed the dog and Mary was allowed to see that John runs\" | construct"
   ]
  },
  {
   "cell_type": "code",
   "execution_count": 158,
   "metadata": {},
   "outputs": [
    {
     "data": {
      "text/plain": [
       "P (👁mary👁(kill john dog)∧◇👁mary👁(run john))"
      ]
     },
     "metadata": {},
     "output_type": "display_data"
    },
    {
     "data": {
      "text/plain": [
       "P 👁mary👁((kill john dog)∧◇👁mary👁(run john))"
      ]
     },
     "metadata": {},
     "output_type": "display_data"
    },
    {
     "data": {
      "text/plain": [
       "P 👁mary👁(kill john dog)∧P ◇👁mary👁(run john)"
      ]
     },
     "metadata": {},
     "output_type": "display_data"
    }
   ],
   "source": [
    "parse \"Mary saw that John killed the dog and Mary was allowed to see that John ran\" | construct"
   ]
  },
  {
   "cell_type": "code",
   "execution_count": 159,
   "metadata": {},
   "outputs": [
    {
     "data": {
      "text/plain": [
       "P (👁mary👁(kill john dog)∧◇👁mary👁F (run john))"
      ]
     },
     "metadata": {},
     "output_type": "display_data"
    },
    {
     "data": {
      "text/plain": [
       "P 👁mary👁((kill john dog)∧◇👁mary👁F (run john))"
      ]
     },
     "metadata": {},
     "output_type": "display_data"
    },
    {
     "data": {
      "text/plain": [
       "P 👁mary👁(kill john dog)∧P ◇👁mary👁F (run john)"
      ]
     },
     "metadata": {},
     "output_type": "display_data"
    }
   ],
   "source": [
    "parse \"Mary saw that John killed the dog and Mary was allowed to see that John will run\" | construct"
   ]
  },
  {
   "cell_type": "code",
   "execution_count": 160,
   "metadata": {},
   "outputs": [
    {
     "data": {
      "text/plain": [
       "P (👁mary👁(kill john dog)∧◇👁mary👁F (run john))"
      ]
     },
     "metadata": {},
     "output_type": "display_data"
    },
    {
     "data": {
      "text/plain": [
       "P 👁mary👁((kill john dog)∧◇👁mary👁F (run john))"
      ]
     },
     "metadata": {},
     "output_type": "display_data"
    },
    {
     "data": {
      "text/plain": [
       "P 👁mary👁(kill john dog)∧P ◇👁mary👁F (run john)"
      ]
     },
     "metadata": {},
     "output_type": "display_data"
    }
   ],
   "source": [
    "parse \"Mary saw that John killed the dog and Mary was allowed to see that John would run\" | construct"
   ]
  },
  {
   "cell_type": "code",
   "execution_count": 161,
   "metadata": {},
   "outputs": [
    {
     "data": {
      "text/plain": [
       "◇P 👁mary👁👁peter👁(kill john dog)"
      ]
     },
     "metadata": {},
     "output_type": "display_data"
    }
   ],
   "source": [
    "parse \"it is possible that Mary saw that Peter saw that John killed the dog\" | construct"
   ]
  },
  {
   "cell_type": "code",
   "execution_count": 162,
   "metadata": {},
   "outputs": [
    {
     "data": {
      "text/plain": [
       "P ◇👁mary👁👁peter👁(kill john dog)"
      ]
     },
     "metadata": {},
     "output_type": "display_data"
    }
   ],
   "source": [
    "parse \"it was possible that Mary saw that Peter saw that John killed the dog\" | construct"
   ]
  },
  {
   "cell_type": "code",
   "execution_count": 163,
   "metadata": {},
   "outputs": [
    {
     "data": {
      "text/plain": [
       "F □P 👁peter👁(run john)"
      ]
     },
     "metadata": {},
     "output_type": "display_data"
    }
   ],
   "source": [
    "parse \"Peter will have to have seen that John ran\" | construct"
   ]
  },
  {
   "cell_type": "code",
   "execution_count": 164,
   "metadata": {},
   "outputs": [
    {
     "data": {
      "text/plain": [
       "P F □👁peter👁P (run john)"
      ]
     },
     "metadata": {},
     "output_type": "display_data"
    }
   ],
   "source": [
    "parse \"Peter would have to see that John ran\" | construct"
   ]
  },
  {
   "cell_type": "code",
   "execution_count": 165,
   "metadata": {},
   "outputs": [
    {
     "data": {
      "text/plain": [
       "P F P □👁peter👁(run john)"
      ]
     },
     "metadata": {},
     "output_type": "display_data"
    }
   ],
   "source": [
    "parse \"Peter would have had to see that John ran\" | construct"
   ]
  },
  {
   "cell_type": "code",
   "execution_count": 166,
   "metadata": {},
   "outputs": [
    {
     "data": {
      "text/plain": [
       "P F P □P 👁peter👁(run john)"
      ]
     },
     "metadata": {},
     "output_type": "display_data"
    }
   ],
   "source": [
    "parse \"Peter would have had to have seen that John ran\" | construct"
   ]
  },
  {
   "cell_type": "code",
   "execution_count": 167,
   "metadata": {},
   "outputs": [
    {
     "data": {
      "text/plain": [
       "P F P □P 👁peter👁(run john)"
      ]
     },
     "metadata": {},
     "output_type": "display_data"
    }
   ],
   "source": [
    "parse \"Peter would have had to have seen that John had run\" | construct"
   ]
  },
  {
   "cell_type": "code",
   "execution_count": 168,
   "metadata": {},
   "outputs": [
    {
     "data": {
      "text/plain": [
       "F P □P 👁peter👁(run john)"
      ]
     },
     "metadata": {},
     "output_type": "display_data"
    }
   ],
   "source": [
    "parse \"Peter will have had to have seen that John ran\" | construct"
   ]
  },
  {
   "cell_type": "code",
   "execution_count": 169,
   "metadata": {},
   "outputs": [
    {
     "data": {
      "text/plain": [
       "F P □P 👁peter👁(run john)"
      ]
     },
     "metadata": {},
     "output_type": "display_data"
    }
   ],
   "source": [
    "parse \"Peter will have had to have seen that John had run\" | construct"
   ]
  },
  {
   "cell_type": "code",
   "execution_count": 170,
   "metadata": {},
   "outputs": [
    {
     "data": {
      "text/plain": [
       "P (◇(run john)∧□◇(run john))"
      ]
     },
     "metadata": {},
     "output_type": "display_data"
    },
    {
     "data": {
      "text/plain": [
       "P (◇(run john)∧□(run john))"
      ]
     },
     "metadata": {},
     "output_type": "display_data"
    },
    {
     "data": {
      "text/plain": [
       "P ◇(run john)∧P □(run john)"
      ]
     },
     "metadata": {},
     "output_type": "display_data"
    },
    {
     "data": {
      "text/plain": [
       "P ◇((run john)∧□(run john))"
      ]
     },
     "metadata": {},
     "output_type": "display_data"
    }
   ],
   "source": [
    "parse \"it was possible that John ran and it was necessary\" | construct"
   ]
  },
  {
   "cell_type": "code",
   "execution_count": 171,
   "metadata": {},
   "outputs": [
    {
     "data": {
      "text/plain": [
       "P ◇(run john)∧□(run john)"
      ]
     },
     "metadata": {},
     "output_type": "display_data"
    },
    {
     "data": {
      "text/plain": [
       "P ◇(run john)∧□P ◇(run john)"
      ]
     },
     "metadata": {},
     "output_type": "display_data"
    }
   ],
   "source": [
    "parse \"it was possible that John ran and it is necessary\" | construct"
   ]
  },
  {
   "cell_type": "code",
   "execution_count": 172,
   "metadata": {},
   "outputs": [
    {
     "data": {
      "text/plain": [
       "◇(👁mary👁(kill john dog)∧□👁mary👁(kill john dog))"
      ]
     },
     "metadata": {},
     "output_type": "display_data"
    },
    {
     "data": {
      "text/plain": [
       "◇👁mary👁((kill john dog)∧□(kill john dog))"
      ]
     },
     "metadata": {},
     "output_type": "display_data"
    },
    {
     "data": {
      "text/plain": [
       "◇👁mary👁(kill john dog)∧□👁mary👁(kill john dog)"
      ]
     },
     "metadata": {},
     "output_type": "display_data"
    },
    {
     "data": {
      "text/plain": [
       "◇👁mary👁(kill john dog)∧□(kill john dog)"
      ]
     },
     "metadata": {},
     "output_type": "display_data"
    },
    {
     "data": {
      "text/plain": [
       "◇(👁mary👁(kill john dog)∧□(kill john dog))"
      ]
     },
     "metadata": {},
     "output_type": "display_data"
    },
    {
     "data": {
      "text/plain": [
       "◇👁mary👁(kill john dog)∧□◇👁mary👁(kill john dog)"
      ]
     },
     "metadata": {},
     "output_type": "display_data"
    }
   ],
   "source": [
    "parse \"it is possible that Mary sees that John kills the dog and it is necessary\" | construct"
   ]
  }
 ],
 "metadata": {
  "kernelspec": {
   "display_name": "GLIF",
   "language": "gf",
   "name": "glif"
  },
  "language_info": {
   "codemirror_mode": {
    "name": "gf",
    "version": 3
   },
   "file_extension": ".gf",
   "mimetype": "text/gf",
   "name": "gf"
  }
 },
 "nbformat": 4,
 "nbformat_minor": 4
}
