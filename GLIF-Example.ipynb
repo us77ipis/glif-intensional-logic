{
 "cells": [
  {
   "cell_type": "markdown",
   "metadata": {},
   "source": [
    "# GLIF Example\n",
    "\n",
    "This is the introductory GLIF Example shown at the beginning of the paper.\n",
    "\n",
    "The fragment of this example is able to interpret the sentence \"John runs and Mary doesn't run\" as `(run john)∧¬(run mary)`\n",
    "\n",
    "## Parsing"
   ]
  },
  {
   "cell_type": "code",
   "execution_count": 1,
   "metadata": {},
   "outputs": [
    {
     "data": {
      "text/plain": [
       "Defined TestGrammar"
      ]
     },
     "metadata": {},
     "output_type": "display_data"
    }
   ],
   "source": [
    "abstract TestGrammar = {\n",
    "    cat\n",
    "        S;     -- Sentence\n",
    "        V;     -- Verb\n",
    "        Npr;   -- Proper noun\n",
    "        Conj;  -- Conjunction\n",
    "    fun\n",
    "        -- Positive sentence: \"John runs\"\n",
    "        spos : Npr -> V -> S;\n",
    "        -- Negative sentence: \"John doesn't run\"\n",
    "        sneg : Npr -> V -> S;\n",
    "        -- Connected sentence:\n",
    "        -- \"John runs and Mary doesn't run\"\n",
    "        sconj : S -> Conj -> S -> S;\n",
    "        \n",
    "        -- Verbs\n",
    "        run, jump : V;\n",
    "        -- Proper nouns\n",
    "        john, mary : Npr;\n",
    "        -- Conjunctions\n",
    "        and, or : Conj;\n",
    "}"
   ]
  },
  {
   "cell_type": "code",
   "execution_count": 2,
   "metadata": {},
   "outputs": [],
   "source": [
    "concrete TestGrammarEng of TestGrammar = {\n",
    "    oper\n",
    "        -- The type of a verb\n",
    "        VType : Type = { pos : Str ; neg : Str };\n",
    "    lincat\n",
    "        S = Str;     -- Sentence\n",
    "        V = VType;   -- Verb\n",
    "        Npr = Str;   -- Proper noun\n",
    "        Conj = Str;  -- Conjunction\n",
    "    oper\n",
    "        -- Helper function to construct verb\n",
    "        -- mkV \"run\" = { pos = \"runs\" ; neg = \"doesn't run\"}\n",
    "        mkV : Str -> VType =\n",
    "            \\v -> { pos = v + \"s\" ; neg = \"doesn't\" ++ v };\n",
    "    lin\n",
    "        -- Positive sentence: \"John runs\"\n",
    "        -- spos : Npr -> V -> S\n",
    "        spos npr v = npr ++ v.pos;\n",
    "        -- Negative sentence: \"John doesn't run\"\n",
    "        -- sneg : Npr -> V -> S\n",
    "        sneg npr v = npr ++ v.neg;\n",
    "        -- Connected sentence:\n",
    "        -- \"John runs and Mary doesn't run\"\n",
    "        -- sconj : S -> Conj -> S -> S\n",
    "        sconj s1 c s2 = s1 ++ c ++ s2;\n",
    "        \n",
    "        -- Verbs\n",
    "        run = mkV \"run\";\n",
    "        jump = mkV \"jump\";\n",
    "        -- Proper nouns\n",
    "        john = \"John\"; mary = \"Mary\";\n",
    "        -- Conjunctions\n",
    "        and = \"and\"; or = \"or\";\n",
    "}"
   ]
  },
  {
   "cell_type": "markdown",
   "metadata": {},
   "source": [
    "### Parsing test cases"
   ]
  },
  {
   "cell_type": "code",
   "execution_count": 3,
   "metadata": {},
   "outputs": [
    {
     "data": {
      "text/plain": [
       "spos john run"
      ]
     },
     "metadata": {},
     "output_type": "display_data"
    }
   ],
   "source": [
    "parse \"John runs\""
   ]
  },
  {
   "cell_type": "code",
   "execution_count": 4,
   "metadata": {},
   "outputs": [
    {
     "data": {
      "text/plain": [
       "sneg john run"
      ]
     },
     "metadata": {},
     "output_type": "display_data"
    }
   ],
   "source": [
    "parse \"John doesn't run\""
   ]
  },
  {
   "cell_type": "code",
   "execution_count": 5,
   "metadata": {},
   "outputs": [
    {
     "data": {
      "text/plain": [
       "sconj (spos john run) and (sneg mary run)"
      ]
     },
     "metadata": {},
     "output_type": "display_data"
    }
   ],
   "source": [
    "parse \"John runs and Mary doesn't run\""
   ]
  },
  {
   "cell_type": "code",
   "execution_count": 6,
   "metadata": {},
   "outputs": [
    {
     "data": {
      "text/plain": [
       "sconj (sneg john jump) or (spos mary run)"
      ]
     },
     "metadata": {},
     "output_type": "display_data"
    }
   ],
   "source": [
    "parse \"John doesn't jump or Mary runs\""
   ]
  },
  {
   "cell_type": "markdown",
   "metadata": {},
   "source": [
    "## Semantics construction"
   ]
  },
  {
   "cell_type": "code",
   "execution_count": 7,
   "metadata": {},
   "outputs": [
    {
     "data": {
      "text/plain": [
       "Created theory plnq"
      ]
     },
     "metadata": {},
     "output_type": "display_data"
    }
   ],
   "source": [
    "theory plnq : ur:?LF =\n",
    "    proposition : type ❘ # o ❙\n",
    "    individual : type ❘ # ι ❙\n",
    "    \n",
    "    not : o ⟶ o         ❘ # ¬ 1 prec 100 ❙\n",
    "    and : o ⟶ o ⟶ o     ❘ # 1 ∧ 2 prec 90 ❙\n",
    "    \n",
    "    or : o ⟶ o ⟶ o      ❘ # 1 ∨ 2 prec 80\n",
    "                        ❘ = [a,b] ¬ (¬ a ∧ ¬ b) ❙\n",
    "❚\n",
    "\n",
    "theory plnqTest : ?plnq =\n",
    "    // individuals ❙\n",
    "    john : ι ❙ mary : ι ❙\n",
    "    // verbs ❙\n",
    "    run : ι ⟶ o ❙ jump : ι ⟶ o ❙\n",
    "❚"
   ]
  },
  {
   "cell_type": "code",
   "execution_count": 8,
   "metadata": {},
   "outputs": [
    {
     "data": {
      "text/plain": [
       "Created view semantics"
      ]
     },
     "metadata": {},
     "output_type": "display_data"
    }
   ],
   "source": [
    "view semantics : http://mathhub.info/comma/jupyter/TestGrammar.gf?TestGrammar -> ?plnqTest =\n",
    "    S = o ❙             // Sentence ❙\n",
    "    V = ι ⟶ o ❙         // Verb ❙\n",
    "    Npr = ι ❙           // Proper noun ❙\n",
    "    Conj = o ⟶ o ⟶ o ❙  // Conjunction ❙\n",
    "    \n",
    "    // Positive sentence: \"John runs\"\n",
    "    // spos : Npr -> V -> S ❙\n",
    "    spos = [npr, v] v npr ❙\n",
    "    // Negative sentence: \"John doesn't run\"\n",
    "    // sneg : Npr -> V -> S ❙\n",
    "    sneg = [npr, v] ¬(v npr) ❙\n",
    "    // Connected sentence:\n",
    "    // \"John runs and Mary doesn't run\"\n",
    "    // sconj : S -> Conj -> S -> S ❙\n",
    "    sconj = [s1, conj, s2] conj s1 s2 ❙\n",
    "    \n",
    "    // Verbs ❙\n",
    "    run = run ❙ jump = jump ❙\n",
    "    // Proper nouns ❙\n",
    "    john = john ❙ mary = mary ❙\n",
    "    // Conjunctions ❙\n",
    "    and = and ❙ or = or ❙\n",
    "❚"
   ]
  },
  {
   "cell_type": "markdown",
   "metadata": {},
   "source": [
    "### Semantics construction test cases"
   ]
  },
  {
   "cell_type": "code",
   "execution_count": 9,
   "metadata": {},
   "outputs": [
    {
     "data": {
      "text/plain": [
       "run john"
      ]
     },
     "metadata": {},
     "output_type": "display_data"
    }
   ],
   "source": [
    "parse \"John runs\" | construct"
   ]
  },
  {
   "cell_type": "code",
   "execution_count": 10,
   "metadata": {},
   "outputs": [
    {
     "data": {
      "text/plain": [
       "¬(run john)"
      ]
     },
     "metadata": {},
     "output_type": "display_data"
    }
   ],
   "source": [
    "parse \"John doesn't run\" | construct"
   ]
  },
  {
   "cell_type": "code",
   "execution_count": 11,
   "metadata": {},
   "outputs": [
    {
     "data": {
      "text/plain": [
       "(run john)∧¬(run mary)"
      ]
     },
     "metadata": {},
     "output_type": "display_data"
    }
   ],
   "source": [
    "parse \"John runs and Mary doesn't run\" | construct"
   ]
  },
  {
   "cell_type": "code",
   "execution_count": 12,
   "metadata": {},
   "outputs": [
    {
     "data": {
      "text/plain": [
       "¬(jump john)∨(run mary)"
      ]
     },
     "metadata": {},
     "output_type": "display_data"
    }
   ],
   "source": [
    "parse \"John doesn't jump or Mary runs\" | construct"
   ]
  }
 ],
 "metadata": {
  "kernelspec": {
   "display_name": "GLIF",
   "language": "gf",
   "name": "glif"
  },
  "language_info": {
   "codemirror_mode": {
    "name": "gf",
    "version": 3
   },
   "file_extension": ".gf",
   "mimetype": "text/gf",
   "name": "gf"
  }
 },
 "nbformat": 4,
 "nbformat_minor": 4
}
